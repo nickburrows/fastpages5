{
  "cells": [
    {
      "cell_type": "markdown",
      "metadata": {
        "papermill": {
          "duration": 0.038492,
          "end_time": "2020-04-30T06:07:48.264897",
          "exception": false,
          "start_time": "2020-04-30T06:07:48.226405",
          "status": "completed"
        },
        "tags": [],
        "id": "qodKawvurZmv"
      },
      "source": [
        "# 存取台灣 COVID-19 疫情數據並繪製疾管署趨勢圖表\n",
        "> 本文展示如何透過 Python 存取由衛福部疾管署公布、廣大鄉民整理的最新疫情數據並製作基本的趨勢圖表。如果這是你第一次知曉此專案，請由此開始閱讀。\n",
        "\n",
        "- toc: true\n",
        "- comments: false\n",
        "- image: images/cover/article/clement-souchet-fUvxHs5NC1o-unsplash.jpg\n",
        "- image_credit_url: https://unsplash.com/@windclems?utm_source=unsplash&utm_medium=referral&utm_content=creditCopyText\n",
        "- categories: [資料視覺化, altair, pandas]"
      ]
    },
    {
      "cell_type": "markdown",
      "metadata": {
        "papermill": {
          "duration": 0.036351,
          "end_time": "2020-04-30T06:07:48.334900",
          "exception": false,
          "start_time": "2020-04-30T06:07:48.298549",
          "status": "completed"
        },
        "tags": [],
        "id": "n-6SxqsXrZmy"
      },
      "source": [
        "> quote: 多數人透過實際聆聽音樂來了解其優美之處，但當他們被要求呈現統計數據時卻常常只秀出冷冰冰的音符，而不實際演奏這些音符所代表的音樂。|漢斯・羅斯林"
      ]
    },
    {
      "cell_type": "markdown",
      "metadata": {
        "papermill": {
          "duration": 0.032093,
          "end_time": "2020-04-30T06:07:48.405800",
          "exception": false,
          "start_time": "2020-04-30T06:07:48.373707",
          "status": "completed"
        },
        "tags": [],
        "id": "t393M9GkrZmz"
      },
      "source": [
        "我們在[《真確》：如何用 30 秒了解台灣發展與全球趨勢](https://leemeng.tw/gapminder.html)時提過，一張設計良好的資訊圖表遠比一堆冷冰冰的統計數據更能為眾人提供價值。在這篇文章裡，你將了解如何透過幾行簡單的 [Python](https://www.python.org/) 程式碼來取得與台灣相關的 COVID-19 數據，並製作與[衛福部疾管署](https://www.cdc.gov.tw/)首頁相似的趨勢圖表。讀完本文你可以發揮自己的創意生成新的資訊圖表，進一步了解 COVID-19 疫情。"
      ]
    },
    {
      "cell_type": "markdown",
      "metadata": {
        "papermill": {
          "duration": 0.03969,
          "end_time": "2020-04-30T06:07:48.484003",
          "exception": false,
          "start_time": "2020-04-30T06:07:48.444313",
          "status": "completed"
        },
        "tags": [],
        "id": "vIb0N6SMrZmz"
      },
      "source": [
        "> img: intro/taiwan-cnc-numbers.jpg|desc:大家都很熟悉的畫面：台灣 COVID-19 最新疫情趨勢|dark|url:https://www.cdc.gov.tw/|source:衛福部疾管署首頁"
      ]
    },
    {
      "cell_type": "markdown",
      "metadata": {
        "papermill": {
          "duration": 0.031247,
          "end_time": "2020-04-30T06:07:48.556739",
          "exception": false,
          "start_time": "2020-04-30T06:07:48.525492",
          "status": "completed"
        },
        "tags": [],
        "id": "1Rd6bPN9rZm0"
      },
      "source": [
        "這邊值得一提的是以上截圖並不反應最新疫情。事實上，圖中的實際數值也並不那麼重要。你只需稍微了解有哪些指標（確診數、送驗數等）以及兩張圖分別想要呈現的疫情趨勢即可。我們馬上就會透過 [LeafLu 與眾多 PTT 鄉民](https://www.ptt.cc/bbs/nCoV2019/M.1585017075.A.3E7.html)辛勤為社會大眾整理的 [Google 試算表](https://docs.google.com/spreadsheets/d/1Kp5IC5IEI2ffaOSZY1daYoi2u50bjUHJW-IgfHoEq8o/edit#gid=0)來取得疾管署公布的最新疫情結果。以下就是我們即將存取的試算表："
      ]
    },
    {
      "cell_type": "markdown",
      "metadata": {
        "papermill": {
          "duration": 0.042518,
          "end_time": "2020-04-30T06:07:48.633961",
          "exception": false,
          "start_time": "2020-04-30T06:07:48.591443",
          "status": "completed"
        },
        "tags": [],
        "id": "9MlqgMyLrZm0"
      },
      "source": [
        "> img: intro/ppt-taiwan-covid-sheet.jpg|desc:眾多鄉民在 Google 試算表上整理的疫情數據，感謝他們的辛勤付出|dark|url:https://docs.google.com/spreadsheets/d/1Kp5IC5IEI2ffaOSZY1daYoi2u50bjUHJW-IgfHoEq8o/edit#gid=0"
      ]
    },
    {
      "cell_type": "markdown",
      "metadata": {
        "papermill": {
          "duration": 0.032288,
          "end_time": "2020-04-30T06:07:48.698888",
          "exception": false,
          "start_time": "2020-04-30T06:07:48.666600",
          "status": "completed"
        },
        "tags": [],
        "id": "3VzmHlSYrZm1"
      },
      "source": [
        "這個試算表定期更新台灣所有的確診案例以及其他相關疫情資訊，十分強大。另外注意我們即將使用的是分流版本的試算表，以盡可能減少對主要試算表的存取要求。你當然也可以自行打開[該試算表](https://docs.google.com/spreadsheets/d/1Kp5IC5IEI2ffaOSZY1daYoi2u50bjUHJW-IgfHoEq8o/edit#gid=0)並 Ctrl + C、Ctrl + V 複製自己想要的數據，但我們可以更聰明一點，用 Python 自動化這些步驟。"
      ]
    },
    {
      "cell_type": "markdown",
      "metadata": {
        "papermill": {
          "duration": 0.039206,
          "end_time": "2020-04-30T06:07:48.770082",
          "exception": false,
          "start_time": "2020-04-30T06:07:48.730876",
          "status": "completed"
        },
        "tags": [],
        "id": "fVutLtAMrZm2"
      },
      "source": [
        "## 使用 Pandas 存取試算表內容"
      ]
    },
    {
      "cell_type": "markdown",
      "metadata": {
        "papermill": {
          "duration": 0.032265,
          "end_time": "2020-04-30T06:07:48.839307",
          "exception": false,
          "start_time": "2020-04-30T06:07:48.807042",
          "status": "completed"
        },
        "tags": [],
        "id": "VTLdNrWirZm2"
      },
      "source": [
        "> quote: <a href=\"https://pandas.pydata.org/\" target=\"_blank\">pandas</a> 建立在 Python 程式語言之上，是一個快速、強大且具備彈性的資料分析與數據處理工具。pandas 也是資料科學家不可不掌握的數據處理利器之一。"
      ]
    },
    {
      "cell_type": "markdown",
      "metadata": {
        "papermill": {
          "duration": 0.032034,
          "end_time": "2020-04-30T06:07:48.904535",
          "exception": false,
          "start_time": "2020-04-30T06:07:48.872501",
          "status": "completed"
        },
        "tags": [],
        "id": "V5I3uI5prZm3"
      },
      "source": [
        "整個專案我們都將使用資料科學家們已經十分熟悉的 [pandas](https://pandas.pydata.org/) 來處理疫情相關的數據。如果這是你第一次知曉 pandas 並打算快速且有系統地學習，稍後可以參考[資料科學家的 pandas 實戰手冊：掌握 40 個實用數據技巧](https://leemeng.tw/practical-pandas-tutorial-for-aspiring-data-scientists.html)。不過要用 pandas 存取公開的 Google 試算表十分容易。比方說我們現在想要取得[台灣 COVID-19 的檢驗人數](https://docs.google.com/spreadsheets/d/1Kp5IC5IEI2ffaOSZY1daYoi2u50bjUHJW-IgfHoEq8o/edit#gid=1173642744)："
      ]
    },
    {
      "cell_type": "code",
      "execution_count": null,
      "metadata": {
        "execution": {
          "iopub.execute_input": "2020-04-30T06:07:48.975323Z",
          "iopub.status.busy": "2020-04-30T06:07:48.974589Z",
          "iopub.status.idle": "2020-04-30T06:07:50.426771Z",
          "shell.execute_reply": "2020-04-30T06:07:50.425460Z"
        },
        "papermill": {
          "duration": 1.490973,
          "end_time": "2020-04-30T06:07:50.426913",
          "exception": false,
          "start_time": "2020-04-30T06:07:48.935940",
          "status": "completed"
        },
        "tags": [],
        "id": "tqrQKl0grZm3",
        "outputId": "693e877e-e550-4c78-c9de-84c24d31292a",
        "colab": {
          "base_uri": "https://localhost:8080/",
          "height": 206
        }
      },
      "outputs": [
        {
          "output_type": "execute_result",
          "data": {
            "text/plain": [
              "            確定病名       個案研判日   縣市   鄉鎮 性別 是否為境外移入    年齡層  確定病例數\n",
              "66022  嚴重特殊傳染性肺炎  2022/05/03  澎湖縣  馬公市  男       否  40-44      1\n",
              "66023  嚴重特殊傳染性肺炎  2022/05/03  澎湖縣  馬公市  男       否    5-9      1\n",
              "66024  嚴重特殊傳染性肺炎  2022/05/03  澎湖縣  馬公市  男       否    70+      1\n",
              "66025  嚴重特殊傳染性肺炎  2022/05/03  澎湖縣  湖西鄉  女       否  30-34      1\n",
              "66026  嚴重特殊傳染性肺炎  2022/05/03  澎湖縣  湖西鄉  女       否  35-39      1"
            ],
            "text/html": [
              "\n",
              "  <div id=\"df-5e95725f-aea7-47cb-8c05-3069abe10dd7\">\n",
              "    <div class=\"colab-df-container\">\n",
              "      <div>\n",
              "<style scoped>\n",
              "    .dataframe tbody tr th:only-of-type {\n",
              "        vertical-align: middle;\n",
              "    }\n",
              "\n",
              "    .dataframe tbody tr th {\n",
              "        vertical-align: top;\n",
              "    }\n",
              "\n",
              "    .dataframe thead th {\n",
              "        text-align: right;\n",
              "    }\n",
              "</style>\n",
              "<table border=\"1\" class=\"dataframe\">\n",
              "  <thead>\n",
              "    <tr style=\"text-align: right;\">\n",
              "      <th></th>\n",
              "      <th>確定病名</th>\n",
              "      <th>個案研判日</th>\n",
              "      <th>縣市</th>\n",
              "      <th>鄉鎮</th>\n",
              "      <th>性別</th>\n",
              "      <th>是否為境外移入</th>\n",
              "      <th>年齡層</th>\n",
              "      <th>確定病例數</th>\n",
              "    </tr>\n",
              "  </thead>\n",
              "  <tbody>\n",
              "    <tr>\n",
              "      <th>66022</th>\n",
              "      <td>嚴重特殊傳染性肺炎</td>\n",
              "      <td>2022/05/03</td>\n",
              "      <td>澎湖縣</td>\n",
              "      <td>馬公市</td>\n",
              "      <td>男</td>\n",
              "      <td>否</td>\n",
              "      <td>40-44</td>\n",
              "      <td>1</td>\n",
              "    </tr>\n",
              "    <tr>\n",
              "      <th>66023</th>\n",
              "      <td>嚴重特殊傳染性肺炎</td>\n",
              "      <td>2022/05/03</td>\n",
              "      <td>澎湖縣</td>\n",
              "      <td>馬公市</td>\n",
              "      <td>男</td>\n",
              "      <td>否</td>\n",
              "      <td>5-9</td>\n",
              "      <td>1</td>\n",
              "    </tr>\n",
              "    <tr>\n",
              "      <th>66024</th>\n",
              "      <td>嚴重特殊傳染性肺炎</td>\n",
              "      <td>2022/05/03</td>\n",
              "      <td>澎湖縣</td>\n",
              "      <td>馬公市</td>\n",
              "      <td>男</td>\n",
              "      <td>否</td>\n",
              "      <td>70+</td>\n",
              "      <td>1</td>\n",
              "    </tr>\n",
              "    <tr>\n",
              "      <th>66025</th>\n",
              "      <td>嚴重特殊傳染性肺炎</td>\n",
              "      <td>2022/05/03</td>\n",
              "      <td>澎湖縣</td>\n",
              "      <td>湖西鄉</td>\n",
              "      <td>女</td>\n",
              "      <td>否</td>\n",
              "      <td>30-34</td>\n",
              "      <td>1</td>\n",
              "    </tr>\n",
              "    <tr>\n",
              "      <th>66026</th>\n",
              "      <td>嚴重特殊傳染性肺炎</td>\n",
              "      <td>2022/05/03</td>\n",
              "      <td>澎湖縣</td>\n",
              "      <td>湖西鄉</td>\n",
              "      <td>女</td>\n",
              "      <td>否</td>\n",
              "      <td>35-39</td>\n",
              "      <td>1</td>\n",
              "    </tr>\n",
              "  </tbody>\n",
              "</table>\n",
              "</div>\n",
              "      <button class=\"colab-df-convert\" onclick=\"convertToInteractive('df-5e95725f-aea7-47cb-8c05-3069abe10dd7')\"\n",
              "              title=\"Convert this dataframe to an interactive table.\"\n",
              "              style=\"display:none;\">\n",
              "        \n",
              "  <svg xmlns=\"http://www.w3.org/2000/svg\" height=\"24px\"viewBox=\"0 0 24 24\"\n",
              "       width=\"24px\">\n",
              "    <path d=\"M0 0h24v24H0V0z\" fill=\"none\"/>\n",
              "    <path d=\"M18.56 5.44l.94 2.06.94-2.06 2.06-.94-2.06-.94-.94-2.06-.94 2.06-2.06.94zm-11 1L8.5 8.5l.94-2.06 2.06-.94-2.06-.94L8.5 2.5l-.94 2.06-2.06.94zm10 10l.94 2.06.94-2.06 2.06-.94-2.06-.94-.94-2.06-.94 2.06-2.06.94z\"/><path d=\"M17.41 7.96l-1.37-1.37c-.4-.4-.92-.59-1.43-.59-.52 0-1.04.2-1.43.59L10.3 9.45l-7.72 7.72c-.78.78-.78 2.05 0 2.83L4 21.41c.39.39.9.59 1.41.59.51 0 1.02-.2 1.41-.59l7.78-7.78 2.81-2.81c.8-.78.8-2.07 0-2.86zM5.41 20L4 18.59l7.72-7.72 1.47 1.35L5.41 20z\"/>\n",
              "  </svg>\n",
              "      </button>\n",
              "      \n",
              "  <style>\n",
              "    .colab-df-container {\n",
              "      display:flex;\n",
              "      flex-wrap:wrap;\n",
              "      gap: 12px;\n",
              "    }\n",
              "\n",
              "    .colab-df-convert {\n",
              "      background-color: #E8F0FE;\n",
              "      border: none;\n",
              "      border-radius: 50%;\n",
              "      cursor: pointer;\n",
              "      display: none;\n",
              "      fill: #1967D2;\n",
              "      height: 32px;\n",
              "      padding: 0 0 0 0;\n",
              "      width: 32px;\n",
              "    }\n",
              "\n",
              "    .colab-df-convert:hover {\n",
              "      background-color: #E2EBFA;\n",
              "      box-shadow: 0px 1px 2px rgba(60, 64, 67, 0.3), 0px 1px 3px 1px rgba(60, 64, 67, 0.15);\n",
              "      fill: #174EA6;\n",
              "    }\n",
              "\n",
              "    [theme=dark] .colab-df-convert {\n",
              "      background-color: #3B4455;\n",
              "      fill: #D2E3FC;\n",
              "    }\n",
              "\n",
              "    [theme=dark] .colab-df-convert:hover {\n",
              "      background-color: #434B5C;\n",
              "      box-shadow: 0px 1px 3px 1px rgba(0, 0, 0, 0.15);\n",
              "      filter: drop-shadow(0px 1px 2px rgba(0, 0, 0, 0.3));\n",
              "      fill: #FFFFFF;\n",
              "    }\n",
              "  </style>\n",
              "\n",
              "      <script>\n",
              "        const buttonEl =\n",
              "          document.querySelector('#df-5e95725f-aea7-47cb-8c05-3069abe10dd7 button.colab-df-convert');\n",
              "        buttonEl.style.display =\n",
              "          google.colab.kernel.accessAllowed ? 'block' : 'none';\n",
              "\n",
              "        async function convertToInteractive(key) {\n",
              "          const element = document.querySelector('#df-5e95725f-aea7-47cb-8c05-3069abe10dd7');\n",
              "          const dataTable =\n",
              "            await google.colab.kernel.invokeFunction('convertToInteractive',\n",
              "                                                     [key], {});\n",
              "          if (!dataTable) return;\n",
              "\n",
              "          const docLinkHtml = 'Like what you see? Visit the ' +\n",
              "            '<a target=\"_blank\" href=https://colab.research.google.com/notebooks/data_table.ipynb>data table notebook</a>'\n",
              "            + ' to learn more about interactive tables.';\n",
              "          element.innerHTML = '';\n",
              "          dataTable['output_type'] = 'display_data';\n",
              "          await google.colab.output.renderOutput(dataTable, element);\n",
              "          const docLink = document.createElement('div');\n",
              "          docLink.innerHTML = docLinkHtml;\n",
              "          element.appendChild(docLink);\n",
              "        }\n",
              "      </script>\n",
              "    </div>\n",
              "  </div>\n",
              "  "
            ]
          },
          "metadata": {},
          "execution_count": 8
        }
      ],
      "source": [
        "import pandas as pd  # 用 pandas 的標準起手式\n",
        "\n",
        "# Google 試算表的基本 url pattern\n",
        "GOOGLE_SHEET_URL = \"https://docs.google.com/spreadsheets/d/{}/export?gid={}&format=csv\"\n",
        "\n",
        "FILE_URL = \"https://od.cdc.gov.tw/eic/Day_Confirmation_Age_County_Gender_19CoV.csv\"\n",
        "\n",
        "# 透過 `pd.read_csv` 函式直接透過 url 將 Google 試算表轉成 DataFrame 並做簡單數據前處理\n",
        "columns = ['確定病名','個案研判日','縣市','鄉鎮','性別','是否為境外移入','年齡層','確定病例數']\n",
        "\n",
        "tests = (\n",
        "    pd.read_csv(FILE_URL)\n",
        "    .loc[:, columns]  # 這邊我們為了畫面簡潔只選出需要使用的欄位\n",
        ")\n",
        "\n",
        "# 補空值、將浮點數改為整數方便閱讀\n",
        "tests.fillna(value={col: 0 for col in tests.columns[1:]}, inplace=True)\n",
        "# for col in tests.columns[1:]:\n",
        "#     tests[col] = tests[col].astype(int)\n",
        "\n",
        "# 顯示最新幾天的檢驗數據\n",
        "tests.tail()"
      ]
    },
    {
      "cell_type": "code",
      "source": [
        "import pandas as pd  # 用 pandas 的標準起手式\n",
        "\n",
        "FILE_URL = \"https://od.cdc.gov.tw/eic/Day_Confirmation_Age_County_Gender_19CoV.csv\"\n",
        "\n",
        "columns = ['個案研判日','是否為境外移入','確定病例數']\n",
        "\n",
        "tests = pd.read_csv(FILE_URL).loc[:, columns]\n",
        "\n",
        "tests.rename(columns={\"個案研判日\": \"日期\", '是否為境外移入': '境外', '確定病例數': '確診'}, inplace=True)\n",
        "\n",
        "# 顯示最新幾天的檢驗數據\n",
        "tests.tail()"
      ],
      "metadata": {
        "colab": {
          "base_uri": "https://localhost:8080/",
          "height": 206
        },
        "id": "JHrLfdPJsNDs",
        "outputId": "d92db129-d76d-4e52-fc9f-b37f4c6565a6"
      },
      "execution_count": null,
      "outputs": [
        {
          "output_type": "execute_result",
          "data": {
            "text/plain": [
              "               日期 境外  確診\n",
              "66022  2022/05/03  否   1\n",
              "66023  2022/05/03  否   1\n",
              "66024  2022/05/03  否   1\n",
              "66025  2022/05/03  否   1\n",
              "66026  2022/05/03  否   1"
            ],
            "text/html": [
              "\n",
              "  <div id=\"df-80486a75-fccb-42dd-8d5c-25f0c9b5bb7a\">\n",
              "    <div class=\"colab-df-container\">\n",
              "      <div>\n",
              "<style scoped>\n",
              "    .dataframe tbody tr th:only-of-type {\n",
              "        vertical-align: middle;\n",
              "    }\n",
              "\n",
              "    .dataframe tbody tr th {\n",
              "        vertical-align: top;\n",
              "    }\n",
              "\n",
              "    .dataframe thead th {\n",
              "        text-align: right;\n",
              "    }\n",
              "</style>\n",
              "<table border=\"1\" class=\"dataframe\">\n",
              "  <thead>\n",
              "    <tr style=\"text-align: right;\">\n",
              "      <th></th>\n",
              "      <th>日期</th>\n",
              "      <th>境外</th>\n",
              "      <th>確診</th>\n",
              "    </tr>\n",
              "  </thead>\n",
              "  <tbody>\n",
              "    <tr>\n",
              "      <th>66022</th>\n",
              "      <td>2022/05/03</td>\n",
              "      <td>否</td>\n",
              "      <td>1</td>\n",
              "    </tr>\n",
              "    <tr>\n",
              "      <th>66023</th>\n",
              "      <td>2022/05/03</td>\n",
              "      <td>否</td>\n",
              "      <td>1</td>\n",
              "    </tr>\n",
              "    <tr>\n",
              "      <th>66024</th>\n",
              "      <td>2022/05/03</td>\n",
              "      <td>否</td>\n",
              "      <td>1</td>\n",
              "    </tr>\n",
              "    <tr>\n",
              "      <th>66025</th>\n",
              "      <td>2022/05/03</td>\n",
              "      <td>否</td>\n",
              "      <td>1</td>\n",
              "    </tr>\n",
              "    <tr>\n",
              "      <th>66026</th>\n",
              "      <td>2022/05/03</td>\n",
              "      <td>否</td>\n",
              "      <td>1</td>\n",
              "    </tr>\n",
              "  </tbody>\n",
              "</table>\n",
              "</div>\n",
              "      <button class=\"colab-df-convert\" onclick=\"convertToInteractive('df-80486a75-fccb-42dd-8d5c-25f0c9b5bb7a')\"\n",
              "              title=\"Convert this dataframe to an interactive table.\"\n",
              "              style=\"display:none;\">\n",
              "        \n",
              "  <svg xmlns=\"http://www.w3.org/2000/svg\" height=\"24px\"viewBox=\"0 0 24 24\"\n",
              "       width=\"24px\">\n",
              "    <path d=\"M0 0h24v24H0V0z\" fill=\"none\"/>\n",
              "    <path d=\"M18.56 5.44l.94 2.06.94-2.06 2.06-.94-2.06-.94-.94-2.06-.94 2.06-2.06.94zm-11 1L8.5 8.5l.94-2.06 2.06-.94-2.06-.94L8.5 2.5l-.94 2.06-2.06.94zm10 10l.94 2.06.94-2.06 2.06-.94-2.06-.94-.94-2.06-.94 2.06-2.06.94z\"/><path d=\"M17.41 7.96l-1.37-1.37c-.4-.4-.92-.59-1.43-.59-.52 0-1.04.2-1.43.59L10.3 9.45l-7.72 7.72c-.78.78-.78 2.05 0 2.83L4 21.41c.39.39.9.59 1.41.59.51 0 1.02-.2 1.41-.59l7.78-7.78 2.81-2.81c.8-.78.8-2.07 0-2.86zM5.41 20L4 18.59l7.72-7.72 1.47 1.35L5.41 20z\"/>\n",
              "  </svg>\n",
              "      </button>\n",
              "      \n",
              "  <style>\n",
              "    .colab-df-container {\n",
              "      display:flex;\n",
              "      flex-wrap:wrap;\n",
              "      gap: 12px;\n",
              "    }\n",
              "\n",
              "    .colab-df-convert {\n",
              "      background-color: #E8F0FE;\n",
              "      border: none;\n",
              "      border-radius: 50%;\n",
              "      cursor: pointer;\n",
              "      display: none;\n",
              "      fill: #1967D2;\n",
              "      height: 32px;\n",
              "      padding: 0 0 0 0;\n",
              "      width: 32px;\n",
              "    }\n",
              "\n",
              "    .colab-df-convert:hover {\n",
              "      background-color: #E2EBFA;\n",
              "      box-shadow: 0px 1px 2px rgba(60, 64, 67, 0.3), 0px 1px 3px 1px rgba(60, 64, 67, 0.15);\n",
              "      fill: #174EA6;\n",
              "    }\n",
              "\n",
              "    [theme=dark] .colab-df-convert {\n",
              "      background-color: #3B4455;\n",
              "      fill: #D2E3FC;\n",
              "    }\n",
              "\n",
              "    [theme=dark] .colab-df-convert:hover {\n",
              "      background-color: #434B5C;\n",
              "      box-shadow: 0px 1px 3px 1px rgba(0, 0, 0, 0.15);\n",
              "      filter: drop-shadow(0px 1px 2px rgba(0, 0, 0, 0.3));\n",
              "      fill: #FFFFFF;\n",
              "    }\n",
              "  </style>\n",
              "\n",
              "      <script>\n",
              "        const buttonEl =\n",
              "          document.querySelector('#df-80486a75-fccb-42dd-8d5c-25f0c9b5bb7a button.colab-df-convert');\n",
              "        buttonEl.style.display =\n",
              "          google.colab.kernel.accessAllowed ? 'block' : 'none';\n",
              "\n",
              "        async function convertToInteractive(key) {\n",
              "          const element = document.querySelector('#df-80486a75-fccb-42dd-8d5c-25f0c9b5bb7a');\n",
              "          const dataTable =\n",
              "            await google.colab.kernel.invokeFunction('convertToInteractive',\n",
              "                                                     [key], {});\n",
              "          if (!dataTable) return;\n",
              "\n",
              "          const docLinkHtml = 'Like what you see? Visit the ' +\n",
              "            '<a target=\"_blank\" href=https://colab.research.google.com/notebooks/data_table.ipynb>data table notebook</a>'\n",
              "            + ' to learn more about interactive tables.';\n",
              "          element.innerHTML = '';\n",
              "          dataTable['output_type'] = 'display_data';\n",
              "          await google.colab.output.renderOutput(dataTable, element);\n",
              "          const docLink = document.createElement('div');\n",
              "          docLink.innerHTML = docLinkHtml;\n",
              "          element.appendChild(docLink);\n",
              "        }\n",
              "      </script>\n",
              "    </div>\n",
              "  </div>\n",
              "  "
            ]
          },
          "metadata": {},
          "execution_count": 80
        }
      ]
    },
    {
      "cell_type": "markdown",
      "metadata": {
        "papermill": {
          "duration": 0.034091,
          "end_time": "2020-04-30T06:07:50.535449",
          "exception": false,
          "start_time": "2020-04-30T06:07:50.501358",
          "status": "completed"
        },
        "tags": [],
        "id": "SUhm-C5PrZm5"
      },
      "source": [
        "沒錯，以往只能在觀測網站上看得到卻摸不到的疫情數據現在已經完全供你自由探索了。這一切都要感謝疾管署與廣大鄉民的辛勤更新以及 pandas 的直覺操作。值得一提的是 pandas 只能存取公開試算表，因此如果你想要存取的是私人試算表，可以考慮使用 [pygsheets](https://pygsheets.readthedocs.io/en/stable/)。\n",
        "\n",
        "端看你存取[檢驗人數](https://docs.google.com/spreadsheets/d/1Kp5IC5IEI2ffaOSZY1daYoi2u50bjUHJW-IgfHoEq8o/edit#gid=1173642744)這個工作表的時間點，最新一天的數據有可能還沒有被寫上日期。在匯總數據之前讓我們透過時間處理函式庫 [Pendulum](https://pendulum.eustace.io/) 來為最後一列（row）加上今日日期（如果有必要的話），並把所有日期更換為通用格式："
      ]
    },
    {
      "cell_type": "code",
      "execution_count": null,
      "metadata": {
        "execution": {
          "iopub.execute_input": "2020-04-30T06:07:50.713674Z",
          "iopub.status.busy": "2020-04-30T06:07:50.710026Z",
          "iopub.status.idle": "2020-04-30T06:07:52.115157Z",
          "shell.execute_reply": "2020-04-30T06:07:52.115713Z"
        },
        "papermill": {
          "duration": 1.520546,
          "end_time": "2020-04-30T06:07:52.115876",
          "exception": false,
          "start_time": "2020-04-30T06:07:50.595330",
          "status": "completed"
        },
        "tags": [],
        "id": "t1Iw-jMHrZm5",
        "outputId": "67853f03-fee2-472c-cd1b-5b32b075e67a",
        "colab": {
          "base_uri": "https://localhost:8080/"
        }
      },
      "outputs": [
        {
          "output_type": "stream",
          "name": "stdout",
          "text": [
            "Collecting pendulum\n",
            "  Downloading pendulum-2.1.2-cp37-cp37m-manylinux1_x86_64.whl (155 kB)\n",
            "\u001b[K     |████████████████████████████████| 155 kB 5.4 MB/s \n",
            "\u001b[?25hCollecting pytzdata>=2020.1\n",
            "  Downloading pytzdata-2020.1-py2.py3-none-any.whl (489 kB)\n",
            "\u001b[K     |████████████████████████████████| 489 kB 36.5 MB/s \n",
            "\u001b[?25hRequirement already satisfied: python-dateutil<3.0,>=2.6 in /usr/local/lib/python3.7/dist-packages (from pendulum) (2.8.2)\n",
            "Requirement already satisfied: six>=1.5 in /usr/local/lib/python3.7/dist-packages (from python-dateutil<3.0,>=2.6->pendulum) (1.15.0)\n",
            "Installing collected packages: pytzdata, pendulum\n",
            "Successfully installed pendulum-2.1.2 pytzdata-2020.1\n"
          ]
        }
      ],
      "source": [
        "#hide\n",
        "!pip install pendulum"
      ]
    },
    {
      "cell_type": "code",
      "execution_count": null,
      "metadata": {
        "execution": {
          "iopub.execute_input": "2020-04-30T06:07:52.193830Z",
          "iopub.status.busy": "2020-04-30T06:07:52.193110Z",
          "iopub.status.idle": "2020-04-30T06:07:54.025448Z",
          "shell.execute_reply": "2020-04-30T06:07:54.024766Z"
        },
        "papermill": {
          "duration": 1.873959,
          "end_time": "2020-04-30T06:07:54.025570",
          "exception": false,
          "start_time": "2020-04-30T06:07:52.151611",
          "status": "completed"
        },
        "tags": [],
        "id": "HXfw5UtzrZm6",
        "outputId": "cb5f8226-3d46-4b52-fbc3-8d28bd2de0da",
        "colab": {
          "base_uri": "https://localhost:8080/",
          "height": 206
        }
      },
      "outputs": [
        {
          "output_type": "execute_result",
          "data": {
            "text/plain": [
              "<pandas.io.formats.style.Styler at 0x7ff4aef7ee90>"
            ],
            "text/html": [
              "<style type=\"text/css\">\n",
              "#T_81ce5_row0_col0, #T_81ce5_row1_col0, #T_81ce5_row2_col0, #T_81ce5_row3_col0, #T_81ce5_row4_col0 {\n",
              "  background-color: #075985;\n",
              "}\n",
              "</style>\n",
              "<table id=\"T_81ce5_\" class=\"dataframe\">\n",
              "  <thead>\n",
              "    <tr>\n",
              "      <th class=\"blank level0\" >&nbsp;</th>\n",
              "      <th class=\"col_heading level0 col0\" >日期</th>\n",
              "      <th class=\"col_heading level0 col1\" >境外</th>\n",
              "      <th class=\"col_heading level0 col2\" >確診</th>\n",
              "    </tr>\n",
              "  </thead>\n",
              "  <tbody>\n",
              "    <tr>\n",
              "      <th id=\"T_81ce5_level0_row0\" class=\"row_heading level0 row0\" >66022</th>\n",
              "      <td id=\"T_81ce5_row0_col0\" class=\"data row0 col0\" >2022/05/03</td>\n",
              "      <td id=\"T_81ce5_row0_col1\" class=\"data row0 col1\" >否</td>\n",
              "      <td id=\"T_81ce5_row0_col2\" class=\"data row0 col2\" >1</td>\n",
              "    </tr>\n",
              "    <tr>\n",
              "      <th id=\"T_81ce5_level0_row1\" class=\"row_heading level0 row1\" >66023</th>\n",
              "      <td id=\"T_81ce5_row1_col0\" class=\"data row1 col0\" >2022/05/03</td>\n",
              "      <td id=\"T_81ce5_row1_col1\" class=\"data row1 col1\" >否</td>\n",
              "      <td id=\"T_81ce5_row1_col2\" class=\"data row1 col2\" >1</td>\n",
              "    </tr>\n",
              "    <tr>\n",
              "      <th id=\"T_81ce5_level0_row2\" class=\"row_heading level0 row2\" >66024</th>\n",
              "      <td id=\"T_81ce5_row2_col0\" class=\"data row2 col0\" >2022/05/03</td>\n",
              "      <td id=\"T_81ce5_row2_col1\" class=\"data row2 col1\" >否</td>\n",
              "      <td id=\"T_81ce5_row2_col2\" class=\"data row2 col2\" >1</td>\n",
              "    </tr>\n",
              "    <tr>\n",
              "      <th id=\"T_81ce5_level0_row3\" class=\"row_heading level0 row3\" >66025</th>\n",
              "      <td id=\"T_81ce5_row3_col0\" class=\"data row3 col0\" >2022/05/03</td>\n",
              "      <td id=\"T_81ce5_row3_col1\" class=\"data row3 col1\" >否</td>\n",
              "      <td id=\"T_81ce5_row3_col2\" class=\"data row3 col2\" >1</td>\n",
              "    </tr>\n",
              "    <tr>\n",
              "      <th id=\"T_81ce5_level0_row4\" class=\"row_heading level0 row4\" >66026</th>\n",
              "      <td id=\"T_81ce5_row4_col0\" class=\"data row4 col0\" >2022/05/03</td>\n",
              "      <td id=\"T_81ce5_row4_col1\" class=\"data row4 col1\" >否</td>\n",
              "      <td id=\"T_81ce5_row4_col2\" class=\"data row4 col2\" >1</td>\n",
              "    </tr>\n",
              "  </tbody>\n",
              "</table>\n"
            ]
          },
          "metadata": {},
          "execution_count": 81
        }
      ],
      "source": [
        "# 注意：這邊是為了教學目的特別把 import 放在這裡\n",
        "import pendulum\n",
        "\n",
        "# 給當前一天累計的確診數加上最新日期(如果還沒加的話)\n",
        "# 如果你現在不了解這段程式碼也沒有關係，只要知道輸出的 DataFrame 的長相就可以了\n",
        "na = (tests['日期'].isna())\n",
        "prev = tests.loc[~na].tail(1)['日期'].iloc[0]\n",
        "prev_dt = pendulum.date(*[int(s) for s in prev.split(\"/\")])\n",
        "latest_dt = prev_dt.add(days=1)\n",
        "tests.loc[na, ['日期']] = f\"{latest_dt.month}/{latest_dt.day}\"\n",
        "\n",
        "# 將本來的日期字串改為更為通用的 `年年年年-月月-日日` 格式\n",
        "# 很多繪圖函式庫能夠自動將這種格式的字串解析成對應的日期物件\n",
        "# tests['日期'] = tests['日期'].str.split('/')\\\n",
        "#     .apply(lambda x: pendulum.date(2022, int(x[0]), int(x[1])).format(\"YYYY-MM-DD\"))\n",
        "\n",
        "# 我們這邊用 pandas 實戰手冊提過的 df.style 來強調修改後的日期欄位\n",
        "(tests.tail(5)\n",
        "    .style\n",
        "    .applymap(lambda x: 'background-color: #075985', \n",
        "              subset=['日期']))"
      ]
    },
    {
      "cell_type": "markdown",
      "metadata": {
        "papermill": {
          "duration": 0.230897,
          "end_time": "2020-04-30T06:07:54.289725",
          "exception": false,
          "start_time": "2020-04-30T06:07:54.058828",
          "status": "completed"
        },
        "tags": [],
        "id": "MZ-cGP-yrZm6"
      },
      "source": [
        "你很快就會看到以這種格式儲存日期資訊的方便之處。現在讓我們透過這個簡單表格來重現疾管署首頁展示的圖表。"
      ]
    },
    {
      "cell_type": "markdown",
      "metadata": {
        "papermill": {
          "duration": 0.040262,
          "end_time": "2020-04-30T06:07:54.367913",
          "exception": false,
          "start_time": "2020-04-30T06:07:54.327651",
          "status": "completed"
        },
        "tags": [],
        "id": "SY2YFeQTrZm6"
      },
      "source": [
        "## 重現疾管署公開的最新疫情數據"
      ]
    },
    {
      "cell_type": "markdown",
      "metadata": {
        "papermill": {
          "duration": 0.034045,
          "end_time": "2020-04-30T06:07:54.441631",
          "exception": false,
          "start_time": "2020-04-30T06:07:54.407586",
          "status": "completed"
        },
        "tags": [],
        "id": "HTOqWD4_rZm6"
      },
      "source": [
        "讓我們再次回顧一下疾管署所公布的 COVID-19 疫情圖表："
      ]
    },
    {
      "cell_type": "markdown",
      "metadata": {
        "papermill": {
          "duration": 0.032897,
          "end_time": "2020-04-30T06:07:54.518977",
          "exception": false,
          "start_time": "2020-04-30T06:07:54.486080",
          "status": "completed"
        },
        "tags": [],
        "id": "ngjjJA2GrZm7"
      },
      "source": [
        "> img: intro/taiwan-cnc-numbers.jpg|desc:衛福部疾管署公開的疫情數據|dark"
      ]
    },
    {
      "cell_type": "markdown",
      "metadata": {
        "papermill": {
          "duration": 0.031889,
          "end_time": "2020-04-30T06:07:54.582521",
          "exception": false,
          "start_time": "2020-04-30T06:07:54.550632",
          "status": "completed"
        },
        "tags": [],
        "id": "EBYozBpCrZm7"
      },
      "source": [
        "這邊我們簡單重現第一列「國內檢驗總計」裡頭的兩個指標：送驗以及確診。"
      ]
    },
    {
      "cell_type": "code",
      "execution_count": null,
      "metadata": {
        "execution": {
          "iopub.execute_input": "2020-04-30T06:07:54.665641Z",
          "iopub.status.busy": "2020-04-30T06:07:54.664752Z",
          "iopub.status.idle": "2020-04-30T06:07:54.667336Z",
          "shell.execute_reply": "2020-04-30T06:07:54.667929Z"
        },
        "papermill": {
          "duration": 0.054777,
          "end_time": "2020-04-30T06:07:54.668054",
          "exception": false,
          "start_time": "2020-04-30T06:07:54.613277",
          "status": "completed"
        },
        "tags": [],
        "id": "ZosNVaLorZm7",
        "outputId": "fd8ab871-709e-490e-9a0a-d6b4a6b134e2",
        "colab": {
          "base_uri": "https://localhost:8080/",
          "height": 81
        }
      },
      "outputs": [
        {
          "output_type": "execute_result",
          "data": {
            "text/plain": [
              "       確診    境外\n",
              "0  202402  4379"
            ],
            "text/html": [
              "\n",
              "  <div id=\"df-7d9d8fb1-ac38-4682-bac4-15c8281e15ea\">\n",
              "    <div class=\"colab-df-container\">\n",
              "      <div>\n",
              "<style scoped>\n",
              "    .dataframe tbody tr th:only-of-type {\n",
              "        vertical-align: middle;\n",
              "    }\n",
              "\n",
              "    .dataframe tbody tr th {\n",
              "        vertical-align: top;\n",
              "    }\n",
              "\n",
              "    .dataframe thead th {\n",
              "        text-align: right;\n",
              "    }\n",
              "</style>\n",
              "<table border=\"1\" class=\"dataframe\">\n",
              "  <thead>\n",
              "    <tr style=\"text-align: right;\">\n",
              "      <th></th>\n",
              "      <th>確診</th>\n",
              "      <th>境外</th>\n",
              "    </tr>\n",
              "  </thead>\n",
              "  <tbody>\n",
              "    <tr>\n",
              "      <th>0</th>\n",
              "      <td>202402</td>\n",
              "      <td>4379</td>\n",
              "    </tr>\n",
              "  </tbody>\n",
              "</table>\n",
              "</div>\n",
              "      <button class=\"colab-df-convert\" onclick=\"convertToInteractive('df-7d9d8fb1-ac38-4682-bac4-15c8281e15ea')\"\n",
              "              title=\"Convert this dataframe to an interactive table.\"\n",
              "              style=\"display:none;\">\n",
              "        \n",
              "  <svg xmlns=\"http://www.w3.org/2000/svg\" height=\"24px\"viewBox=\"0 0 24 24\"\n",
              "       width=\"24px\">\n",
              "    <path d=\"M0 0h24v24H0V0z\" fill=\"none\"/>\n",
              "    <path d=\"M18.56 5.44l.94 2.06.94-2.06 2.06-.94-2.06-.94-.94-2.06-.94 2.06-2.06.94zm-11 1L8.5 8.5l.94-2.06 2.06-.94-2.06-.94L8.5 2.5l-.94 2.06-2.06.94zm10 10l.94 2.06.94-2.06 2.06-.94-2.06-.94-.94-2.06-.94 2.06-2.06.94z\"/><path d=\"M17.41 7.96l-1.37-1.37c-.4-.4-.92-.59-1.43-.59-.52 0-1.04.2-1.43.59L10.3 9.45l-7.72 7.72c-.78.78-.78 2.05 0 2.83L4 21.41c.39.39.9.59 1.41.59.51 0 1.02-.2 1.41-.59l7.78-7.78 2.81-2.81c.8-.78.8-2.07 0-2.86zM5.41 20L4 18.59l7.72-7.72 1.47 1.35L5.41 20z\"/>\n",
              "  </svg>\n",
              "      </button>\n",
              "      \n",
              "  <style>\n",
              "    .colab-df-container {\n",
              "      display:flex;\n",
              "      flex-wrap:wrap;\n",
              "      gap: 12px;\n",
              "    }\n",
              "\n",
              "    .colab-df-convert {\n",
              "      background-color: #E8F0FE;\n",
              "      border: none;\n",
              "      border-radius: 50%;\n",
              "      cursor: pointer;\n",
              "      display: none;\n",
              "      fill: #1967D2;\n",
              "      height: 32px;\n",
              "      padding: 0 0 0 0;\n",
              "      width: 32px;\n",
              "    }\n",
              "\n",
              "    .colab-df-convert:hover {\n",
              "      background-color: #E2EBFA;\n",
              "      box-shadow: 0px 1px 2px rgba(60, 64, 67, 0.3), 0px 1px 3px 1px rgba(60, 64, 67, 0.15);\n",
              "      fill: #174EA6;\n",
              "    }\n",
              "\n",
              "    [theme=dark] .colab-df-convert {\n",
              "      background-color: #3B4455;\n",
              "      fill: #D2E3FC;\n",
              "    }\n",
              "\n",
              "    [theme=dark] .colab-df-convert:hover {\n",
              "      background-color: #434B5C;\n",
              "      box-shadow: 0px 1px 3px 1px rgba(0, 0, 0, 0.15);\n",
              "      filter: drop-shadow(0px 1px 2px rgba(0, 0, 0, 0.3));\n",
              "      fill: #FFFFFF;\n",
              "    }\n",
              "  </style>\n",
              "\n",
              "      <script>\n",
              "        const buttonEl =\n",
              "          document.querySelector('#df-7d9d8fb1-ac38-4682-bac4-15c8281e15ea button.colab-df-convert');\n",
              "        buttonEl.style.display =\n",
              "          google.colab.kernel.accessAllowed ? 'block' : 'none';\n",
              "\n",
              "        async function convertToInteractive(key) {\n",
              "          const element = document.querySelector('#df-7d9d8fb1-ac38-4682-bac4-15c8281e15ea');\n",
              "          const dataTable =\n",
              "            await google.colab.kernel.invokeFunction('convertToInteractive',\n",
              "                                                     [key], {});\n",
              "          if (!dataTable) return;\n",
              "\n",
              "          const docLinkHtml = 'Like what you see? Visit the ' +\n",
              "            '<a target=\"_blank\" href=https://colab.research.google.com/notebooks/data_table.ipynb>data table notebook</a>'\n",
              "            + ' to learn more about interactive tables.';\n",
              "          element.innerHTML = '';\n",
              "          dataTable['output_type'] = 'display_data';\n",
              "          await google.colab.output.renderOutput(dataTable, element);\n",
              "          const docLink = document.createElement('div');\n",
              "          docLink.innerHTML = docLinkHtml;\n",
              "          element.appendChild(docLink);\n",
              "        }\n",
              "      </script>\n",
              "    </div>\n",
              "  </div>\n",
              "  "
            ]
          },
          "metadata": {},
          "execution_count": 82
        }
      ],
      "source": [
        "pd.DataFrame({\n",
        "    '確診': [tests['確診'].sum()],\n",
        "    '境外': [(tests['境外']=='是').sum()],    \n",
        "})"
      ]
    },
    {
      "cell_type": "markdown",
      "metadata": {
        "papermill": {
          "duration": 0.036278,
          "end_time": "2020-04-30T06:07:54.738851",
          "exception": false,
          "start_time": "2020-04-30T06:07:54.702573",
          "status": "completed"
        },
        "tags": [],
        "id": "nZLrKE1ArZm7"
      },
      "source": [
        "沒什麼魔法。多虧了鄉民們的努力，基本上你能輕鬆計算出跟疾管署大致相同的結果。以我們的使用案例而言（簡單資料視覺化、查看整體趨勢等），小誤差並不會造成什麼不良影響。不過如果你要非常精準的數字，我還是建議你查看[疾管署首頁](https://www.cdc.gov.tw/)。這邊的重點是你現在已經有能力取得足夠精準、即時的疫情數據並進行更多疫情分析了。"
      ]
    },
    {
      "cell_type": "markdown",
      "metadata": {
        "papermill": {
          "duration": 0.034674,
          "end_time": "2020-04-30T06:07:54.807115",
          "exception": false,
          "start_time": "2020-04-30T06:07:54.772441",
          "status": "completed"
        },
        "tags": [],
        "id": "QzRAdpGirZm7"
      },
      "source": [
        "我們當然也能自行算出「昨日新增」的相關數據："
      ]
    },
    {
      "cell_type": "code",
      "execution_count": null,
      "metadata": {
        "execution": {
          "iopub.execute_input": "2020-04-30T06:07:54.879216Z",
          "iopub.status.busy": "2020-04-30T06:07:54.878577Z",
          "iopub.status.idle": "2020-04-30T06:07:54.889674Z",
          "shell.execute_reply": "2020-04-30T06:07:54.889168Z"
        },
        "papermill": {
          "duration": 0.048539,
          "end_time": "2020-04-30T06:07:54.889775",
          "exception": false,
          "start_time": "2020-04-30T06:07:54.841236",
          "status": "completed"
        },
        "tags": [],
        "id": "XbDds54DrZm7",
        "outputId": "ba400729-ac2a-4317-a8c2-1e1ee8749512",
        "colab": {
          "base_uri": "https://localhost:8080/"
        }
      },
      "outputs": [
        {
          "output_type": "stream",
          "name": "stdout",
          "text": [
            "日期: 2022/05/03\n",
            "   確診  境外\n",
            "0  67  23 \n",
            "\n"
          ]
        }
      ],
      "source": [
        "yesterday_dt = pendulum.yesterday(tz=\"Asia/Taipei\").format(\"YYYY/MM/DD\")\n",
        "\n",
        "# tests[(tests['日期'] == yesterday_dt)]\n",
        "\n",
        "# tests.loc[tests['日期'] == yesterday_dt]\n",
        "# tests = tests[(tests['日期'] == yesterday_dt) & (tests['境外'] == '是')]\n",
        "# tests = tests[tests['日期'] == yesterday_dt]\n",
        "\n",
        "# cols = ['確診', '境外']\n",
        "\n",
        "# tests = tests[tests[cols].sum(axis=1) > 0]\n",
        "\n",
        "# print(\"\\nDataframe after filtering\\n\")\n",
        "# print(tests)\n",
        "\n",
        "tests[tests['日期'] == yesterday_dt].loc[:, ['日期', '確診', '境外']]\n",
        "\n",
        "my_df = pd.DataFrame({\n",
        "    '確診': [tests['確診'].sum()],\n",
        "    '境外': [(tests['境外']=='是').sum()],    \n",
        "})\n",
        "\n",
        "print(\"日期:\", yesterday_dt)\n",
        "print(my_df,\"\\n\")"
      ]
    },
    {
      "cell_type": "markdown",
      "metadata": {
        "papermill": {
          "duration": 0.031363,
          "end_time": "2020-04-30T06:07:54.953659",
          "exception": false,
          "start_time": "2020-04-30T06:07:54.922296",
          "status": "completed"
        },
        "tags": [],
        "id": "9c3ifJ2ErZm7"
      },
      "source": [
        "如同本文開頭所述，將疫情總結為**一個統計數字**固然強大，但當你想要暸解**疫情趨勢**時．僅僅秀出一個數字是不會有任何幫助的。這也是為何疾管署在確診人數下方還描繪了每日的確診人數變化，就是為了讓大眾能在掌握最新狀況的同時也能夠了解整體趨勢變化。\n",
        "\n",
        "在下一節，我將展示你可以如何用 Python 來描繪相似的趨勢圖表。"
      ]
    },
    {
      "cell_type": "markdown",
      "metadata": {
        "papermill": {
          "duration": 0.031985,
          "end_time": "2020-04-30T06:07:55.017702",
          "exception": false,
          "start_time": "2020-04-30T06:07:54.985717",
          "status": "completed"
        },
        "tags": [],
        "id": "t1Md_YX7rZm8"
      },
      "source": [
        "## 使用 Altair 繪製疫情趨勢圖"
      ]
    },
    {
      "cell_type": "markdown",
      "metadata": {
        "papermill": {
          "duration": 0.033781,
          "end_time": "2020-04-30T06:07:55.084476",
          "exception": false,
          "start_time": "2020-04-30T06:07:55.050695",
          "status": "completed"
        },
        "tags": [],
        "id": "Hgt5-eTNrZm8"
      },
      "source": [
        "> quote: <a href=\"https://altair-viz.github.io/index.html\" target=\"_blank\">Altair</a> 是一個建立在 <a href=\"http://vega.github.io/vega\" target=\"_blank\">Vega</a> 與 <a href=\"http://vega.github.io/vega-lite\" target=\"_blank\">Vega-Lite</a> 之上，可以透過 Python 操作的宣告型統計視覺化函式庫（declarative statistical visualization library）。"
      ]
    },
    {
      "cell_type": "markdown",
      "metadata": {
        "papermill": {
          "duration": 0.034246,
          "end_time": "2020-04-30T06:07:55.155443",
          "exception": false,
          "start_time": "2020-04-30T06:07:55.121197",
          "status": "completed"
        },
        "tags": [],
        "id": "eVQxYWbHrZm8"
      },
      "source": [
        "依照使用情境以及當下心情（？），一般我會用不同的 Python 函式庫來視覺化手中數據，比方說大家耳熟能詳的 [Matplotlib](https://matplotlib.org/)、[Seaborn](https://seaborn.pydata.org/) 或是強調互動性的 [Plotly](https://plotly.com/python/)。我也曾介紹過[由 Spotify 開源，跟 Altair 一樣用宣告型語法繪圖的 Chartify](https://leemeng.tw/chartify-a-simple-yet-powerful-python-data-visualization-tool-which-boost-your-productivity-as-a-data-scientist.html)。但如果現在要我向你推薦**一個** Python 函式庫的話，我會說：「去學學 [Altair](https://altair-viz.github.io/index.html) 吧！」"
      ]
    },
    {
      "cell_type": "markdown",
      "metadata": {
        "papermill": {
          "duration": 0.034234,
          "end_time": "2020-04-30T06:07:55.226990",
          "exception": false,
          "start_time": "2020-04-30T06:07:55.192756",
          "status": "completed"
        },
        "tags": [],
        "id": "TNMaHgiCrZm8"
      },
      "source": [
        "> img: intro/altair_official_page.jpg|desc:Altair 允許我們透過 Python 實現宣告型資料視覺化|url:https://altair-viz.github.io/index.html|source:Altair 官方說明文件|dark\n",
        "\n",
        "[Altair 官方說明文件](https://altair-viz.github.io/index.html)"
      ]
    },
    {
      "cell_type": "markdown",
      "metadata": {
        "papermill": {
          "duration": 0.032047,
          "end_time": "2020-04-30T06:07:55.291534",
          "exception": false,
          "start_time": "2020-04-30T06:07:55.259487",
          "status": "completed"
        },
        "tags": [],
        "id": "HDVn7F9-rZm8"
      },
      "source": [
        "Altair 有幾個我認為值得特別列出來的優點：\n",
        "- 宣告型語法易上手、直覺，客製化能力強\n",
        "- 使用心法符合我們之前討論過的[圖像分層文法](https://leemeng.tw/data-visualization-from-matplotlib-to-ggplot2.html)\n",
        "- 預設樣式優美，不像 Matplotlib 得自己修東修西\n",
        "- 具備跟 R 語言的 ggplot2 一樣強大的 facet 功能\n",
        "- 能輕易加入互動機制，且寫法比 Plotly 來得 Pythonic\n",
        "\n",
        "在 COVID-19 的系列文章裡，我會展示各種你可以透過 Altair 來輕鬆繪製的美麗圖表。事不宜遲，讓我們再次將目光放到疾管署右側的監測趨勢圖上。該圖將每天的送驗次數[依照通報來源分為三種類別](https://www.cdc.gov.tw/Category/ListContent/EmXemht4IT-IRAPrAnyG9A?uaid=hlaLHKBP91j9VUy0kc2f_A)：\n",
        "- 居家檢疫送驗\n",
        "- 擴大監測送驗\n",
        "- 法定傳染病通報"
      ]
    },
    {
      "cell_type": "markdown",
      "metadata": {
        "papermill": {
          "duration": 0.034617,
          "end_time": "2020-04-30T06:07:55.357571",
          "exception": false,
          "start_time": "2020-04-30T06:07:55.322954",
          "status": "completed"
        },
        "tags": [],
        "id": "5kZCojKqrZm8"
      },
      "source": [
        "> img: intro/taiwan-cnc-numbers.jpg|desc:現在請先關注右圖：依據通報來源的每日送驗次數|dark"
      ]
    },
    {
      "cell_type": "markdown",
      "metadata": {
        "papermill": {
          "duration": 0.032674,
          "end_time": "2020-04-30T06:07:55.422834",
          "exception": false,
          "start_time": "2020-04-30T06:07:55.390160",
          "status": "completed"
        },
        "tags": [],
        "id": "nTMDLKHCrZm8"
      },
      "source": [
        "要自己生成這個趨勢圖並不難，因為我們手上已經有各通報來源的每日送驗數目："
      ]
    },
    {
      "cell_type": "code",
      "execution_count": null,
      "metadata": {
        "execution": {
          "iopub.execute_input": "2020-04-30T06:07:55.512817Z",
          "iopub.status.busy": "2020-04-30T06:07:55.512161Z",
          "iopub.status.idle": "2020-04-30T06:07:55.517265Z",
          "shell.execute_reply": "2020-04-30T06:07:55.516637Z"
        },
        "papermill": {
          "duration": 0.061409,
          "end_time": "2020-04-30T06:07:55.517382",
          "exception": false,
          "start_time": "2020-04-30T06:07:55.455973",
          "status": "completed"
        },
        "tags": [],
        "id": "3hEDbEyFrZm8",
        "outputId": "6305f359-c063-48c7-cb4a-e828fe7c98d5"
      },
      "outputs": [
        {
          "data": {
            "text/html": [
              "<style  type=\"text/css\" >\n",
              "    #T_edfcfcb3_8aa8_11ea_a1ba_000d3a0e1bc0row0_col3 {\n",
              "            background-color:  rgb(153, 255, 51);\n",
              "        }    #T_edfcfcb3_8aa8_11ea_a1ba_000d3a0e1bc0row0_col5 {\n",
              "            background-color:  rgb(153, 255, 51);\n",
              "        }    #T_edfcfcb3_8aa8_11ea_a1ba_000d3a0e1bc0row0_col7 {\n",
              "            background-color:  rgb(153, 255, 51);\n",
              "        }    #T_edfcfcb3_8aa8_11ea_a1ba_000d3a0e1bc0row1_col3 {\n",
              "            background-color:  rgb(153, 255, 51);\n",
              "        }    #T_edfcfcb3_8aa8_11ea_a1ba_000d3a0e1bc0row1_col5 {\n",
              "            background-color:  rgb(153, 255, 51);\n",
              "        }    #T_edfcfcb3_8aa8_11ea_a1ba_000d3a0e1bc0row1_col7 {\n",
              "            background-color:  rgb(153, 255, 51);\n",
              "        }    #T_edfcfcb3_8aa8_11ea_a1ba_000d3a0e1bc0row2_col3 {\n",
              "            background-color:  rgb(153, 255, 51);\n",
              "        }    #T_edfcfcb3_8aa8_11ea_a1ba_000d3a0e1bc0row2_col5 {\n",
              "            background-color:  rgb(153, 255, 51);\n",
              "        }    #T_edfcfcb3_8aa8_11ea_a1ba_000d3a0e1bc0row2_col7 {\n",
              "            background-color:  rgb(153, 255, 51);\n",
              "        }    #T_edfcfcb3_8aa8_11ea_a1ba_000d3a0e1bc0row3_col3 {\n",
              "            background-color:  rgb(153, 255, 51);\n",
              "        }    #T_edfcfcb3_8aa8_11ea_a1ba_000d3a0e1bc0row3_col5 {\n",
              "            background-color:  rgb(153, 255, 51);\n",
              "        }    #T_edfcfcb3_8aa8_11ea_a1ba_000d3a0e1bc0row3_col7 {\n",
              "            background-color:  rgb(153, 255, 51);\n",
              "        }    #T_edfcfcb3_8aa8_11ea_a1ba_000d3a0e1bc0row4_col3 {\n",
              "            background-color:  rgb(153, 255, 51);\n",
              "        }    #T_edfcfcb3_8aa8_11ea_a1ba_000d3a0e1bc0row4_col5 {\n",
              "            background-color:  rgb(153, 255, 51);\n",
              "        }    #T_edfcfcb3_8aa8_11ea_a1ba_000d3a0e1bc0row4_col7 {\n",
              "            background-color:  rgb(153, 255, 51);\n",
              "        }</style><table id=\"T_edfcfcb3_8aa8_11ea_a1ba_000d3a0e1bc0\" ><thead>    <tr>        <th class=\"blank level0\" ></th>        <th class=\"col_heading level0 col0\" >日期</th>        <th class=\"col_heading level0 col1\" >檢驗人數</th>        <th class=\"col_heading level0 col2\" >確診人數</th>        <th class=\"col_heading level0 col3\" >居檢送驗</th>        <th class=\"col_heading level0 col4\" >居檢送驗累計</th>        <th class=\"col_heading level0 col5\" >武肺通報</th>        <th class=\"col_heading level0 col6\" >武肺通報累計</th>        <th class=\"col_heading level0 col7\" >擴大監測</th>        <th class=\"col_heading level0 col8\" >擴大監測累計</th>    </tr></thead><tbody>\n",
              "                <tr>\n",
              "                        <th id=\"T_edfcfcb3_8aa8_11ea_a1ba_000d3a0e1bc0level0_row0\" class=\"row_heading level0 row0\" >101</th>\n",
              "                        <td id=\"T_edfcfcb3_8aa8_11ea_a1ba_000d3a0e1bc0row0_col0\" class=\"data row0 col0\" >2020-04-26</td>\n",
              "                        <td id=\"T_edfcfcb3_8aa8_11ea_a1ba_000d3a0e1bc0row0_col1\" class=\"data row0 col1\" >495</td>\n",
              "                        <td id=\"T_edfcfcb3_8aa8_11ea_a1ba_000d3a0e1bc0row0_col2\" class=\"data row0 col2\" >0</td>\n",
              "                        <td id=\"T_edfcfcb3_8aa8_11ea_a1ba_000d3a0e1bc0row0_col3\" class=\"data row0 col3\" >0</td>\n",
              "                        <td id=\"T_edfcfcb3_8aa8_11ea_a1ba_000d3a0e1bc0row0_col4\" class=\"data row0 col4\" >1707</td>\n",
              "                        <td id=\"T_edfcfcb3_8aa8_11ea_a1ba_000d3a0e1bc0row0_col5\" class=\"data row0 col5\" >71</td>\n",
              "                        <td id=\"T_edfcfcb3_8aa8_11ea_a1ba_000d3a0e1bc0row0_col6\" class=\"data row0 col6\" >13957</td>\n",
              "                        <td id=\"T_edfcfcb3_8aa8_11ea_a1ba_000d3a0e1bc0row0_col7\" class=\"data row0 col7\" >424</td>\n",
              "                        <td id=\"T_edfcfcb3_8aa8_11ea_a1ba_000d3a0e1bc0row0_col8\" class=\"data row0 col8\" >45259</td>\n",
              "            </tr>\n",
              "            <tr>\n",
              "                        <th id=\"T_edfcfcb3_8aa8_11ea_a1ba_000d3a0e1bc0level0_row1\" class=\"row_heading level0 row1\" >102</th>\n",
              "                        <td id=\"T_edfcfcb3_8aa8_11ea_a1ba_000d3a0e1bc0row1_col0\" class=\"data row1 col0\" >2020-04-27</td>\n",
              "                        <td id=\"T_edfcfcb3_8aa8_11ea_a1ba_000d3a0e1bc0row1_col1\" class=\"data row1 col1\" >742</td>\n",
              "                        <td id=\"T_edfcfcb3_8aa8_11ea_a1ba_000d3a0e1bc0row1_col2\" class=\"data row1 col2\" >0</td>\n",
              "                        <td id=\"T_edfcfcb3_8aa8_11ea_a1ba_000d3a0e1bc0row1_col3\" class=\"data row1 col3\" >0</td>\n",
              "                        <td id=\"T_edfcfcb3_8aa8_11ea_a1ba_000d3a0e1bc0row1_col4\" class=\"data row1 col4\" >1707</td>\n",
              "                        <td id=\"T_edfcfcb3_8aa8_11ea_a1ba_000d3a0e1bc0row1_col5\" class=\"data row1 col5\" >76</td>\n",
              "                        <td id=\"T_edfcfcb3_8aa8_11ea_a1ba_000d3a0e1bc0row1_col6\" class=\"data row1 col6\" >14033</td>\n",
              "                        <td id=\"T_edfcfcb3_8aa8_11ea_a1ba_000d3a0e1bc0row1_col7\" class=\"data row1 col7\" >666</td>\n",
              "                        <td id=\"T_edfcfcb3_8aa8_11ea_a1ba_000d3a0e1bc0row1_col8\" class=\"data row1 col8\" >45925</td>\n",
              "            </tr>\n",
              "            <tr>\n",
              "                        <th id=\"T_edfcfcb3_8aa8_11ea_a1ba_000d3a0e1bc0level0_row2\" class=\"row_heading level0 row2\" >103</th>\n",
              "                        <td id=\"T_edfcfcb3_8aa8_11ea_a1ba_000d3a0e1bc0row2_col0\" class=\"data row2 col0\" >2020-04-28</td>\n",
              "                        <td id=\"T_edfcfcb3_8aa8_11ea_a1ba_000d3a0e1bc0row2_col1\" class=\"data row2 col1\" >694</td>\n",
              "                        <td id=\"T_edfcfcb3_8aa8_11ea_a1ba_000d3a0e1bc0row2_col2\" class=\"data row2 col2\" >0</td>\n",
              "                        <td id=\"T_edfcfcb3_8aa8_11ea_a1ba_000d3a0e1bc0row2_col3\" class=\"data row2 col3\" >0</td>\n",
              "                        <td id=\"T_edfcfcb3_8aa8_11ea_a1ba_000d3a0e1bc0row2_col4\" class=\"data row2 col4\" >1707</td>\n",
              "                        <td id=\"T_edfcfcb3_8aa8_11ea_a1ba_000d3a0e1bc0row2_col5\" class=\"data row2 col5\" >98</td>\n",
              "                        <td id=\"T_edfcfcb3_8aa8_11ea_a1ba_000d3a0e1bc0row2_col6\" class=\"data row2 col6\" >14131</td>\n",
              "                        <td id=\"T_edfcfcb3_8aa8_11ea_a1ba_000d3a0e1bc0row2_col7\" class=\"data row2 col7\" >596</td>\n",
              "                        <td id=\"T_edfcfcb3_8aa8_11ea_a1ba_000d3a0e1bc0row2_col8\" class=\"data row2 col8\" >46521</td>\n",
              "            </tr>\n",
              "            <tr>\n",
              "                        <th id=\"T_edfcfcb3_8aa8_11ea_a1ba_000d3a0e1bc0level0_row3\" class=\"row_heading level0 row3\" >104</th>\n",
              "                        <td id=\"T_edfcfcb3_8aa8_11ea_a1ba_000d3a0e1bc0row3_col0\" class=\"data row3 col0\" >2020-04-29</td>\n",
              "                        <td id=\"T_edfcfcb3_8aa8_11ea_a1ba_000d3a0e1bc0row3_col1\" class=\"data row3 col1\" >486</td>\n",
              "                        <td id=\"T_edfcfcb3_8aa8_11ea_a1ba_000d3a0e1bc0row3_col2\" class=\"data row3 col2\" >0</td>\n",
              "                        <td id=\"T_edfcfcb3_8aa8_11ea_a1ba_000d3a0e1bc0row3_col3\" class=\"data row3 col3\" >0</td>\n",
              "                        <td id=\"T_edfcfcb3_8aa8_11ea_a1ba_000d3a0e1bc0row3_col4\" class=\"data row3 col4\" >1707</td>\n",
              "                        <td id=\"T_edfcfcb3_8aa8_11ea_a1ba_000d3a0e1bc0row3_col5\" class=\"data row3 col5\" >73</td>\n",
              "                        <td id=\"T_edfcfcb3_8aa8_11ea_a1ba_000d3a0e1bc0row3_col6\" class=\"data row3 col6\" >14204</td>\n",
              "                        <td id=\"T_edfcfcb3_8aa8_11ea_a1ba_000d3a0e1bc0row3_col7\" class=\"data row3 col7\" >413</td>\n",
              "                        <td id=\"T_edfcfcb3_8aa8_11ea_a1ba_000d3a0e1bc0row3_col8\" class=\"data row3 col8\" >46934</td>\n",
              "            </tr>\n",
              "            <tr>\n",
              "                        <th id=\"T_edfcfcb3_8aa8_11ea_a1ba_000d3a0e1bc0level0_row4\" class=\"row_heading level0 row4\" >105</th>\n",
              "                        <td id=\"T_edfcfcb3_8aa8_11ea_a1ba_000d3a0e1bc0row4_col0\" class=\"data row4 col0\" >2020-04-30</td>\n",
              "                        <td id=\"T_edfcfcb3_8aa8_11ea_a1ba_000d3a0e1bc0row4_col1\" class=\"data row4 col1\" >0</td>\n",
              "                        <td id=\"T_edfcfcb3_8aa8_11ea_a1ba_000d3a0e1bc0row4_col2\" class=\"data row4 col2\" >0</td>\n",
              "                        <td id=\"T_edfcfcb3_8aa8_11ea_a1ba_000d3a0e1bc0row4_col3\" class=\"data row4 col3\" >0</td>\n",
              "                        <td id=\"T_edfcfcb3_8aa8_11ea_a1ba_000d3a0e1bc0row4_col4\" class=\"data row4 col4\" >0</td>\n",
              "                        <td id=\"T_edfcfcb3_8aa8_11ea_a1ba_000d3a0e1bc0row4_col5\" class=\"data row4 col5\" >0</td>\n",
              "                        <td id=\"T_edfcfcb3_8aa8_11ea_a1ba_000d3a0e1bc0row4_col6\" class=\"data row4 col6\" >0</td>\n",
              "                        <td id=\"T_edfcfcb3_8aa8_11ea_a1ba_000d3a0e1bc0row4_col7\" class=\"data row4 col7\" >0</td>\n",
              "                        <td id=\"T_edfcfcb3_8aa8_11ea_a1ba_000d3a0e1bc0row4_col8\" class=\"data row4 col8\" >0</td>\n",
              "            </tr>\n",
              "    </tbody></table>"
            ],
            "text/plain": [
              "<pandas.io.formats.style.Styler at 0x7f2f6049f5f8>"
            ]
          },
          "execution_count": 6,
          "metadata": {},
          "output_type": "execute_result"
        }
      ],
      "source": [
        "#collapse-hide\n",
        "# 用來強調接著會使用的欄位的樣式函式，讀者不需細讀這段程式碼\n",
        "def highlight_column(data, color=\"rgb(153, 255, 51)\"):\n",
        "    attr = 'background-color: {}'.format(color)\n",
        "    return [attr for v in data]\n",
        "\n",
        "(tests.tail().style\n",
        " .apply(highlight_column, \n",
        "        subset=[\"居檢送驗\", \"武肺通報\", \"擴大監測\"], \n",
        "        axis=1)\n",
        ")"
      ]
    },
    {
      "cell_type": "markdown",
      "metadata": {
        "papermill": {
          "duration": 0.0342,
          "end_time": "2020-04-30T06:07:55.585171",
          "exception": false,
          "start_time": "2020-04-30T06:07:55.550971",
          "status": "completed"
        },
        "tags": [],
        "id": "HEGlPegurZm8"
      },
      "source": [
        "在使用 Altair 畫圖前我們得將數據轉成 [tidy 格式](https://tomaugspurger.github.io/modern-5-tidy.html)，就跟[我們之前使用 Chartify 一樣](https://leemeng.tw/chartify-a-simple-yet-powerful-python-data-visualization-tool-which-boost-your-productivity-as-a-data-scientist.html#%E7%AF%84%E4%BE%8B%E8%B3%87%E6%96%99%E5%8F%8A-Tidy-%E6%A0%BC%E5%BC%8F)。tidy 數據具有以下 2 特性：\n",
        "\n",
        "- 1 變數只存在 1 欄裡頭（1 variable in a column）\n",
        "- 1 列代表 1 個觀測結果（1 observation in a row）\n",
        "\n"
      ]
    },
    {
      "cell_type": "markdown",
      "metadata": {
        "papermill": {
          "duration": 0.033757,
          "end_time": "2020-04-30T06:07:55.655119",
          "exception": false,
          "start_time": "2020-04-30T06:07:55.621362",
          "status": "completed"
        },
        "tags": [],
        "id": "P6vHrNB2rZm9"
      },
      "source": [
        "這邊我們關注的變數是一個有三種可能值的「通報來源」。一般會利用 pandas 的 `melt` 函式來產生 tidy 數據："
      ]
    },
    {
      "cell_type": "code",
      "execution_count": null,
      "metadata": {
        "execution": {
          "iopub.execute_input": "2020-04-30T06:07:55.744870Z",
          "iopub.status.busy": "2020-04-30T06:07:55.744202Z",
          "iopub.status.idle": "2020-04-30T06:07:55.746821Z",
          "shell.execute_reply": "2020-04-30T06:07:55.747342Z"
        },
        "papermill": {
          "duration": 0.057915,
          "end_time": "2020-04-30T06:07:55.747493",
          "exception": false,
          "start_time": "2020-04-30T06:07:55.689578",
          "status": "completed"
        },
        "tags": [],
        "id": "scxTyDlTrZm9",
        "outputId": "8afcc049-893c-4b7c-af55-6ba7841d417d"
      },
      "outputs": [
        {
          "data": {
            "text/html": [
              "<div>\n",
              "<style scoped>\n",
              "    .dataframe tbody tr th:only-of-type {\n",
              "        vertical-align: middle;\n",
              "    }\n",
              "\n",
              "    .dataframe tbody tr th {\n",
              "        vertical-align: top;\n",
              "    }\n",
              "\n",
              "    .dataframe thead th {\n",
              "        text-align: right;\n",
              "    }\n",
              "</style>\n",
              "<table border=\"1\" class=\"dataframe\">\n",
              "  <thead>\n",
              "    <tr style=\"text-align: right;\">\n",
              "      <th></th>\n",
              "      <th>日期</th>\n",
              "      <th>通報來源</th>\n",
              "      <th>通報數</th>\n",
              "    </tr>\n",
              "  </thead>\n",
              "  <tbody>\n",
              "    <tr>\n",
              "      <th>313</th>\n",
              "      <td>2020-04-26</td>\n",
              "      <td>法定傳染病通報</td>\n",
              "      <td>71</td>\n",
              "    </tr>\n",
              "    <tr>\n",
              "      <th>314</th>\n",
              "      <td>2020-04-27</td>\n",
              "      <td>法定傳染病通報</td>\n",
              "      <td>76</td>\n",
              "    </tr>\n",
              "    <tr>\n",
              "      <th>315</th>\n",
              "      <td>2020-04-28</td>\n",
              "      <td>法定傳染病通報</td>\n",
              "      <td>98</td>\n",
              "    </tr>\n",
              "    <tr>\n",
              "      <th>316</th>\n",
              "      <td>2020-04-29</td>\n",
              "      <td>法定傳染病通報</td>\n",
              "      <td>73</td>\n",
              "    </tr>\n",
              "    <tr>\n",
              "      <th>317</th>\n",
              "      <td>2020-04-30</td>\n",
              "      <td>法定傳染病通報</td>\n",
              "      <td>0</td>\n",
              "    </tr>\n",
              "  </tbody>\n",
              "</table>\n",
              "</div>"
            ],
            "text/plain": [
              "             日期     通報來源  通報數\n",
              "313  2020-04-26  法定傳染病通報   71\n",
              "314  2020-04-27  法定傳染病通報   76\n",
              "315  2020-04-28  法定傳染病通報   98\n",
              "316  2020-04-29  法定傳染病通報   73\n",
              "317  2020-04-30  法定傳染病通報    0"
            ]
          },
          "execution_count": 7,
          "metadata": {},
          "output_type": "execute_result"
        }
      ],
      "source": [
        "data = (\n",
        "    tests\n",
        "    .rename({  # 用跟疾管署一致的 naming convention\n",
        "        '擴大監測': '擴大監測送驗',\n",
        "        '居檢送驗': '居家檢驗送驗',\n",
        "        '武肺通報': '法定傳染病通報',\n",
        "    }, axis=1)  # 這邊的關鍵是使用 `melt` 來建立 `通報來源` 變數\n",
        "    .melt('日期', ['擴大監測送驗', '居家檢驗送驗', '法定傳染病通報'], \n",
        "          var_name='通報來源', value_name=\"通報數\")\n",
        "    .fillna(0)\n",
        ")\n",
        "data.tail()"
      ]
    },
    {
      "cell_type": "markdown",
      "metadata": {
        "papermill": {
          "duration": 0.033522,
          "end_time": "2020-04-30T06:07:55.815191",
          "exception": false,
          "start_time": "2020-04-30T06:07:55.781669",
          "status": "completed"
        },
        "tags": [],
        "id": "ZeuU4FJErZm9"
      },
      "source": [
        "在 `data` 裡頭，每一列都代表著某個通報來源在某一天的通報數。有了 tidy 格式的 DataFrame 後，要用 Altair 繪製 COVID-19 的每日監測趨勢就變得十分容易了。我們只需[將數據中的變數對應到想要呈現的視覺變數](https://leemeng.tw/data-visualization-from-matplotlib-to-ggplot2.html#%E6%AD%A3%E5%BC%8F%E5%AE%9A%E7%BE%A9)上就可以了："
      ]
    },
    {
      "cell_type": "code",
      "execution_count": null,
      "metadata": {
        "execution": {
          "iopub.execute_input": "2020-04-30T06:07:55.891572Z",
          "iopub.status.busy": "2020-04-30T06:07:55.890744Z",
          "iopub.status.idle": "2020-04-30T06:07:56.042091Z",
          "shell.execute_reply": "2020-04-30T06:07:56.042734Z"
        },
        "papermill": {
          "duration": 0.193411,
          "end_time": "2020-04-30T06:07:56.042922",
          "exception": false,
          "start_time": "2020-04-30T06:07:55.849511",
          "status": "completed"
        },
        "tags": [],
        "id": "nOcuki-drZm9",
        "outputId": "9b320fe2-7bba-4bf6-8eb8-66e00f02c0fa"
      },
      "outputs": [
        {
          "data": {
            "text/html": [
              "\n",
              "<div id=\"altair-viz-e54a984b44ec4c78b73b264ef25fc15e\"></div>\n",
              "<script type=\"text/javascript\">\n",
              "  (function(spec, embedOpt){\n",
              "    let outputDiv = document.currentScript.previousElementSibling;\n",
              "    if (outputDiv.id !== \"altair-viz-e54a984b44ec4c78b73b264ef25fc15e\") {\n",
              "      outputDiv = document.getElementById(\"altair-viz-e54a984b44ec4c78b73b264ef25fc15e\");\n",
              "    }\n",
              "    const paths = {\n",
              "      \"vega\": \"https://cdn.jsdelivr.net/npm//vega@5?noext\",\n",
              "      \"vega-lib\": \"https://cdn.jsdelivr.net/npm//vega-lib?noext\",\n",
              "      \"vega-lite\": \"https://cdn.jsdelivr.net/npm//vega-lite@4.8.1?noext\",\n",
              "      \"vega-embed\": \"https://cdn.jsdelivr.net/npm//vega-embed@6?noext\",\n",
              "    };\n",
              "\n",
              "    function loadScript(lib) {\n",
              "      return new Promise(function(resolve, reject) {\n",
              "        var s = document.createElement('script');\n",
              "        s.src = paths[lib];\n",
              "        s.async = true;\n",
              "        s.onload = () => resolve(paths[lib]);\n",
              "        s.onerror = () => reject(`Error loading script: ${paths[lib]}`);\n",
              "        document.getElementsByTagName(\"head\")[0].appendChild(s);\n",
              "      });\n",
              "    }\n",
              "\n",
              "    function showError(err) {\n",
              "      outputDiv.innerHTML = `<div class=\"error\" style=\"color:red;\">${err}</div>`;\n",
              "      throw err;\n",
              "    }\n",
              "\n",
              "    function displayChart(vegaEmbed) {\n",
              "      vegaEmbed(outputDiv, spec, embedOpt)\n",
              "        .catch(err => showError(`Javascript Error: ${err.message}<br>This usually means there's a typo in your chart specification. See the javascript console for the full traceback.`));\n",
              "    }\n",
              "\n",
              "    if(typeof define === \"function\" && define.amd) {\n",
              "      requirejs.config({paths});\n",
              "      require([\"vega-embed\"], displayChart, err => showError(`Error loading script: ${err.message}`));\n",
              "    } else if (typeof vegaEmbed === \"function\") {\n",
              "      displayChart(vegaEmbed);\n",
              "    } else {\n",
              "      loadScript(\"vega\")\n",
              "        .then(() => loadScript(\"vega-lite\"))\n",
              "        .then(() => loadScript(\"vega-embed\"))\n",
              "        .catch(showError)\n",
              "        .then(() => displayChart(vegaEmbed));\n",
              "    }\n",
              "  })({\"config\": {\"view\": {\"continuousWidth\": 400, \"continuousHeight\": 300}}, \"data\": {\"name\": \"data-feda252b0ba9b35d154d1f54de5135c7\"}, \"mark\": \"bar\", \"encoding\": {\"color\": {\"type\": \"nominal\", \"field\": \"\\u901a\\u5831\\u4f86\\u6e90\"}, \"x\": {\"type\": \"temporal\", \"field\": \"\\u65e5\\u671f\"}, \"y\": {\"type\": \"quantitative\", \"field\": \"\\u901a\\u5831\\u6578\"}}, \"width\": 700, \"$schema\": \"https://vega.github.io/schema/vega-lite/v4.8.1.json\", \"datasets\": {\"data-feda252b0ba9b35d154d1f54de5135c7\": [{\"\\u65e5\\u671f\": \"2020-01-16\", \"\\u901a\\u5831\\u4f86\\u6e90\": \"\\u64f4\\u5927\\u76e3\\u6e2c\\u9001\\u9a57\", \"\\u901a\\u5831\\u6578\": 0}, {\"\\u65e5\\u671f\": \"2020-01-17\", \"\\u901a\\u5831\\u4f86\\u6e90\": \"\\u64f4\\u5927\\u76e3\\u6e2c\\u9001\\u9a57\", \"\\u901a\\u5831\\u6578\": 0}, {\"\\u65e5\\u671f\": \"2020-01-18\", \"\\u901a\\u5831\\u4f86\\u6e90\": \"\\u64f4\\u5927\\u76e3\\u6e2c\\u9001\\u9a57\", \"\\u901a\\u5831\\u6578\": 0}, {\"\\u65e5\\u671f\": \"2020-01-19\", \"\\u901a\\u5831\\u4f86\\u6e90\": \"\\u64f4\\u5927\\u76e3\\u6e2c\\u9001\\u9a57\", \"\\u901a\\u5831\\u6578\": 0}, {\"\\u65e5\\u671f\": \"2020-01-20\", \"\\u901a\\u5831\\u4f86\\u6e90\": \"\\u64f4\\u5927\\u76e3\\u6e2c\\u9001\\u9a57\", \"\\u901a\\u5831\\u6578\": 0}, {\"\\u65e5\\u671f\": \"2020-01-21\", \"\\u901a\\u5831\\u4f86\\u6e90\": \"\\u64f4\\u5927\\u76e3\\u6e2c\\u9001\\u9a57\", \"\\u901a\\u5831\\u6578\": 0}, {\"\\u65e5\\u671f\": \"2020-01-22\", \"\\u901a\\u5831\\u4f86\\u6e90\": \"\\u64f4\\u5927\\u76e3\\u6e2c\\u9001\\u9a57\", \"\\u901a\\u5831\\u6578\": 0}, {\"\\u65e5\\u671f\": \"2020-01-23\", \"\\u901a\\u5831\\u4f86\\u6e90\": \"\\u64f4\\u5927\\u76e3\\u6e2c\\u9001\\u9a57\", \"\\u901a\\u5831\\u6578\": 0}, {\"\\u65e5\\u671f\": \"2020-01-24\", \"\\u901a\\u5831\\u4f86\\u6e90\": \"\\u64f4\\u5927\\u76e3\\u6e2c\\u9001\\u9a57\", \"\\u901a\\u5831\\u6578\": 0}, {\"\\u65e5\\u671f\": \"2020-01-25\", \"\\u901a\\u5831\\u4f86\\u6e90\": \"\\u64f4\\u5927\\u76e3\\u6e2c\\u9001\\u9a57\", \"\\u901a\\u5831\\u6578\": 0}, {\"\\u65e5\\u671f\": \"2020-01-26\", \"\\u901a\\u5831\\u4f86\\u6e90\": \"\\u64f4\\u5927\\u76e3\\u6e2c\\u9001\\u9a57\", \"\\u901a\\u5831\\u6578\": 0}, {\"\\u65e5\\u671f\": \"2020-01-27\", \"\\u901a\\u5831\\u4f86\\u6e90\": \"\\u64f4\\u5927\\u76e3\\u6e2c\\u9001\\u9a57\", \"\\u901a\\u5831\\u6578\": 0}, {\"\\u65e5\\u671f\": \"2020-01-28\", \"\\u901a\\u5831\\u4f86\\u6e90\": \"\\u64f4\\u5927\\u76e3\\u6e2c\\u9001\\u9a57\", \"\\u901a\\u5831\\u6578\": 0}, {\"\\u65e5\\u671f\": \"2020-01-29\", \"\\u901a\\u5831\\u4f86\\u6e90\": \"\\u64f4\\u5927\\u76e3\\u6e2c\\u9001\\u9a57\", \"\\u901a\\u5831\\u6578\": 0}, {\"\\u65e5\\u671f\": \"2020-01-30\", \"\\u901a\\u5831\\u4f86\\u6e90\": \"\\u64f4\\u5927\\u76e3\\u6e2c\\u9001\\u9a57\", \"\\u901a\\u5831\\u6578\": 0}, {\"\\u65e5\\u671f\": \"2020-01-31\", \"\\u901a\\u5831\\u4f86\\u6e90\": \"\\u64f4\\u5927\\u76e3\\u6e2c\\u9001\\u9a57\", \"\\u901a\\u5831\\u6578\": 0}, {\"\\u65e5\\u671f\": \"2020-02-01\", \"\\u901a\\u5831\\u4f86\\u6e90\": \"\\u64f4\\u5927\\u76e3\\u6e2c\\u9001\\u9a57\", \"\\u901a\\u5831\\u6578\": 0}, {\"\\u65e5\\u671f\": \"2020-02-02\", \"\\u901a\\u5831\\u4f86\\u6e90\": \"\\u64f4\\u5927\\u76e3\\u6e2c\\u9001\\u9a57\", \"\\u901a\\u5831\\u6578\": 0}, {\"\\u65e5\\u671f\": \"2020-02-03\", \"\\u901a\\u5831\\u4f86\\u6e90\": \"\\u64f4\\u5927\\u76e3\\u6e2c\\u9001\\u9a57\", \"\\u901a\\u5831\\u6578\": 0}, {\"\\u65e5\\u671f\": \"2020-02-04\", \"\\u901a\\u5831\\u4f86\\u6e90\": \"\\u64f4\\u5927\\u76e3\\u6e2c\\u9001\\u9a57\", \"\\u901a\\u5831\\u6578\": 0}, {\"\\u65e5\\u671f\": \"2020-02-05\", \"\\u901a\\u5831\\u4f86\\u6e90\": \"\\u64f4\\u5927\\u76e3\\u6e2c\\u9001\\u9a57\", \"\\u901a\\u5831\\u6578\": 0}, {\"\\u65e5\\u671f\": \"2020-02-06\", \"\\u901a\\u5831\\u4f86\\u6e90\": \"\\u64f4\\u5927\\u76e3\\u6e2c\\u9001\\u9a57\", \"\\u901a\\u5831\\u6578\": 0}, {\"\\u65e5\\u671f\": \"2020-02-07\", \"\\u901a\\u5831\\u4f86\\u6e90\": \"\\u64f4\\u5927\\u76e3\\u6e2c\\u9001\\u9a57\", \"\\u901a\\u5831\\u6578\": 0}, {\"\\u65e5\\u671f\": \"2020-02-08\", \"\\u901a\\u5831\\u4f86\\u6e90\": \"\\u64f4\\u5927\\u76e3\\u6e2c\\u9001\\u9a57\", \"\\u901a\\u5831\\u6578\": 0}, {\"\\u65e5\\u671f\": \"2020-02-09\", \"\\u901a\\u5831\\u4f86\\u6e90\": \"\\u64f4\\u5927\\u76e3\\u6e2c\\u9001\\u9a57\", \"\\u901a\\u5831\\u6578\": 0}, {\"\\u65e5\\u671f\": \"2020-02-10\", \"\\u901a\\u5831\\u4f86\\u6e90\": \"\\u64f4\\u5927\\u76e3\\u6e2c\\u9001\\u9a57\", \"\\u901a\\u5831\\u6578\": 0}, {\"\\u65e5\\u671f\": \"2020-02-11\", \"\\u901a\\u5831\\u4f86\\u6e90\": \"\\u64f4\\u5927\\u76e3\\u6e2c\\u9001\\u9a57\", \"\\u901a\\u5831\\u6578\": 0}, {\"\\u65e5\\u671f\": \"2020-02-12\", \"\\u901a\\u5831\\u4f86\\u6e90\": \"\\u64f4\\u5927\\u76e3\\u6e2c\\u9001\\u9a57\", \"\\u901a\\u5831\\u6578\": 0}, {\"\\u65e5\\u671f\": \"2020-02-13\", \"\\u901a\\u5831\\u4f86\\u6e90\": \"\\u64f4\\u5927\\u76e3\\u6e2c\\u9001\\u9a57\", \"\\u901a\\u5831\\u6578\": 0}, {\"\\u65e5\\u671f\": \"2020-02-14\", \"\\u901a\\u5831\\u4f86\\u6e90\": \"\\u64f4\\u5927\\u76e3\\u6e2c\\u9001\\u9a57\", \"\\u901a\\u5831\\u6578\": 0}, {\"\\u65e5\\u671f\": \"2020-02-15\", \"\\u901a\\u5831\\u4f86\\u6e90\": \"\\u64f4\\u5927\\u76e3\\u6e2c\\u9001\\u9a57\", \"\\u901a\\u5831\\u6578\": 0}, {\"\\u65e5\\u671f\": \"2020-02-16\", \"\\u901a\\u5831\\u4f86\\u6e90\": \"\\u64f4\\u5927\\u76e3\\u6e2c\\u9001\\u9a57\", \"\\u901a\\u5831\\u6578\": 6}, {\"\\u65e5\\u671f\": \"2020-02-17\", \"\\u901a\\u5831\\u4f86\\u6e90\": \"\\u64f4\\u5927\\u76e3\\u6e2c\\u9001\\u9a57\", \"\\u901a\\u5831\\u6578\": 615}, {\"\\u65e5\\u671f\": \"2020-02-18\", \"\\u901a\\u5831\\u4f86\\u6e90\": \"\\u64f4\\u5927\\u76e3\\u6e2c\\u9001\\u9a57\", \"\\u901a\\u5831\\u6578\": 726}, {\"\\u65e5\\u671f\": \"2020-02-19\", \"\\u901a\\u5831\\u4f86\\u6e90\": \"\\u64f4\\u5927\\u76e3\\u6e2c\\u9001\\u9a57\", \"\\u901a\\u5831\\u6578\": 605}, {\"\\u65e5\\u671f\": \"2020-02-20\", \"\\u901a\\u5831\\u4f86\\u6e90\": \"\\u64f4\\u5927\\u76e3\\u6e2c\\u9001\\u9a57\", \"\\u901a\\u5831\\u6578\": 722}, {\"\\u65e5\\u671f\": \"2020-02-21\", \"\\u901a\\u5831\\u4f86\\u6e90\": \"\\u64f4\\u5927\\u76e3\\u6e2c\\u9001\\u9a57\", \"\\u901a\\u5831\\u6578\": 653}, {\"\\u65e5\\u671f\": \"2020-02-22\", \"\\u901a\\u5831\\u4f86\\u6e90\": \"\\u64f4\\u5927\\u76e3\\u6e2c\\u9001\\u9a57\", \"\\u901a\\u5831\\u6578\": 381}, {\"\\u65e5\\u671f\": \"2020-02-23\", \"\\u901a\\u5831\\u4f86\\u6e90\": \"\\u64f4\\u5927\\u76e3\\u6e2c\\u9001\\u9a57\", \"\\u901a\\u5831\\u6578\": 283}, {\"\\u65e5\\u671f\": \"2020-02-24\", \"\\u901a\\u5831\\u4f86\\u6e90\": \"\\u64f4\\u5927\\u76e3\\u6e2c\\u9001\\u9a57\", \"\\u901a\\u5831\\u6578\": 651}, {\"\\u65e5\\u671f\": \"2020-02-25\", \"\\u901a\\u5831\\u4f86\\u6e90\": \"\\u64f4\\u5927\\u76e3\\u6e2c\\u9001\\u9a57\", \"\\u901a\\u5831\\u6578\": 564}, {\"\\u65e5\\u671f\": \"2020-02-26\", \"\\u901a\\u5831\\u4f86\\u6e90\": \"\\u64f4\\u5927\\u76e3\\u6e2c\\u9001\\u9a57\", \"\\u901a\\u5831\\u6578\": 485}, {\"\\u65e5\\u671f\": \"2020-02-27\", \"\\u901a\\u5831\\u4f86\\u6e90\": \"\\u64f4\\u5927\\u76e3\\u6e2c\\u9001\\u9a57\", \"\\u901a\\u5831\\u6578\": 487}, {\"\\u65e5\\u671f\": \"2020-02-28\", \"\\u901a\\u5831\\u4f86\\u6e90\": \"\\u64f4\\u5927\\u76e3\\u6e2c\\u9001\\u9a57\", \"\\u901a\\u5831\\u6578\": 346}, {\"\\u65e5\\u671f\": \"2020-02-29\", \"\\u901a\\u5831\\u4f86\\u6e90\": \"\\u64f4\\u5927\\u76e3\\u6e2c\\u9001\\u9a57\", \"\\u901a\\u5831\\u6578\": 414}, {\"\\u65e5\\u671f\": \"2020-03-01\", \"\\u901a\\u5831\\u4f86\\u6e90\": \"\\u64f4\\u5927\\u76e3\\u6e2c\\u9001\\u9a57\", \"\\u901a\\u5831\\u6578\": 327}, {\"\\u65e5\\u671f\": \"2020-03-02\", \"\\u901a\\u5831\\u4f86\\u6e90\": \"\\u64f4\\u5927\\u76e3\\u6e2c\\u9001\\u9a57\", \"\\u901a\\u5831\\u6578\": 436}, {\"\\u65e5\\u671f\": \"2020-03-03\", \"\\u901a\\u5831\\u4f86\\u6e90\": \"\\u64f4\\u5927\\u76e3\\u6e2c\\u9001\\u9a57\", \"\\u901a\\u5831\\u6578\": 358}, {\"\\u65e5\\u671f\": \"2020-03-04\", \"\\u901a\\u5831\\u4f86\\u6e90\": \"\\u64f4\\u5927\\u76e3\\u6e2c\\u9001\\u9a57\", \"\\u901a\\u5831\\u6578\": 348}, {\"\\u65e5\\u671f\": \"2020-03-05\", \"\\u901a\\u5831\\u4f86\\u6e90\": \"\\u64f4\\u5927\\u76e3\\u6e2c\\u9001\\u9a57\", \"\\u901a\\u5831\\u6578\": 214}, {\"\\u65e5\\u671f\": \"2020-03-06\", \"\\u901a\\u5831\\u4f86\\u6e90\": \"\\u64f4\\u5927\\u76e3\\u6e2c\\u9001\\u9a57\", \"\\u901a\\u5831\\u6578\": 282}, {\"\\u65e5\\u671f\": \"2020-03-07\", \"\\u901a\\u5831\\u4f86\\u6e90\": \"\\u64f4\\u5927\\u76e3\\u6e2c\\u9001\\u9a57\", \"\\u901a\\u5831\\u6578\": 232}, {\"\\u65e5\\u671f\": \"2020-03-08\", \"\\u901a\\u5831\\u4f86\\u6e90\": \"\\u64f4\\u5927\\u76e3\\u6e2c\\u9001\\u9a57\", \"\\u901a\\u5831\\u6578\": 247}, {\"\\u65e5\\u671f\": \"2020-03-09\", \"\\u901a\\u5831\\u4f86\\u6e90\": \"\\u64f4\\u5927\\u76e3\\u6e2c\\u9001\\u9a57\", \"\\u901a\\u5831\\u6578\": 379}, {\"\\u65e5\\u671f\": \"2020-03-10\", \"\\u901a\\u5831\\u4f86\\u6e90\": \"\\u64f4\\u5927\\u76e3\\u6e2c\\u9001\\u9a57\", \"\\u901a\\u5831\\u6578\": 248}, {\"\\u65e5\\u671f\": \"2020-03-11\", \"\\u901a\\u5831\\u4f86\\u6e90\": \"\\u64f4\\u5927\\u76e3\\u6e2c\\u9001\\u9a57\", \"\\u901a\\u5831\\u6578\": 364}, {\"\\u65e5\\u671f\": \"2020-03-12\", \"\\u901a\\u5831\\u4f86\\u6e90\": \"\\u64f4\\u5927\\u76e3\\u6e2c\\u9001\\u9a57\", \"\\u901a\\u5831\\u6578\": 614}, {\"\\u65e5\\u671f\": \"2020-03-13\", \"\\u901a\\u5831\\u4f86\\u6e90\": \"\\u64f4\\u5927\\u76e3\\u6e2c\\u9001\\u9a57\", \"\\u901a\\u5831\\u6578\": 345}, {\"\\u65e5\\u671f\": \"2020-03-14\", \"\\u901a\\u5831\\u4f86\\u6e90\": \"\\u64f4\\u5927\\u76e3\\u6e2c\\u9001\\u9a57\", \"\\u901a\\u5831\\u6578\": 302}, {\"\\u65e5\\u671f\": \"2020-03-15\", \"\\u901a\\u5831\\u4f86\\u6e90\": \"\\u64f4\\u5927\\u76e3\\u6e2c\\u9001\\u9a57\", \"\\u901a\\u5831\\u6578\": 241}, {\"\\u65e5\\u671f\": \"2020-03-16\", \"\\u901a\\u5831\\u4f86\\u6e90\": \"\\u64f4\\u5927\\u76e3\\u6e2c\\u9001\\u9a57\", \"\\u901a\\u5831\\u6578\": 585}, {\"\\u65e5\\u671f\": \"2020-03-17\", \"\\u901a\\u5831\\u4f86\\u6e90\": \"\\u64f4\\u5927\\u76e3\\u6e2c\\u9001\\u9a57\", \"\\u901a\\u5831\\u6578\": 696}, {\"\\u65e5\\u671f\": \"2020-03-18\", \"\\u901a\\u5831\\u4f86\\u6e90\": \"\\u64f4\\u5927\\u76e3\\u6e2c\\u9001\\u9a57\", \"\\u901a\\u5831\\u6578\": 927}, {\"\\u65e5\\u671f\": \"2020-03-19\", \"\\u901a\\u5831\\u4f86\\u6e90\": \"\\u64f4\\u5927\\u76e3\\u6e2c\\u9001\\u9a57\", \"\\u901a\\u5831\\u6578\": 1010}, {\"\\u65e5\\u671f\": \"2020-03-20\", \"\\u901a\\u5831\\u4f86\\u6e90\": \"\\u64f4\\u5927\\u76e3\\u6e2c\\u9001\\u9a57\", \"\\u901a\\u5831\\u6578\": 924}, {\"\\u65e5\\u671f\": \"2020-03-21\", \"\\u901a\\u5831\\u4f86\\u6e90\": \"\\u64f4\\u5927\\u76e3\\u6e2c\\u9001\\u9a57\", \"\\u901a\\u5831\\u6578\": 672}, {\"\\u65e5\\u671f\": \"2020-03-22\", \"\\u901a\\u5831\\u4f86\\u6e90\": \"\\u64f4\\u5927\\u76e3\\u6e2c\\u9001\\u9a57\", \"\\u901a\\u5831\\u6578\": 541}, {\"\\u65e5\\u671f\": \"2020-03-23\", \"\\u901a\\u5831\\u4f86\\u6e90\": \"\\u64f4\\u5927\\u76e3\\u6e2c\\u9001\\u9a57\", \"\\u901a\\u5831\\u6578\": 692}, {\"\\u65e5\\u671f\": \"2020-03-24\", \"\\u901a\\u5831\\u4f86\\u6e90\": \"\\u64f4\\u5927\\u76e3\\u6e2c\\u9001\\u9a57\", \"\\u901a\\u5831\\u6578\": 540}, {\"\\u65e5\\u671f\": \"2020-03-25\", \"\\u901a\\u5831\\u4f86\\u6e90\": \"\\u64f4\\u5927\\u76e3\\u6e2c\\u9001\\u9a57\", \"\\u901a\\u5831\\u6578\": 575}, {\"\\u65e5\\u671f\": \"2020-03-26\", \"\\u901a\\u5831\\u4f86\\u6e90\": \"\\u64f4\\u5927\\u76e3\\u6e2c\\u9001\\u9a57\", \"\\u901a\\u5831\\u6578\": 598}, {\"\\u65e5\\u671f\": \"2020-03-27\", \"\\u901a\\u5831\\u4f86\\u6e90\": \"\\u64f4\\u5927\\u76e3\\u6e2c\\u9001\\u9a57\", \"\\u901a\\u5831\\u6578\": 507}, {\"\\u65e5\\u671f\": \"2020-03-28\", \"\\u901a\\u5831\\u4f86\\u6e90\": \"\\u64f4\\u5927\\u76e3\\u6e2c\\u9001\\u9a57\", \"\\u901a\\u5831\\u6578\": 307}, {\"\\u65e5\\u671f\": \"2020-03-29\", \"\\u901a\\u5831\\u4f86\\u6e90\": \"\\u64f4\\u5927\\u76e3\\u6e2c\\u9001\\u9a57\", \"\\u901a\\u5831\\u6578\": 590}, {\"\\u65e5\\u671f\": \"2020-03-30\", \"\\u901a\\u5831\\u4f86\\u6e90\": \"\\u64f4\\u5927\\u76e3\\u6e2c\\u9001\\u9a57\", \"\\u901a\\u5831\\u6578\": 656}, {\"\\u65e5\\u671f\": \"2020-03-31\", \"\\u901a\\u5831\\u4f86\\u6e90\": \"\\u64f4\\u5927\\u76e3\\u6e2c\\u9001\\u9a57\", \"\\u901a\\u5831\\u6578\": 553}, {\"\\u65e5\\u671f\": \"2020-04-01\", \"\\u901a\\u5831\\u4f86\\u6e90\": \"\\u64f4\\u5927\\u76e3\\u6e2c\\u9001\\u9a57\", \"\\u901a\\u5831\\u6578\": 610}, {\"\\u65e5\\u671f\": \"2020-04-02\", \"\\u901a\\u5831\\u4f86\\u6e90\": \"\\u64f4\\u5927\\u76e3\\u6e2c\\u9001\\u9a57\", \"\\u901a\\u5831\\u6578\": 553}, {\"\\u65e5\\u671f\": \"2020-04-03\", \"\\u901a\\u5831\\u4f86\\u6e90\": \"\\u64f4\\u5927\\u76e3\\u6e2c\\u9001\\u9a57\", \"\\u901a\\u5831\\u6578\": 584}, {\"\\u65e5\\u671f\": \"2020-04-04\", \"\\u901a\\u5831\\u4f86\\u6e90\": \"\\u64f4\\u5927\\u76e3\\u6e2c\\u9001\\u9a57\", \"\\u901a\\u5831\\u6578\": 569}, {\"\\u65e5\\u671f\": \"2020-04-05\", \"\\u901a\\u5831\\u4f86\\u6e90\": \"\\u64f4\\u5927\\u76e3\\u6e2c\\u9001\\u9a57\", \"\\u901a\\u5831\\u6578\": 638}, {\"\\u65e5\\u671f\": \"2020-04-06\", \"\\u901a\\u5831\\u4f86\\u6e90\": \"\\u64f4\\u5927\\u76e3\\u6e2c\\u9001\\u9a57\", \"\\u901a\\u5831\\u6578\": 1387}, {\"\\u65e5\\u671f\": \"2020-04-07\", \"\\u901a\\u5831\\u4f86\\u6e90\": \"\\u64f4\\u5927\\u76e3\\u6e2c\\u9001\\u9a57\", \"\\u901a\\u5831\\u6578\": 1350}, {\"\\u65e5\\u671f\": \"2020-04-08\", \"\\u901a\\u5831\\u4f86\\u6e90\": \"\\u64f4\\u5927\\u76e3\\u6e2c\\u9001\\u9a57\", \"\\u901a\\u5831\\u6578\": 1356}, {\"\\u65e5\\u671f\": \"2020-04-09\", \"\\u901a\\u5831\\u4f86\\u6e90\": \"\\u64f4\\u5927\\u76e3\\u6e2c\\u9001\\u9a57\", \"\\u901a\\u5831\\u6578\": 1316}, {\"\\u65e5\\u671f\": \"2020-04-10\", \"\\u901a\\u5831\\u4f86\\u6e90\": \"\\u64f4\\u5927\\u76e3\\u6e2c\\u9001\\u9a57\", \"\\u901a\\u5831\\u6578\": 1324}, {\"\\u65e5\\u671f\": \"2020-04-11\", \"\\u901a\\u5831\\u4f86\\u6e90\": \"\\u64f4\\u5927\\u76e3\\u6e2c\\u9001\\u9a57\", \"\\u901a\\u5831\\u6578\": 923}, {\"\\u65e5\\u671f\": \"2020-04-12\", \"\\u901a\\u5831\\u4f86\\u6e90\": \"\\u64f4\\u5927\\u76e3\\u6e2c\\u9001\\u9a57\", \"\\u901a\\u5831\\u6578\": 565}, {\"\\u65e5\\u671f\": \"2020-04-13\", \"\\u901a\\u5831\\u4f86\\u6e90\": \"\\u64f4\\u5927\\u76e3\\u6e2c\\u9001\\u9a57\", \"\\u901a\\u5831\\u6578\": 1115}, {\"\\u65e5\\u671f\": \"2020-04-14\", \"\\u901a\\u5831\\u4f86\\u6e90\": \"\\u64f4\\u5927\\u76e3\\u6e2c\\u9001\\u9a57\", \"\\u901a\\u5831\\u6578\": 1022}, {\"\\u65e5\\u671f\": \"2020-04-15\", \"\\u901a\\u5831\\u4f86\\u6e90\": \"\\u64f4\\u5927\\u76e3\\u6e2c\\u9001\\u9a57\", \"\\u901a\\u5831\\u6578\": 802}, {\"\\u65e5\\u671f\": \"2020-04-16\", \"\\u901a\\u5831\\u4f86\\u6e90\": \"\\u64f4\\u5927\\u76e3\\u6e2c\\u9001\\u9a57\", \"\\u901a\\u5831\\u6578\": 754}, {\"\\u65e5\\u671f\": \"2020-04-17\", \"\\u901a\\u5831\\u4f86\\u6e90\": \"\\u64f4\\u5927\\u76e3\\u6e2c\\u9001\\u9a57\", \"\\u901a\\u5831\\u6578\": 712}, {\"\\u65e5\\u671f\": \"2020-04-18\", \"\\u901a\\u5831\\u4f86\\u6e90\": \"\\u64f4\\u5927\\u76e3\\u6e2c\\u9001\\u9a57\", \"\\u901a\\u5831\\u6578\": 460}, {\"\\u65e5\\u671f\": \"2020-04-19\", \"\\u901a\\u5831\\u4f86\\u6e90\": \"\\u64f4\\u5927\\u76e3\\u6e2c\\u9001\\u9a57\", \"\\u901a\\u5831\\u6578\": 497}, {\"\\u65e5\\u671f\": \"2020-04-20\", \"\\u901a\\u5831\\u4f86\\u6e90\": \"\\u64f4\\u5927\\u76e3\\u6e2c\\u9001\\u9a57\", \"\\u901a\\u5831\\u6578\": 1638}, {\"\\u65e5\\u671f\": \"2020-04-21\", \"\\u901a\\u5831\\u4f86\\u6e90\": \"\\u64f4\\u5927\\u76e3\\u6e2c\\u9001\\u9a57\", \"\\u901a\\u5831\\u6578\": 1212}, {\"\\u65e5\\u671f\": \"2020-04-22\", \"\\u901a\\u5831\\u4f86\\u6e90\": \"\\u64f4\\u5927\\u76e3\\u6e2c\\u9001\\u9a57\", \"\\u901a\\u5831\\u6578\": 1038}, {\"\\u65e5\\u671f\": \"2020-04-23\", \"\\u901a\\u5831\\u4f86\\u6e90\": \"\\u64f4\\u5927\\u76e3\\u6e2c\\u9001\\u9a57\", \"\\u901a\\u5831\\u6578\": 890}, {\"\\u65e5\\u671f\": \"2020-04-24\", \"\\u901a\\u5831\\u4f86\\u6e90\": \"\\u64f4\\u5927\\u76e3\\u6e2c\\u9001\\u9a57\", \"\\u901a\\u5831\\u6578\": 730}, {\"\\u65e5\\u671f\": \"2020-04-25\", \"\\u901a\\u5831\\u4f86\\u6e90\": \"\\u64f4\\u5927\\u76e3\\u6e2c\\u9001\\u9a57\", \"\\u901a\\u5831\\u6578\": 542}, {\"\\u65e5\\u671f\": \"2020-04-26\", \"\\u901a\\u5831\\u4f86\\u6e90\": \"\\u64f4\\u5927\\u76e3\\u6e2c\\u9001\\u9a57\", \"\\u901a\\u5831\\u6578\": 424}, {\"\\u65e5\\u671f\": \"2020-04-27\", \"\\u901a\\u5831\\u4f86\\u6e90\": \"\\u64f4\\u5927\\u76e3\\u6e2c\\u9001\\u9a57\", \"\\u901a\\u5831\\u6578\": 666}, {\"\\u65e5\\u671f\": \"2020-04-28\", \"\\u901a\\u5831\\u4f86\\u6e90\": \"\\u64f4\\u5927\\u76e3\\u6e2c\\u9001\\u9a57\", \"\\u901a\\u5831\\u6578\": 596}, {\"\\u65e5\\u671f\": \"2020-04-29\", \"\\u901a\\u5831\\u4f86\\u6e90\": \"\\u64f4\\u5927\\u76e3\\u6e2c\\u9001\\u9a57\", \"\\u901a\\u5831\\u6578\": 413}, {\"\\u65e5\\u671f\": \"2020-04-30\", \"\\u901a\\u5831\\u4f86\\u6e90\": \"\\u64f4\\u5927\\u76e3\\u6e2c\\u9001\\u9a57\", \"\\u901a\\u5831\\u6578\": 0}, {\"\\u65e5\\u671f\": \"2020-01-16\", \"\\u901a\\u5831\\u4f86\\u6e90\": \"\\u5c45\\u5bb6\\u6aa2\\u9a57\\u9001\\u9a57\", \"\\u901a\\u5831\\u6578\": 0}, {\"\\u65e5\\u671f\": \"2020-01-17\", \"\\u901a\\u5831\\u4f86\\u6e90\": \"\\u5c45\\u5bb6\\u6aa2\\u9a57\\u9001\\u9a57\", \"\\u901a\\u5831\\u6578\": 0}, {\"\\u65e5\\u671f\": \"2020-01-18\", \"\\u901a\\u5831\\u4f86\\u6e90\": \"\\u5c45\\u5bb6\\u6aa2\\u9a57\\u9001\\u9a57\", \"\\u901a\\u5831\\u6578\": 0}, {\"\\u65e5\\u671f\": \"2020-01-19\", \"\\u901a\\u5831\\u4f86\\u6e90\": \"\\u5c45\\u5bb6\\u6aa2\\u9a57\\u9001\\u9a57\", \"\\u901a\\u5831\\u6578\": 0}, {\"\\u65e5\\u671f\": \"2020-01-20\", \"\\u901a\\u5831\\u4f86\\u6e90\": \"\\u5c45\\u5bb6\\u6aa2\\u9a57\\u9001\\u9a57\", \"\\u901a\\u5831\\u6578\": 0}, {\"\\u65e5\\u671f\": \"2020-01-21\", \"\\u901a\\u5831\\u4f86\\u6e90\": \"\\u5c45\\u5bb6\\u6aa2\\u9a57\\u9001\\u9a57\", \"\\u901a\\u5831\\u6578\": 0}, {\"\\u65e5\\u671f\": \"2020-01-22\", \"\\u901a\\u5831\\u4f86\\u6e90\": \"\\u5c45\\u5bb6\\u6aa2\\u9a57\\u9001\\u9a57\", \"\\u901a\\u5831\\u6578\": 0}, {\"\\u65e5\\u671f\": \"2020-01-23\", \"\\u901a\\u5831\\u4f86\\u6e90\": \"\\u5c45\\u5bb6\\u6aa2\\u9a57\\u9001\\u9a57\", \"\\u901a\\u5831\\u6578\": 0}, {\"\\u65e5\\u671f\": \"2020-01-24\", \"\\u901a\\u5831\\u4f86\\u6e90\": \"\\u5c45\\u5bb6\\u6aa2\\u9a57\\u9001\\u9a57\", \"\\u901a\\u5831\\u6578\": 0}, {\"\\u65e5\\u671f\": \"2020-01-25\", \"\\u901a\\u5831\\u4f86\\u6e90\": \"\\u5c45\\u5bb6\\u6aa2\\u9a57\\u9001\\u9a57\", \"\\u901a\\u5831\\u6578\": 0}, {\"\\u65e5\\u671f\": \"2020-01-26\", \"\\u901a\\u5831\\u4f86\\u6e90\": \"\\u5c45\\u5bb6\\u6aa2\\u9a57\\u9001\\u9a57\", \"\\u901a\\u5831\\u6578\": 0}, {\"\\u65e5\\u671f\": \"2020-01-27\", \"\\u901a\\u5831\\u4f86\\u6e90\": \"\\u5c45\\u5bb6\\u6aa2\\u9a57\\u9001\\u9a57\", \"\\u901a\\u5831\\u6578\": 0}, {\"\\u65e5\\u671f\": \"2020-01-28\", \"\\u901a\\u5831\\u4f86\\u6e90\": \"\\u5c45\\u5bb6\\u6aa2\\u9a57\\u9001\\u9a57\", \"\\u901a\\u5831\\u6578\": 0}, {\"\\u65e5\\u671f\": \"2020-01-29\", \"\\u901a\\u5831\\u4f86\\u6e90\": \"\\u5c45\\u5bb6\\u6aa2\\u9a57\\u9001\\u9a57\", \"\\u901a\\u5831\\u6578\": 0}, {\"\\u65e5\\u671f\": \"2020-01-30\", \"\\u901a\\u5831\\u4f86\\u6e90\": \"\\u5c45\\u5bb6\\u6aa2\\u9a57\\u9001\\u9a57\", \"\\u901a\\u5831\\u6578\": 0}, {\"\\u65e5\\u671f\": \"2020-01-31\", \"\\u901a\\u5831\\u4f86\\u6e90\": \"\\u5c45\\u5bb6\\u6aa2\\u9a57\\u9001\\u9a57\", \"\\u901a\\u5831\\u6578\": 0}, {\"\\u65e5\\u671f\": \"2020-02-01\", \"\\u901a\\u5831\\u4f86\\u6e90\": \"\\u5c45\\u5bb6\\u6aa2\\u9a57\\u9001\\u9a57\", \"\\u901a\\u5831\\u6578\": 0}, {\"\\u65e5\\u671f\": \"2020-02-02\", \"\\u901a\\u5831\\u4f86\\u6e90\": \"\\u5c45\\u5bb6\\u6aa2\\u9a57\\u9001\\u9a57\", \"\\u901a\\u5831\\u6578\": 7}, {\"\\u65e5\\u671f\": \"2020-02-03\", \"\\u901a\\u5831\\u4f86\\u6e90\": \"\\u5c45\\u5bb6\\u6aa2\\u9a57\\u9001\\u9a57\", \"\\u901a\\u5831\\u6578\": 37}, {\"\\u65e5\\u671f\": \"2020-02-04\", \"\\u901a\\u5831\\u4f86\\u6e90\": \"\\u5c45\\u5bb6\\u6aa2\\u9a57\\u9001\\u9a57\", \"\\u901a\\u5831\\u6578\": 27}, {\"\\u65e5\\u671f\": \"2020-02-05\", \"\\u901a\\u5831\\u4f86\\u6e90\": \"\\u5c45\\u5bb6\\u6aa2\\u9a57\\u9001\\u9a57\", \"\\u901a\\u5831\\u6578\": 103}, {\"\\u65e5\\u671f\": \"2020-02-06\", \"\\u901a\\u5831\\u4f86\\u6e90\": \"\\u5c45\\u5bb6\\u6aa2\\u9a57\\u9001\\u9a57\", \"\\u901a\\u5831\\u6578\": 26}, {\"\\u65e5\\u671f\": \"2020-02-07\", \"\\u901a\\u5831\\u4f86\\u6e90\": \"\\u5c45\\u5bb6\\u6aa2\\u9a57\\u9001\\u9a57\", \"\\u901a\\u5831\\u6578\": 136}, {\"\\u65e5\\u671f\": \"2020-02-08\", \"\\u901a\\u5831\\u4f86\\u6e90\": \"\\u5c45\\u5bb6\\u6aa2\\u9a57\\u9001\\u9a57\", \"\\u901a\\u5831\\u6578\": 154}, {\"\\u65e5\\u671f\": \"2020-02-09\", \"\\u901a\\u5831\\u4f86\\u6e90\": \"\\u5c45\\u5bb6\\u6aa2\\u9a57\\u9001\\u9a57\", \"\\u901a\\u5831\\u6578\": 76}, {\"\\u65e5\\u671f\": \"2020-02-10\", \"\\u901a\\u5831\\u4f86\\u6e90\": \"\\u5c45\\u5bb6\\u6aa2\\u9a57\\u9001\\u9a57\", \"\\u901a\\u5831\\u6578\": 111}, {\"\\u65e5\\u671f\": \"2020-02-11\", \"\\u901a\\u5831\\u4f86\\u6e90\": \"\\u5c45\\u5bb6\\u6aa2\\u9a57\\u9001\\u9a57\", \"\\u901a\\u5831\\u6578\": 115}, {\"\\u65e5\\u671f\": \"2020-02-12\", \"\\u901a\\u5831\\u4f86\\u6e90\": \"\\u5c45\\u5bb6\\u6aa2\\u9a57\\u9001\\u9a57\", \"\\u901a\\u5831\\u6578\": 84}, {\"\\u65e5\\u671f\": \"2020-02-13\", \"\\u901a\\u5831\\u4f86\\u6e90\": \"\\u5c45\\u5bb6\\u6aa2\\u9a57\\u9001\\u9a57\", \"\\u901a\\u5831\\u6578\": 78}, {\"\\u65e5\\u671f\": \"2020-02-14\", \"\\u901a\\u5831\\u4f86\\u6e90\": \"\\u5c45\\u5bb6\\u6aa2\\u9a57\\u9001\\u9a57\", \"\\u901a\\u5831\\u6578\": 45}, {\"\\u65e5\\u671f\": \"2020-02-15\", \"\\u901a\\u5831\\u4f86\\u6e90\": \"\\u5c45\\u5bb6\\u6aa2\\u9a57\\u9001\\u9a57\", \"\\u901a\\u5831\\u6578\": 59}, {\"\\u65e5\\u671f\": \"2020-02-16\", \"\\u901a\\u5831\\u4f86\\u6e90\": \"\\u5c45\\u5bb6\\u6aa2\\u9a57\\u9001\\u9a57\", \"\\u901a\\u5831\\u6578\": 76}, {\"\\u65e5\\u671f\": \"2020-02-17\", \"\\u901a\\u5831\\u4f86\\u6e90\": \"\\u5c45\\u5bb6\\u6aa2\\u9a57\\u9001\\u9a57\", \"\\u901a\\u5831\\u6578\": 166}, {\"\\u65e5\\u671f\": \"2020-02-18\", \"\\u901a\\u5831\\u4f86\\u6e90\": \"\\u5c45\\u5bb6\\u6aa2\\u9a57\\u9001\\u9a57\", \"\\u901a\\u5831\\u6578\": 64}, {\"\\u65e5\\u671f\": \"2020-02-19\", \"\\u901a\\u5831\\u4f86\\u6e90\": \"\\u5c45\\u5bb6\\u6aa2\\u9a57\\u9001\\u9a57\", \"\\u901a\\u5831\\u6578\": 60}, {\"\\u65e5\\u671f\": \"2020-02-20\", \"\\u901a\\u5831\\u4f86\\u6e90\": \"\\u5c45\\u5bb6\\u6aa2\\u9a57\\u9001\\u9a57\", \"\\u901a\\u5831\\u6578\": 39}, {\"\\u65e5\\u671f\": \"2020-02-21\", \"\\u901a\\u5831\\u4f86\\u6e90\": \"\\u5c45\\u5bb6\\u6aa2\\u9a57\\u9001\\u9a57\", \"\\u901a\\u5831\\u6578\": 38}, {\"\\u65e5\\u671f\": \"2020-02-22\", \"\\u901a\\u5831\\u4f86\\u6e90\": \"\\u5c45\\u5bb6\\u6aa2\\u9a57\\u9001\\u9a57\", \"\\u901a\\u5831\\u6578\": 30}, {\"\\u65e5\\u671f\": \"2020-02-23\", \"\\u901a\\u5831\\u4f86\\u6e90\": \"\\u5c45\\u5bb6\\u6aa2\\u9a57\\u9001\\u9a57\", \"\\u901a\\u5831\\u6578\": 32}, {\"\\u65e5\\u671f\": \"2020-02-24\", \"\\u901a\\u5831\\u4f86\\u6e90\": \"\\u5c45\\u5bb6\\u6aa2\\u9a57\\u9001\\u9a57\", \"\\u901a\\u5831\\u6578\": 34}, {\"\\u65e5\\u671f\": \"2020-02-25\", \"\\u901a\\u5831\\u4f86\\u6e90\": \"\\u5c45\\u5bb6\\u6aa2\\u9a57\\u9001\\u9a57\", \"\\u901a\\u5831\\u6578\": 33}, {\"\\u65e5\\u671f\": \"2020-02-26\", \"\\u901a\\u5831\\u4f86\\u6e90\": \"\\u5c45\\u5bb6\\u6aa2\\u9a57\\u9001\\u9a57\", \"\\u901a\\u5831\\u6578\": 21}, {\"\\u65e5\\u671f\": \"2020-02-27\", \"\\u901a\\u5831\\u4f86\\u6e90\": \"\\u5c45\\u5bb6\\u6aa2\\u9a57\\u9001\\u9a57\", \"\\u901a\\u5831\\u6578\": 25}, {\"\\u65e5\\u671f\": \"2020-02-28\", \"\\u901a\\u5831\\u4f86\\u6e90\": \"\\u5c45\\u5bb6\\u6aa2\\u9a57\\u9001\\u9a57\", \"\\u901a\\u5831\\u6578\": 14}, {\"\\u65e5\\u671f\": \"2020-02-29\", \"\\u901a\\u5831\\u4f86\\u6e90\": \"\\u5c45\\u5bb6\\u6aa2\\u9a57\\u9001\\u9a57\", \"\\u901a\\u5831\\u6578\": 10}, {\"\\u65e5\\u671f\": \"2020-03-01\", \"\\u901a\\u5831\\u4f86\\u6e90\": \"\\u5c45\\u5bb6\\u6aa2\\u9a57\\u9001\\u9a57\", \"\\u901a\\u5831\\u6578\": 5}, {\"\\u65e5\\u671f\": \"2020-03-02\", \"\\u901a\\u5831\\u4f86\\u6e90\": \"\\u5c45\\u5bb6\\u6aa2\\u9a57\\u9001\\u9a57\", \"\\u901a\\u5831\\u6578\": 2}, {\"\\u65e5\\u671f\": \"2020-03-03\", \"\\u901a\\u5831\\u4f86\\u6e90\": \"\\u5c45\\u5bb6\\u6aa2\\u9a57\\u9001\\u9a57\", \"\\u901a\\u5831\\u6578\": 0}, {\"\\u65e5\\u671f\": \"2020-03-04\", \"\\u901a\\u5831\\u4f86\\u6e90\": \"\\u5c45\\u5bb6\\u6aa2\\u9a57\\u9001\\u9a57\", \"\\u901a\\u5831\\u6578\": 0}, {\"\\u65e5\\u671f\": \"2020-03-05\", \"\\u901a\\u5831\\u4f86\\u6e90\": \"\\u5c45\\u5bb6\\u6aa2\\u9a57\\u9001\\u9a57\", \"\\u901a\\u5831\\u6578\": 0}, {\"\\u65e5\\u671f\": \"2020-03-06\", \"\\u901a\\u5831\\u4f86\\u6e90\": \"\\u5c45\\u5bb6\\u6aa2\\u9a57\\u9001\\u9a57\", \"\\u901a\\u5831\\u6578\": 0}, {\"\\u65e5\\u671f\": \"2020-03-07\", \"\\u901a\\u5831\\u4f86\\u6e90\": \"\\u5c45\\u5bb6\\u6aa2\\u9a57\\u9001\\u9a57\", \"\\u901a\\u5831\\u6578\": 0}, {\"\\u65e5\\u671f\": \"2020-03-08\", \"\\u901a\\u5831\\u4f86\\u6e90\": \"\\u5c45\\u5bb6\\u6aa2\\u9a57\\u9001\\u9a57\", \"\\u901a\\u5831\\u6578\": 0}, {\"\\u65e5\\u671f\": \"2020-03-09\", \"\\u901a\\u5831\\u4f86\\u6e90\": \"\\u5c45\\u5bb6\\u6aa2\\u9a57\\u9001\\u9a57\", \"\\u901a\\u5831\\u6578\": 0}, {\"\\u65e5\\u671f\": \"2020-03-10\", \"\\u901a\\u5831\\u4f86\\u6e90\": \"\\u5c45\\u5bb6\\u6aa2\\u9a57\\u9001\\u9a57\", \"\\u901a\\u5831\\u6578\": 0}, {\"\\u65e5\\u671f\": \"2020-03-11\", \"\\u901a\\u5831\\u4f86\\u6e90\": \"\\u5c45\\u5bb6\\u6aa2\\u9a57\\u9001\\u9a57\", \"\\u901a\\u5831\\u6578\": 0}, {\"\\u65e5\\u671f\": \"2020-03-12\", \"\\u901a\\u5831\\u4f86\\u6e90\": \"\\u5c45\\u5bb6\\u6aa2\\u9a57\\u9001\\u9a57\", \"\\u901a\\u5831\\u6578\": 0}, {\"\\u65e5\\u671f\": \"2020-03-13\", \"\\u901a\\u5831\\u4f86\\u6e90\": \"\\u5c45\\u5bb6\\u6aa2\\u9a57\\u9001\\u9a57\", \"\\u901a\\u5831\\u6578\": 0}, {\"\\u65e5\\u671f\": \"2020-03-14\", \"\\u901a\\u5831\\u4f86\\u6e90\": \"\\u5c45\\u5bb6\\u6aa2\\u9a57\\u9001\\u9a57\", \"\\u901a\\u5831\\u6578\": 0}, {\"\\u65e5\\u671f\": \"2020-03-15\", \"\\u901a\\u5831\\u4f86\\u6e90\": \"\\u5c45\\u5bb6\\u6aa2\\u9a57\\u9001\\u9a57\", \"\\u901a\\u5831\\u6578\": 0}, {\"\\u65e5\\u671f\": \"2020-03-16\", \"\\u901a\\u5831\\u4f86\\u6e90\": \"\\u5c45\\u5bb6\\u6aa2\\u9a57\\u9001\\u9a57\", \"\\u901a\\u5831\\u6578\": 0}, {\"\\u65e5\\u671f\": \"2020-03-17\", \"\\u901a\\u5831\\u4f86\\u6e90\": \"\\u5c45\\u5bb6\\u6aa2\\u9a57\\u9001\\u9a57\", \"\\u901a\\u5831\\u6578\": 0}, {\"\\u65e5\\u671f\": \"2020-03-18\", \"\\u901a\\u5831\\u4f86\\u6e90\": \"\\u5c45\\u5bb6\\u6aa2\\u9a57\\u9001\\u9a57\", \"\\u901a\\u5831\\u6578\": 0}, {\"\\u65e5\\u671f\": \"2020-03-19\", \"\\u901a\\u5831\\u4f86\\u6e90\": \"\\u5c45\\u5bb6\\u6aa2\\u9a57\\u9001\\u9a57\", \"\\u901a\\u5831\\u6578\": 0}, {\"\\u65e5\\u671f\": \"2020-03-20\", \"\\u901a\\u5831\\u4f86\\u6e90\": \"\\u5c45\\u5bb6\\u6aa2\\u9a57\\u9001\\u9a57\", \"\\u901a\\u5831\\u6578\": 0}, {\"\\u65e5\\u671f\": \"2020-03-21\", \"\\u901a\\u5831\\u4f86\\u6e90\": \"\\u5c45\\u5bb6\\u6aa2\\u9a57\\u9001\\u9a57\", \"\\u901a\\u5831\\u6578\": 0}, {\"\\u65e5\\u671f\": \"2020-03-22\", \"\\u901a\\u5831\\u4f86\\u6e90\": \"\\u5c45\\u5bb6\\u6aa2\\u9a57\\u9001\\u9a57\", \"\\u901a\\u5831\\u6578\": 0}, {\"\\u65e5\\u671f\": \"2020-03-23\", \"\\u901a\\u5831\\u4f86\\u6e90\": \"\\u5c45\\u5bb6\\u6aa2\\u9a57\\u9001\\u9a57\", \"\\u901a\\u5831\\u6578\": 0}, {\"\\u65e5\\u671f\": \"2020-03-24\", \"\\u901a\\u5831\\u4f86\\u6e90\": \"\\u5c45\\u5bb6\\u6aa2\\u9a57\\u9001\\u9a57\", \"\\u901a\\u5831\\u6578\": 0}, {\"\\u65e5\\u671f\": \"2020-03-25\", \"\\u901a\\u5831\\u4f86\\u6e90\": \"\\u5c45\\u5bb6\\u6aa2\\u9a57\\u9001\\u9a57\", \"\\u901a\\u5831\\u6578\": 0}, {\"\\u65e5\\u671f\": \"2020-03-26\", \"\\u901a\\u5831\\u4f86\\u6e90\": \"\\u5c45\\u5bb6\\u6aa2\\u9a57\\u9001\\u9a57\", \"\\u901a\\u5831\\u6578\": 0}, {\"\\u65e5\\u671f\": \"2020-03-27\", \"\\u901a\\u5831\\u4f86\\u6e90\": \"\\u5c45\\u5bb6\\u6aa2\\u9a57\\u9001\\u9a57\", \"\\u901a\\u5831\\u6578\": 0}, {\"\\u65e5\\u671f\": \"2020-03-28\", \"\\u901a\\u5831\\u4f86\\u6e90\": \"\\u5c45\\u5bb6\\u6aa2\\u9a57\\u9001\\u9a57\", \"\\u901a\\u5831\\u6578\": 0}, {\"\\u65e5\\u671f\": \"2020-03-29\", \"\\u901a\\u5831\\u4f86\\u6e90\": \"\\u5c45\\u5bb6\\u6aa2\\u9a57\\u9001\\u9a57\", \"\\u901a\\u5831\\u6578\": 0}, {\"\\u65e5\\u671f\": \"2020-03-30\", \"\\u901a\\u5831\\u4f86\\u6e90\": \"\\u5c45\\u5bb6\\u6aa2\\u9a57\\u9001\\u9a57\", \"\\u901a\\u5831\\u6578\": 0}, {\"\\u65e5\\u671f\": \"2020-03-31\", \"\\u901a\\u5831\\u4f86\\u6e90\": \"\\u5c45\\u5bb6\\u6aa2\\u9a57\\u9001\\u9a57\", \"\\u901a\\u5831\\u6578\": 0}, {\"\\u65e5\\u671f\": \"2020-04-01\", \"\\u901a\\u5831\\u4f86\\u6e90\": \"\\u5c45\\u5bb6\\u6aa2\\u9a57\\u9001\\u9a57\", \"\\u901a\\u5831\\u6578\": 0}, {\"\\u65e5\\u671f\": \"2020-04-02\", \"\\u901a\\u5831\\u4f86\\u6e90\": \"\\u5c45\\u5bb6\\u6aa2\\u9a57\\u9001\\u9a57\", \"\\u901a\\u5831\\u6578\": 0}, {\"\\u65e5\\u671f\": \"2020-04-03\", \"\\u901a\\u5831\\u4f86\\u6e90\": \"\\u5c45\\u5bb6\\u6aa2\\u9a57\\u9001\\u9a57\", \"\\u901a\\u5831\\u6578\": 0}, {\"\\u65e5\\u671f\": \"2020-04-04\", \"\\u901a\\u5831\\u4f86\\u6e90\": \"\\u5c45\\u5bb6\\u6aa2\\u9a57\\u9001\\u9a57\", \"\\u901a\\u5831\\u6578\": 0}, {\"\\u65e5\\u671f\": \"2020-04-05\", \"\\u901a\\u5831\\u4f86\\u6e90\": \"\\u5c45\\u5bb6\\u6aa2\\u9a57\\u9001\\u9a57\", \"\\u901a\\u5831\\u6578\": 0}, {\"\\u65e5\\u671f\": \"2020-04-06\", \"\\u901a\\u5831\\u4f86\\u6e90\": \"\\u5c45\\u5bb6\\u6aa2\\u9a57\\u9001\\u9a57\", \"\\u901a\\u5831\\u6578\": 0}, {\"\\u65e5\\u671f\": \"2020-04-07\", \"\\u901a\\u5831\\u4f86\\u6e90\": \"\\u5c45\\u5bb6\\u6aa2\\u9a57\\u9001\\u9a57\", \"\\u901a\\u5831\\u6578\": 0}, {\"\\u65e5\\u671f\": \"2020-04-08\", \"\\u901a\\u5831\\u4f86\\u6e90\": \"\\u5c45\\u5bb6\\u6aa2\\u9a57\\u9001\\u9a57\", \"\\u901a\\u5831\\u6578\": 0}, {\"\\u65e5\\u671f\": \"2020-04-09\", \"\\u901a\\u5831\\u4f86\\u6e90\": \"\\u5c45\\u5bb6\\u6aa2\\u9a57\\u9001\\u9a57\", \"\\u901a\\u5831\\u6578\": 0}, {\"\\u65e5\\u671f\": \"2020-04-10\", \"\\u901a\\u5831\\u4f86\\u6e90\": \"\\u5c45\\u5bb6\\u6aa2\\u9a57\\u9001\\u9a57\", \"\\u901a\\u5831\\u6578\": 0}, {\"\\u65e5\\u671f\": \"2020-04-11\", \"\\u901a\\u5831\\u4f86\\u6e90\": \"\\u5c45\\u5bb6\\u6aa2\\u9a57\\u9001\\u9a57\", \"\\u901a\\u5831\\u6578\": 0}, {\"\\u65e5\\u671f\": \"2020-04-12\", \"\\u901a\\u5831\\u4f86\\u6e90\": \"\\u5c45\\u5bb6\\u6aa2\\u9a57\\u9001\\u9a57\", \"\\u901a\\u5831\\u6578\": 0}, {\"\\u65e5\\u671f\": \"2020-04-13\", \"\\u901a\\u5831\\u4f86\\u6e90\": \"\\u5c45\\u5bb6\\u6aa2\\u9a57\\u9001\\u9a57\", \"\\u901a\\u5831\\u6578\": 0}, {\"\\u65e5\\u671f\": \"2020-04-14\", \"\\u901a\\u5831\\u4f86\\u6e90\": \"\\u5c45\\u5bb6\\u6aa2\\u9a57\\u9001\\u9a57\", \"\\u901a\\u5831\\u6578\": 0}, {\"\\u65e5\\u671f\": \"2020-04-15\", \"\\u901a\\u5831\\u4f86\\u6e90\": \"\\u5c45\\u5bb6\\u6aa2\\u9a57\\u9001\\u9a57\", \"\\u901a\\u5831\\u6578\": 0}, {\"\\u65e5\\u671f\": \"2020-04-16\", \"\\u901a\\u5831\\u4f86\\u6e90\": \"\\u5c45\\u5bb6\\u6aa2\\u9a57\\u9001\\u9a57\", \"\\u901a\\u5831\\u6578\": 0}, {\"\\u65e5\\u671f\": \"2020-04-17\", \"\\u901a\\u5831\\u4f86\\u6e90\": \"\\u5c45\\u5bb6\\u6aa2\\u9a57\\u9001\\u9a57\", \"\\u901a\\u5831\\u6578\": 0}, {\"\\u65e5\\u671f\": \"2020-04-18\", \"\\u901a\\u5831\\u4f86\\u6e90\": \"\\u5c45\\u5bb6\\u6aa2\\u9a57\\u9001\\u9a57\", \"\\u901a\\u5831\\u6578\": 0}, {\"\\u65e5\\u671f\": \"2020-04-19\", \"\\u901a\\u5831\\u4f86\\u6e90\": \"\\u5c45\\u5bb6\\u6aa2\\u9a57\\u9001\\u9a57\", \"\\u901a\\u5831\\u6578\": 0}, {\"\\u65e5\\u671f\": \"2020-04-20\", \"\\u901a\\u5831\\u4f86\\u6e90\": \"\\u5c45\\u5bb6\\u6aa2\\u9a57\\u9001\\u9a57\", \"\\u901a\\u5831\\u6578\": 0}, {\"\\u65e5\\u671f\": \"2020-04-21\", \"\\u901a\\u5831\\u4f86\\u6e90\": \"\\u5c45\\u5bb6\\u6aa2\\u9a57\\u9001\\u9a57\", \"\\u901a\\u5831\\u6578\": 0}, {\"\\u65e5\\u671f\": \"2020-04-22\", \"\\u901a\\u5831\\u4f86\\u6e90\": \"\\u5c45\\u5bb6\\u6aa2\\u9a57\\u9001\\u9a57\", \"\\u901a\\u5831\\u6578\": 0}, {\"\\u65e5\\u671f\": \"2020-04-23\", \"\\u901a\\u5831\\u4f86\\u6e90\": \"\\u5c45\\u5bb6\\u6aa2\\u9a57\\u9001\\u9a57\", \"\\u901a\\u5831\\u6578\": 0}, {\"\\u65e5\\u671f\": \"2020-04-24\", \"\\u901a\\u5831\\u4f86\\u6e90\": \"\\u5c45\\u5bb6\\u6aa2\\u9a57\\u9001\\u9a57\", \"\\u901a\\u5831\\u6578\": 0}, {\"\\u65e5\\u671f\": \"2020-04-25\", \"\\u901a\\u5831\\u4f86\\u6e90\": \"\\u5c45\\u5bb6\\u6aa2\\u9a57\\u9001\\u9a57\", \"\\u901a\\u5831\\u6578\": 0}, {\"\\u65e5\\u671f\": \"2020-04-26\", \"\\u901a\\u5831\\u4f86\\u6e90\": \"\\u5c45\\u5bb6\\u6aa2\\u9a57\\u9001\\u9a57\", \"\\u901a\\u5831\\u6578\": 0}, {\"\\u65e5\\u671f\": \"2020-04-27\", \"\\u901a\\u5831\\u4f86\\u6e90\": \"\\u5c45\\u5bb6\\u6aa2\\u9a57\\u9001\\u9a57\", \"\\u901a\\u5831\\u6578\": 0}, {\"\\u65e5\\u671f\": \"2020-04-28\", \"\\u901a\\u5831\\u4f86\\u6e90\": \"\\u5c45\\u5bb6\\u6aa2\\u9a57\\u9001\\u9a57\", \"\\u901a\\u5831\\u6578\": 0}, {\"\\u65e5\\u671f\": \"2020-04-29\", \"\\u901a\\u5831\\u4f86\\u6e90\": \"\\u5c45\\u5bb6\\u6aa2\\u9a57\\u9001\\u9a57\", \"\\u901a\\u5831\\u6578\": 0}, {\"\\u65e5\\u671f\": \"2020-04-30\", \"\\u901a\\u5831\\u4f86\\u6e90\": \"\\u5c45\\u5bb6\\u6aa2\\u9a57\\u9001\\u9a57\", \"\\u901a\\u5831\\u6578\": 0}, {\"\\u65e5\\u671f\": \"2020-01-16\", \"\\u901a\\u5831\\u4f86\\u6e90\": \"\\u6cd5\\u5b9a\\u50b3\\u67d3\\u75c5\\u901a\\u5831\", \"\\u901a\\u5831\\u6578\": 4}, {\"\\u65e5\\u671f\": \"2020-01-17\", \"\\u901a\\u5831\\u4f86\\u6e90\": \"\\u6cd5\\u5b9a\\u50b3\\u67d3\\u75c5\\u901a\\u5831\", \"\\u901a\\u5831\\u6578\": 0}, {\"\\u65e5\\u671f\": \"2020-01-18\", \"\\u901a\\u5831\\u4f86\\u6e90\": \"\\u6cd5\\u5b9a\\u50b3\\u67d3\\u75c5\\u901a\\u5831\", \"\\u901a\\u5831\\u6578\": 1}, {\"\\u65e5\\u671f\": \"2020-01-19\", \"\\u901a\\u5831\\u4f86\\u6e90\": \"\\u6cd5\\u5b9a\\u50b3\\u67d3\\u75c5\\u901a\\u5831\", \"\\u901a\\u5831\\u6578\": 1}, {\"\\u65e5\\u671f\": \"2020-01-20\", \"\\u901a\\u5831\\u4f86\\u6e90\": \"\\u6cd5\\u5b9a\\u50b3\\u67d3\\u75c5\\u901a\\u5831\", \"\\u901a\\u5831\\u6578\": 2}, {\"\\u65e5\\u671f\": \"2020-01-21\", \"\\u901a\\u5831\\u4f86\\u6e90\": \"\\u6cd5\\u5b9a\\u50b3\\u67d3\\u75c5\\u901a\\u5831\", \"\\u901a\\u5831\\u6578\": 12}, {\"\\u65e5\\u671f\": \"2020-01-22\", \"\\u901a\\u5831\\u4f86\\u6e90\": \"\\u6cd5\\u5b9a\\u50b3\\u67d3\\u75c5\\u901a\\u5831\", \"\\u901a\\u5831\\u6578\": 44}, {\"\\u65e5\\u671f\": \"2020-01-23\", \"\\u901a\\u5831\\u4f86\\u6e90\": \"\\u6cd5\\u5b9a\\u50b3\\u67d3\\u75c5\\u901a\\u5831\", \"\\u901a\\u5831\\u6578\": 70}, {\"\\u65e5\\u671f\": \"2020-01-24\", \"\\u901a\\u5831\\u4f86\\u6e90\": \"\\u6cd5\\u5b9a\\u50b3\\u67d3\\u75c5\\u901a\\u5831\", \"\\u901a\\u5831\\u6578\": 57}, {\"\\u65e5\\u671f\": \"2020-01-25\", \"\\u901a\\u5831\\u4f86\\u6e90\": \"\\u6cd5\\u5b9a\\u50b3\\u67d3\\u75c5\\u901a\\u5831\", \"\\u901a\\u5831\\u6578\": 91}, {\"\\u65e5\\u671f\": \"2020-01-26\", \"\\u901a\\u5831\\u4f86\\u6e90\": \"\\u6cd5\\u5b9a\\u50b3\\u67d3\\u75c5\\u901a\\u5831\", \"\\u901a\\u5831\\u6578\": 117}, {\"\\u65e5\\u671f\": \"2020-01-27\", \"\\u901a\\u5831\\u4f86\\u6e90\": \"\\u6cd5\\u5b9a\\u50b3\\u67d3\\u75c5\\u901a\\u5831\", \"\\u901a\\u5831\\u6578\": 123}, {\"\\u65e5\\u671f\": \"2020-01-28\", \"\\u901a\\u5831\\u4f86\\u6e90\": \"\\u6cd5\\u5b9a\\u50b3\\u67d3\\u75c5\\u901a\\u5831\", \"\\u901a\\u5831\\u6578\": 95}, {\"\\u65e5\\u671f\": \"2020-01-29\", \"\\u901a\\u5831\\u4f86\\u6e90\": \"\\u6cd5\\u5b9a\\u50b3\\u67d3\\u75c5\\u901a\\u5831\", \"\\u901a\\u5831\\u6578\": 106}, {\"\\u65e5\\u671f\": \"2020-01-30\", \"\\u901a\\u5831\\u4f86\\u6e90\": \"\\u6cd5\\u5b9a\\u50b3\\u67d3\\u75c5\\u901a\\u5831\", \"\\u901a\\u5831\\u6578\": 100}, {\"\\u65e5\\u671f\": \"2020-01-31\", \"\\u901a\\u5831\\u4f86\\u6e90\": \"\\u6cd5\\u5b9a\\u50b3\\u67d3\\u75c5\\u901a\\u5831\", \"\\u901a\\u5831\\u6578\": 93}, {\"\\u65e5\\u671f\": \"2020-02-01\", \"\\u901a\\u5831\\u4f86\\u6e90\": \"\\u6cd5\\u5b9a\\u50b3\\u67d3\\u75c5\\u901a\\u5831\", \"\\u901a\\u5831\\u6578\": 87}, {\"\\u65e5\\u671f\": \"2020-02-02\", \"\\u901a\\u5831\\u4f86\\u6e90\": \"\\u6cd5\\u5b9a\\u50b3\\u67d3\\u75c5\\u901a\\u5831\", \"\\u901a\\u5831\\u6578\": 57}, {\"\\u65e5\\u671f\": \"2020-02-03\", \"\\u901a\\u5831\\u4f86\\u6e90\": \"\\u6cd5\\u5b9a\\u50b3\\u67d3\\u75c5\\u901a\\u5831\", \"\\u901a\\u5831\\u6578\": 94}, {\"\\u65e5\\u671f\": \"2020-02-04\", \"\\u901a\\u5831\\u4f86\\u6e90\": \"\\u6cd5\\u5b9a\\u50b3\\u67d3\\u75c5\\u901a\\u5831\", \"\\u901a\\u5831\\u6578\": 76}, {\"\\u65e5\\u671f\": \"2020-02-05\", \"\\u901a\\u5831\\u4f86\\u6e90\": \"\\u6cd5\\u5b9a\\u50b3\\u67d3\\u75c5\\u901a\\u5831\", \"\\u901a\\u5831\\u6578\": 54}, {\"\\u65e5\\u671f\": \"2020-02-06\", \"\\u901a\\u5831\\u4f86\\u6e90\": \"\\u6cd5\\u5b9a\\u50b3\\u67d3\\u75c5\\u901a\\u5831\", \"\\u901a\\u5831\\u6578\": 51}, {\"\\u65e5\\u671f\": \"2020-02-07\", \"\\u901a\\u5831\\u4f86\\u6e90\": \"\\u6cd5\\u5b9a\\u50b3\\u67d3\\u75c5\\u901a\\u5831\", \"\\u901a\\u5831\\u6578\": 63}, {\"\\u65e5\\u671f\": \"2020-02-08\", \"\\u901a\\u5831\\u4f86\\u6e90\": \"\\u6cd5\\u5b9a\\u50b3\\u67d3\\u75c5\\u901a\\u5831\", \"\\u901a\\u5831\\u6578\": 71}, {\"\\u65e5\\u671f\": \"2020-02-09\", \"\\u901a\\u5831\\u4f86\\u6e90\": \"\\u6cd5\\u5b9a\\u50b3\\u67d3\\u75c5\\u901a\\u5831\", \"\\u901a\\u5831\\u6578\": 52}, {\"\\u65e5\\u671f\": \"2020-02-10\", \"\\u901a\\u5831\\u4f86\\u6e90\": \"\\u6cd5\\u5b9a\\u50b3\\u67d3\\u75c5\\u901a\\u5831\", \"\\u901a\\u5831\\u6578\": 94}, {\"\\u65e5\\u671f\": \"2020-02-11\", \"\\u901a\\u5831\\u4f86\\u6e90\": \"\\u6cd5\\u5b9a\\u50b3\\u67d3\\u75c5\\u901a\\u5831\", \"\\u901a\\u5831\\u6578\": 53}, {\"\\u65e5\\u671f\": \"2020-02-12\", \"\\u901a\\u5831\\u4f86\\u6e90\": \"\\u6cd5\\u5b9a\\u50b3\\u67d3\\u75c5\\u901a\\u5831\", \"\\u901a\\u5831\\u6578\": 44}, {\"\\u65e5\\u671f\": \"2020-02-13\", \"\\u901a\\u5831\\u4f86\\u6e90\": \"\\u6cd5\\u5b9a\\u50b3\\u67d3\\u75c5\\u901a\\u5831\", \"\\u901a\\u5831\\u6578\": 37}, {\"\\u65e5\\u671f\": \"2020-02-14\", \"\\u901a\\u5831\\u4f86\\u6e90\": \"\\u6cd5\\u5b9a\\u50b3\\u67d3\\u75c5\\u901a\\u5831\", \"\\u901a\\u5831\\u6578\": 27}, {\"\\u65e5\\u671f\": \"2020-02-15\", \"\\u901a\\u5831\\u4f86\\u6e90\": \"\\u6cd5\\u5b9a\\u50b3\\u67d3\\u75c5\\u901a\\u5831\", \"\\u901a\\u5831\\u6578\": 30}, {\"\\u65e5\\u671f\": \"2020-02-16\", \"\\u901a\\u5831\\u4f86\\u6e90\": \"\\u6cd5\\u5b9a\\u50b3\\u67d3\\u75c5\\u901a\\u5831\", \"\\u901a\\u5831\\u6578\": 30}, {\"\\u65e5\\u671f\": \"2020-02-17\", \"\\u901a\\u5831\\u4f86\\u6e90\": \"\\u6cd5\\u5b9a\\u50b3\\u67d3\\u75c5\\u901a\\u5831\", \"\\u901a\\u5831\\u6578\": 32}, {\"\\u65e5\\u671f\": \"2020-02-18\", \"\\u901a\\u5831\\u4f86\\u6e90\": \"\\u6cd5\\u5b9a\\u50b3\\u67d3\\u75c5\\u901a\\u5831\", \"\\u901a\\u5831\\u6578\": 42}, {\"\\u65e5\\u671f\": \"2020-02-19\", \"\\u901a\\u5831\\u4f86\\u6e90\": \"\\u6cd5\\u5b9a\\u50b3\\u67d3\\u75c5\\u901a\\u5831\", \"\\u901a\\u5831\\u6578\": 31}, {\"\\u65e5\\u671f\": \"2020-02-20\", \"\\u901a\\u5831\\u4f86\\u6e90\": \"\\u6cd5\\u5b9a\\u50b3\\u67d3\\u75c5\\u901a\\u5831\", \"\\u901a\\u5831\\u6578\": 35}, {\"\\u65e5\\u671f\": \"2020-02-21\", \"\\u901a\\u5831\\u4f86\\u6e90\": \"\\u6cd5\\u5b9a\\u50b3\\u67d3\\u75c5\\u901a\\u5831\", \"\\u901a\\u5831\\u6578\": 23}, {\"\\u65e5\\u671f\": \"2020-02-22\", \"\\u901a\\u5831\\u4f86\\u6e90\": \"\\u6cd5\\u5b9a\\u50b3\\u67d3\\u75c5\\u901a\\u5831\", \"\\u901a\\u5831\\u6578\": 33}, {\"\\u65e5\\u671f\": \"2020-02-23\", \"\\u901a\\u5831\\u4f86\\u6e90\": \"\\u6cd5\\u5b9a\\u50b3\\u67d3\\u75c5\\u901a\\u5831\", \"\\u901a\\u5831\\u6578\": 13}, {\"\\u65e5\\u671f\": \"2020-02-24\", \"\\u901a\\u5831\\u4f86\\u6e90\": \"\\u6cd5\\u5b9a\\u50b3\\u67d3\\u75c5\\u901a\\u5831\", \"\\u901a\\u5831\\u6578\": 13}, {\"\\u65e5\\u671f\": \"2020-02-25\", \"\\u901a\\u5831\\u4f86\\u6e90\": \"\\u6cd5\\u5b9a\\u50b3\\u67d3\\u75c5\\u901a\\u5831\", \"\\u901a\\u5831\\u6578\": 12}, {\"\\u65e5\\u671f\": \"2020-02-26\", \"\\u901a\\u5831\\u4f86\\u6e90\": \"\\u6cd5\\u5b9a\\u50b3\\u67d3\\u75c5\\u901a\\u5831\", \"\\u901a\\u5831\\u6578\": 15}, {\"\\u65e5\\u671f\": \"2020-02-27\", \"\\u901a\\u5831\\u4f86\\u6e90\": \"\\u6cd5\\u5b9a\\u50b3\\u67d3\\u75c5\\u901a\\u5831\", \"\\u901a\\u5831\\u6578\": 8}, {\"\\u65e5\\u671f\": \"2020-02-28\", \"\\u901a\\u5831\\u4f86\\u6e90\": \"\\u6cd5\\u5b9a\\u50b3\\u67d3\\u75c5\\u901a\\u5831\", \"\\u901a\\u5831\\u6578\": 11}, {\"\\u65e5\\u671f\": \"2020-02-29\", \"\\u901a\\u5831\\u4f86\\u6e90\": \"\\u6cd5\\u5b9a\\u50b3\\u67d3\\u75c5\\u901a\\u5831\", \"\\u901a\\u5831\\u6578\": 87}, {\"\\u65e5\\u671f\": \"2020-03-01\", \"\\u901a\\u5831\\u4f86\\u6e90\": \"\\u6cd5\\u5b9a\\u50b3\\u67d3\\u75c5\\u901a\\u5831\", \"\\u901a\\u5831\\u6578\": 98}, {\"\\u65e5\\u671f\": \"2020-03-02\", \"\\u901a\\u5831\\u4f86\\u6e90\": \"\\u6cd5\\u5b9a\\u50b3\\u67d3\\u75c5\\u901a\\u5831\", \"\\u901a\\u5831\\u6578\": 162}, {\"\\u65e5\\u671f\": \"2020-03-03\", \"\\u901a\\u5831\\u4f86\\u6e90\": \"\\u6cd5\\u5b9a\\u50b3\\u67d3\\u75c5\\u901a\\u5831\", \"\\u901a\\u5831\\u6578\": 148}, {\"\\u65e5\\u671f\": \"2020-03-04\", \"\\u901a\\u5831\\u4f86\\u6e90\": \"\\u6cd5\\u5b9a\\u50b3\\u67d3\\u75c5\\u901a\\u5831\", \"\\u901a\\u5831\\u6578\": 137}, {\"\\u65e5\\u671f\": \"2020-03-05\", \"\\u901a\\u5831\\u4f86\\u6e90\": \"\\u6cd5\\u5b9a\\u50b3\\u67d3\\u75c5\\u901a\\u5831\", \"\\u901a\\u5831\\u6578\": 83}, {\"\\u65e5\\u671f\": \"2020-03-06\", \"\\u901a\\u5831\\u4f86\\u6e90\": \"\\u6cd5\\u5b9a\\u50b3\\u67d3\\u75c5\\u901a\\u5831\", \"\\u901a\\u5831\\u6578\": 99}, {\"\\u65e5\\u671f\": \"2020-03-07\", \"\\u901a\\u5831\\u4f86\\u6e90\": \"\\u6cd5\\u5b9a\\u50b3\\u67d3\\u75c5\\u901a\\u5831\", \"\\u901a\\u5831\\u6578\": 75}, {\"\\u65e5\\u671f\": \"2020-03-08\", \"\\u901a\\u5831\\u4f86\\u6e90\": \"\\u6cd5\\u5b9a\\u50b3\\u67d3\\u75c5\\u901a\\u5831\", \"\\u901a\\u5831\\u6578\": 51}, {\"\\u65e5\\u671f\": \"2020-03-09\", \"\\u901a\\u5831\\u4f86\\u6e90\": \"\\u6cd5\\u5b9a\\u50b3\\u67d3\\u75c5\\u901a\\u5831\", \"\\u901a\\u5831\\u6578\": 98}, {\"\\u65e5\\u671f\": \"2020-03-10\", \"\\u901a\\u5831\\u4f86\\u6e90\": \"\\u6cd5\\u5b9a\\u50b3\\u67d3\\u75c5\\u901a\\u5831\", \"\\u901a\\u5831\\u6578\": 84}, {\"\\u65e5\\u671f\": \"2020-03-11\", \"\\u901a\\u5831\\u4f86\\u6e90\": \"\\u6cd5\\u5b9a\\u50b3\\u67d3\\u75c5\\u901a\\u5831\", \"\\u901a\\u5831\\u6578\": 81}, {\"\\u65e5\\u671f\": \"2020-03-12\", \"\\u901a\\u5831\\u4f86\\u6e90\": \"\\u6cd5\\u5b9a\\u50b3\\u67d3\\u75c5\\u901a\\u5831\", \"\\u901a\\u5831\\u6578\": 63}, {\"\\u65e5\\u671f\": \"2020-03-13\", \"\\u901a\\u5831\\u4f86\\u6e90\": \"\\u6cd5\\u5b9a\\u50b3\\u67d3\\u75c5\\u901a\\u5831\", \"\\u901a\\u5831\\u6578\": 94}, {\"\\u65e5\\u671f\": \"2020-03-14\", \"\\u901a\\u5831\\u4f86\\u6e90\": \"\\u6cd5\\u5b9a\\u50b3\\u67d3\\u75c5\\u901a\\u5831\", \"\\u901a\\u5831\\u6578\": 78}, {\"\\u65e5\\u671f\": \"2020-03-15\", \"\\u901a\\u5831\\u4f86\\u6e90\": \"\\u6cd5\\u5b9a\\u50b3\\u67d3\\u75c5\\u901a\\u5831\", \"\\u901a\\u5831\\u6578\": 65}, {\"\\u65e5\\u671f\": \"2020-03-16\", \"\\u901a\\u5831\\u4f86\\u6e90\": \"\\u6cd5\\u5b9a\\u50b3\\u67d3\\u75c5\\u901a\\u5831\", \"\\u901a\\u5831\\u6578\": 144}, {\"\\u65e5\\u671f\": \"2020-03-17\", \"\\u901a\\u5831\\u4f86\\u6e90\": \"\\u6cd5\\u5b9a\\u50b3\\u67d3\\u75c5\\u901a\\u5831\", \"\\u901a\\u5831\\u6578\": 179}, {\"\\u65e5\\u671f\": \"2020-03-18\", \"\\u901a\\u5831\\u4f86\\u6e90\": \"\\u6cd5\\u5b9a\\u50b3\\u67d3\\u75c5\\u901a\\u5831\", \"\\u901a\\u5831\\u6578\": 267}, {\"\\u65e5\\u671f\": \"2020-03-19\", \"\\u901a\\u5831\\u4f86\\u6e90\": \"\\u6cd5\\u5b9a\\u50b3\\u67d3\\u75c5\\u901a\\u5831\", \"\\u901a\\u5831\\u6578\": 350}, {\"\\u65e5\\u671f\": \"2020-03-20\", \"\\u901a\\u5831\\u4f86\\u6e90\": \"\\u6cd5\\u5b9a\\u50b3\\u67d3\\u75c5\\u901a\\u5831\", \"\\u901a\\u5831\\u6578\": 447}, {\"\\u65e5\\u671f\": \"2020-03-21\", \"\\u901a\\u5831\\u4f86\\u6e90\": \"\\u6cd5\\u5b9a\\u50b3\\u67d3\\u75c5\\u901a\\u5831\", \"\\u901a\\u5831\\u6578\": 371}, {\"\\u65e5\\u671f\": \"2020-03-22\", \"\\u901a\\u5831\\u4f86\\u6e90\": \"\\u6cd5\\u5b9a\\u50b3\\u67d3\\u75c5\\u901a\\u5831\", \"\\u901a\\u5831\\u6578\": 266}, {\"\\u65e5\\u671f\": \"2020-03-23\", \"\\u901a\\u5831\\u4f86\\u6e90\": \"\\u6cd5\\u5b9a\\u50b3\\u67d3\\u75c5\\u901a\\u5831\", \"\\u901a\\u5831\\u6578\": 446}, {\"\\u65e5\\u671f\": \"2020-03-24\", \"\\u901a\\u5831\\u4f86\\u6e90\": \"\\u6cd5\\u5b9a\\u50b3\\u67d3\\u75c5\\u901a\\u5831\", \"\\u901a\\u5831\\u6578\": 382}, {\"\\u65e5\\u671f\": \"2020-03-25\", \"\\u901a\\u5831\\u4f86\\u6e90\": \"\\u6cd5\\u5b9a\\u50b3\\u67d3\\u75c5\\u901a\\u5831\", \"\\u901a\\u5831\\u6578\": 363}, {\"\\u65e5\\u671f\": \"2020-03-26\", \"\\u901a\\u5831\\u4f86\\u6e90\": \"\\u6cd5\\u5b9a\\u50b3\\u67d3\\u75c5\\u901a\\u5831\", \"\\u901a\\u5831\\u6578\": 330}, {\"\\u65e5\\u671f\": \"2020-03-27\", \"\\u901a\\u5831\\u4f86\\u6e90\": \"\\u6cd5\\u5b9a\\u50b3\\u67d3\\u75c5\\u901a\\u5831\", \"\\u901a\\u5831\\u6578\": 358}, {\"\\u65e5\\u671f\": \"2020-03-28\", \"\\u901a\\u5831\\u4f86\\u6e90\": \"\\u6cd5\\u5b9a\\u50b3\\u67d3\\u75c5\\u901a\\u5831\", \"\\u901a\\u5831\\u6578\": 220}, {\"\\u65e5\\u671f\": \"2020-03-29\", \"\\u901a\\u5831\\u4f86\\u6e90\": \"\\u6cd5\\u5b9a\\u50b3\\u67d3\\u75c5\\u901a\\u5831\", \"\\u901a\\u5831\\u6578\": 245}, {\"\\u65e5\\u671f\": \"2020-03-30\", \"\\u901a\\u5831\\u4f86\\u6e90\": \"\\u6cd5\\u5b9a\\u50b3\\u67d3\\u75c5\\u901a\\u5831\", \"\\u901a\\u5831\\u6578\": 367}, {\"\\u65e5\\u671f\": \"2020-03-31\", \"\\u901a\\u5831\\u4f86\\u6e90\": \"\\u6cd5\\u5b9a\\u50b3\\u67d3\\u75c5\\u901a\\u5831\", \"\\u901a\\u5831\\u6578\": 371}, {\"\\u65e5\\u671f\": \"2020-04-01\", \"\\u901a\\u5831\\u4f86\\u6e90\": \"\\u6cd5\\u5b9a\\u50b3\\u67d3\\u75c5\\u901a\\u5831\", \"\\u901a\\u5831\\u6578\": 400}, {\"\\u65e5\\u671f\": \"2020-04-02\", \"\\u901a\\u5831\\u4f86\\u6e90\": \"\\u6cd5\\u5b9a\\u50b3\\u67d3\\u75c5\\u901a\\u5831\", \"\\u901a\\u5831\\u6578\": 269}, {\"\\u65e5\\u671f\": \"2020-04-03\", \"\\u901a\\u5831\\u4f86\\u6e90\": \"\\u6cd5\\u5b9a\\u50b3\\u67d3\\u75c5\\u901a\\u5831\", \"\\u901a\\u5831\\u6578\": 296}, {\"\\u65e5\\u671f\": \"2020-04-04\", \"\\u901a\\u5831\\u4f86\\u6e90\": \"\\u6cd5\\u5b9a\\u50b3\\u67d3\\u75c5\\u901a\\u5831\", \"\\u901a\\u5831\\u6578\": 295}, {\"\\u65e5\\u671f\": \"2020-04-05\", \"\\u901a\\u5831\\u4f86\\u6e90\": \"\\u6cd5\\u5b9a\\u50b3\\u67d3\\u75c5\\u901a\\u5831\", \"\\u901a\\u5831\\u6578\": 274}, {\"\\u65e5\\u671f\": \"2020-04-06\", \"\\u901a\\u5831\\u4f86\\u6e90\": \"\\u6cd5\\u5b9a\\u50b3\\u67d3\\u75c5\\u901a\\u5831\", \"\\u901a\\u5831\\u6578\": 427}, {\"\\u65e5\\u671f\": \"2020-04-07\", \"\\u901a\\u5831\\u4f86\\u6e90\": \"\\u6cd5\\u5b9a\\u50b3\\u67d3\\u75c5\\u901a\\u5831\", \"\\u901a\\u5831\\u6578\": 335}, {\"\\u65e5\\u671f\": \"2020-04-08\", \"\\u901a\\u5831\\u4f86\\u6e90\": \"\\u6cd5\\u5b9a\\u50b3\\u67d3\\u75c5\\u901a\\u5831\", \"\\u901a\\u5831\\u6578\": 272}, {\"\\u65e5\\u671f\": \"2020-04-09\", \"\\u901a\\u5831\\u4f86\\u6e90\": \"\\u6cd5\\u5b9a\\u50b3\\u67d3\\u75c5\\u901a\\u5831\", \"\\u901a\\u5831\\u6578\": 260}, {\"\\u65e5\\u671f\": \"2020-04-10\", \"\\u901a\\u5831\\u4f86\\u6e90\": \"\\u6cd5\\u5b9a\\u50b3\\u67d3\\u75c5\\u901a\\u5831\", \"\\u901a\\u5831\\u6578\": 250}, {\"\\u65e5\\u671f\": \"2020-04-11\", \"\\u901a\\u5831\\u4f86\\u6e90\": \"\\u6cd5\\u5b9a\\u50b3\\u67d3\\u75c5\\u901a\\u5831\", \"\\u901a\\u5831\\u6578\": 168}, {\"\\u65e5\\u671f\": \"2020-04-12\", \"\\u901a\\u5831\\u4f86\\u6e90\": \"\\u6cd5\\u5b9a\\u50b3\\u67d3\\u75c5\\u901a\\u5831\", \"\\u901a\\u5831\\u6578\": 99}, {\"\\u65e5\\u671f\": \"2020-04-13\", \"\\u901a\\u5831\\u4f86\\u6e90\": \"\\u6cd5\\u5b9a\\u50b3\\u67d3\\u75c5\\u901a\\u5831\", \"\\u901a\\u5831\\u6578\": 225}, {\"\\u65e5\\u671f\": \"2020-04-14\", \"\\u901a\\u5831\\u4f86\\u6e90\": \"\\u6cd5\\u5b9a\\u50b3\\u67d3\\u75c5\\u901a\\u5831\", \"\\u901a\\u5831\\u6578\": 182}, {\"\\u65e5\\u671f\": \"2020-04-15\", \"\\u901a\\u5831\\u4f86\\u6e90\": \"\\u6cd5\\u5b9a\\u50b3\\u67d3\\u75c5\\u901a\\u5831\", \"\\u901a\\u5831\\u6578\": 150}, {\"\\u65e5\\u671f\": \"2020-04-16\", \"\\u901a\\u5831\\u4f86\\u6e90\": \"\\u6cd5\\u5b9a\\u50b3\\u67d3\\u75c5\\u901a\\u5831\", \"\\u901a\\u5831\\u6578\": 149}, {\"\\u65e5\\u671f\": \"2020-04-17\", \"\\u901a\\u5831\\u4f86\\u6e90\": \"\\u6cd5\\u5b9a\\u50b3\\u67d3\\u75c5\\u901a\\u5831\", \"\\u901a\\u5831\\u6578\": 126}, {\"\\u65e5\\u671f\": \"2020-04-18\", \"\\u901a\\u5831\\u4f86\\u6e90\": \"\\u6cd5\\u5b9a\\u50b3\\u67d3\\u75c5\\u901a\\u5831\", \"\\u901a\\u5831\\u6578\": 97}, {\"\\u65e5\\u671f\": \"2020-04-19\", \"\\u901a\\u5831\\u4f86\\u6e90\": \"\\u6cd5\\u5b9a\\u50b3\\u67d3\\u75c5\\u901a\\u5831\", \"\\u901a\\u5831\\u6578\": 127}, {\"\\u65e5\\u671f\": \"2020-04-20\", \"\\u901a\\u5831\\u4f86\\u6e90\": \"\\u6cd5\\u5b9a\\u50b3\\u67d3\\u75c5\\u901a\\u5831\", \"\\u901a\\u5831\\u6578\": 197}, {\"\\u65e5\\u671f\": \"2020-04-21\", \"\\u901a\\u5831\\u4f86\\u6e90\": \"\\u6cd5\\u5b9a\\u50b3\\u67d3\\u75c5\\u901a\\u5831\", \"\\u901a\\u5831\\u6578\": 159}, {\"\\u65e5\\u671f\": \"2020-04-22\", \"\\u901a\\u5831\\u4f86\\u6e90\": \"\\u6cd5\\u5b9a\\u50b3\\u67d3\\u75c5\\u901a\\u5831\", \"\\u901a\\u5831\\u6578\": 117}, {\"\\u65e5\\u671f\": \"2020-04-23\", \"\\u901a\\u5831\\u4f86\\u6e90\": \"\\u6cd5\\u5b9a\\u50b3\\u67d3\\u75c5\\u901a\\u5831\", \"\\u901a\\u5831\\u6578\": 125}, {\"\\u65e5\\u671f\": \"2020-04-24\", \"\\u901a\\u5831\\u4f86\\u6e90\": \"\\u6cd5\\u5b9a\\u50b3\\u67d3\\u75c5\\u901a\\u5831\", \"\\u901a\\u5831\\u6578\": 97}, {\"\\u65e5\\u671f\": \"2020-04-25\", \"\\u901a\\u5831\\u4f86\\u6e90\": \"\\u6cd5\\u5b9a\\u50b3\\u67d3\\u75c5\\u901a\\u5831\", \"\\u901a\\u5831\\u6578\": 77}, {\"\\u65e5\\u671f\": \"2020-04-26\", \"\\u901a\\u5831\\u4f86\\u6e90\": \"\\u6cd5\\u5b9a\\u50b3\\u67d3\\u75c5\\u901a\\u5831\", \"\\u901a\\u5831\\u6578\": 71}, {\"\\u65e5\\u671f\": \"2020-04-27\", \"\\u901a\\u5831\\u4f86\\u6e90\": \"\\u6cd5\\u5b9a\\u50b3\\u67d3\\u75c5\\u901a\\u5831\", \"\\u901a\\u5831\\u6578\": 76}, {\"\\u65e5\\u671f\": \"2020-04-28\", \"\\u901a\\u5831\\u4f86\\u6e90\": \"\\u6cd5\\u5b9a\\u50b3\\u67d3\\u75c5\\u901a\\u5831\", \"\\u901a\\u5831\\u6578\": 98}, {\"\\u65e5\\u671f\": \"2020-04-29\", \"\\u901a\\u5831\\u4f86\\u6e90\": \"\\u6cd5\\u5b9a\\u50b3\\u67d3\\u75c5\\u901a\\u5831\", \"\\u901a\\u5831\\u6578\": 73}, {\"\\u65e5\\u671f\": \"2020-04-30\", \"\\u901a\\u5831\\u4f86\\u6e90\": \"\\u6cd5\\u5b9a\\u50b3\\u67d3\\u75c5\\u901a\\u5831\", \"\\u901a\\u5831\\u6578\": 0}]}}, {\"actions\": false, \"mode\": \"vega-lite\"});\n",
              "</script>"
            ],
            "text/plain": [
              "alt.Chart(...)"
            ]
          },
          "execution_count": 8,
          "metadata": {},
          "output_type": "execute_result"
        }
      ],
      "source": [
        "import altair as alt  # 使用 altair 的標準起手式\n",
        "_ = alt.renderers.set_embed_options(actions=False)  # 隱藏下載圖片的按鈕以節省空間\n",
        "\n",
        "alt.Chart(data).mark_bar(  # 繪製柱狀圖\n",
        "# 將數據變數編碼（encode）到視覺變數上\n",
        ").encode(  \n",
        "    x=\"日期:T\",  # 將日期對應到 x 軸上\n",
        "    y=\"通報數:Q\",  # 將通報數對應到 y 軸上\n",
        "    color=\"通報來源:N\"  # 將通報來源對應到顏色\n",
        "# 設置整個圖的屬性\n",
        ").properties(  \n",
        "    width=700  # 圖表寬度\n",
        ")"
      ]
    },
    {
      "cell_type": "markdown",
      "metadata": {
        "papermill": {
          "duration": 0.212005,
          "end_time": "2020-04-30T06:07:56.299739",
          "exception": false,
          "start_time": "2020-04-30T06:07:56.087734",
          "status": "completed"
        },
        "tags": [],
        "id": "w8x8vWUArZm9"
      },
      "source": [
        "沒錯，我們剛剛用 Altair 生成了第一個 COVID-19 圖表！透過上圖我們也能清楚地觀察到在今年 2 月中旬後擴大監測的通報數明顯上升，而法定傳染病通報則在 3 月中旬後達到巔峰。這是我們無法從試算表一眼看出的趨勢。\n",
        "\n",
        "就算這是你第一次知曉 Altair，我相信搭配註解你會同意其使用方式十分直覺；忽略註解你也可以發現能用非常簡潔的宣告型語法（declarative syntax）來繪製出高品質的圖表：\n",
        "\n",
        "```python\n",
        "# 去除註解的最簡 Altair 繪圖呼叫方式\n",
        "alt.Chart(data).mark_bar().encode(\n",
        "    x=\"日期:T\"\n",
        "    y=\"通報數:Q\"\n",
        "    color=\"通報來源:N\"\n",
        ")\n",
        "```"
      ]
    },
    {
      "cell_type": "markdown",
      "metadata": {
        "papermill": {
          "duration": 0.037915,
          "end_time": "2020-04-30T06:07:56.383237",
          "exception": false,
          "start_time": "2020-04-30T06:07:56.345322",
          "status": "completed"
        },
        "tags": [],
        "id": "qK_PkpuxrZm9"
      },
      "source": [
        "沒錯，用 Altair 做資料視覺化就是那麼地樸實無華，簡單到可能有些資料科學家都不想跟你分享這個強大工具，以免失去工作(笑\n",
        "\n",
        "我們之前在[淺談資料視覺化以及 ggplot2 實踐](https://leemeng.tw/data-visualization-from-matplotlib-to-ggplot2.html)就已經說過："
      ]
    },
    {
      "cell_type": "markdown",
      "metadata": {
        "papermill": {
          "duration": 0.035517,
          "end_time": "2020-04-30T06:07:56.455145",
          "exception": false,
          "start_time": "2020-04-30T06:07:56.419628",
          "status": "completed"
        },
        "tags": [],
        "id": "ks93NznnrZm9"
      },
      "source": [
        "> quote: 資料視覺化是將數據映射到視覺變數，進而有效且有意義地呈現數據的真實面貌。"
      ]
    },
    {
      "cell_type": "markdown",
      "metadata": {
        "papermill": {
          "duration": 0.036974,
          "end_time": "2020-04-30T06:07:56.526094",
          "exception": false,
          "start_time": "2020-04-30T06:07:56.489120",
          "status": "completed"
        },
        "tags": [],
        "id": "YMl1rzXprZm9"
      },
      "source": [
        "透過 Altair 直覺的宣告型語法，我們可以專心思考如何用最有效的視覺變數來呈現數據，而不是將寶貴的精力花在微調樣式上面。有趣的是，Altair 的核心思想[跟我們之前聊過用 SQL 抽取數據的精神](https://leemeng.tw/why-you-need-to-learn-sql-as-a-data-scientist.html)是完全一致的：\n",
        "- Altair: 告訴程式你要畫什麼圖表，而不是如何畫\n",
        "- SQL：告訴程式你要拿什麼數據，而不是如何拿\n",
        "\n",
        "兩者都可以讓我們專注在最重要的目的（what），而不是手法（how）。\n",
        "\n",
        "另外注意我們用 `日期:T` 來告訴 Altair `日期` 這欄位的數據類型為時間（**T**ime），且因為我們已經事先把代表日期的字串轉成通用的 `YYYY-MM-DD` 格式， Altair 在繪圖時能夠自動解析日期並呈現如上圖 x 軸的美麗結果（你可以拉回去看看）。其他數據類型都很直覺，這邊就不再一一贅述。"
      ]
    },
    {
      "cell_type": "markdown",
      "metadata": {
        "papermill": {
          "duration": 0.033262,
          "end_time": "2020-04-30T06:07:56.593951",
          "exception": false,
          "start_time": "2020-04-30T06:07:56.560689",
          "status": "completed"
        },
        "tags": [],
        "id": "TUVm-LaQrZm9"
      },
      "source": [
        "> img: intro/altair_encoding_data_type.jpg|desc:Altair 定義的數據類型|url:https://altair-viz.github.io/user_guide/encoding.html#encoding-data-types|source:Altair 官方說明文件|dark"
      ]
    },
    {
      "cell_type": "markdown",
      "metadata": {
        "papermill": {
          "duration": 0.040043,
          "end_time": "2020-04-30T06:07:56.669082",
          "exception": false,
          "start_time": "2020-04-30T06:07:56.629039",
          "status": "completed"
        },
        "tags": [],
        "id": "KU7b3jDerZm9"
      },
      "source": [
        "你已經看到要用 Altair 繪製基本的圖表有多麽地簡單。但 Altair 更厲害的地方在於你可以輕易地客製化原來的圖表，比方說改變 x 軸渲染的日期格式、添增提示框等新的互動效果："
      ]
    },
    {
      "cell_type": "code",
      "execution_count": null,
      "metadata": {
        "execution": {
          "iopub.execute_input": "2020-04-30T06:07:56.754803Z",
          "iopub.status.busy": "2020-04-30T06:07:56.754156Z",
          "iopub.status.idle": "2020-04-30T06:07:56.791057Z",
          "shell.execute_reply": "2020-04-30T06:07:56.791670Z"
        },
        "papermill": {
          "duration": 0.08608,
          "end_time": "2020-04-30T06:07:56.791804",
          "exception": false,
          "start_time": "2020-04-30T06:07:56.705724",
          "status": "completed"
        },
        "tags": [],
        "id": "XJReeTMXrZm-",
        "outputId": "5f5856ac-51b9-4ca3-9971-1203b830bae1"
      },
      "outputs": [
        {
          "data": {
            "text/html": [
              "\n",
              "<div id=\"altair-viz-4b2f19348bb0406bbdc738f2acc759f2\"></div>\n",
              "<script type=\"text/javascript\">\n",
              "  (function(spec, embedOpt){\n",
              "    let outputDiv = document.currentScript.previousElementSibling;\n",
              "    if (outputDiv.id !== \"altair-viz-4b2f19348bb0406bbdc738f2acc759f2\") {\n",
              "      outputDiv = document.getElementById(\"altair-viz-4b2f19348bb0406bbdc738f2acc759f2\");\n",
              "    }\n",
              "    const paths = {\n",
              "      \"vega\": \"https://cdn.jsdelivr.net/npm//vega@5?noext\",\n",
              "      \"vega-lib\": \"https://cdn.jsdelivr.net/npm//vega-lib?noext\",\n",
              "      \"vega-lite\": \"https://cdn.jsdelivr.net/npm//vega-lite@4.8.1?noext\",\n",
              "      \"vega-embed\": \"https://cdn.jsdelivr.net/npm//vega-embed@6?noext\",\n",
              "    };\n",
              "\n",
              "    function loadScript(lib) {\n",
              "      return new Promise(function(resolve, reject) {\n",
              "        var s = document.createElement('script');\n",
              "        s.src = paths[lib];\n",
              "        s.async = true;\n",
              "        s.onload = () => resolve(paths[lib]);\n",
              "        s.onerror = () => reject(`Error loading script: ${paths[lib]}`);\n",
              "        document.getElementsByTagName(\"head\")[0].appendChild(s);\n",
              "      });\n",
              "    }\n",
              "\n",
              "    function showError(err) {\n",
              "      outputDiv.innerHTML = `<div class=\"error\" style=\"color:red;\">${err}</div>`;\n",
              "      throw err;\n",
              "    }\n",
              "\n",
              "    function displayChart(vegaEmbed) {\n",
              "      vegaEmbed(outputDiv, spec, embedOpt)\n",
              "        .catch(err => showError(`Javascript Error: ${err.message}<br>This usually means there's a typo in your chart specification. See the javascript console for the full traceback.`));\n",
              "    }\n",
              "\n",
              "    if(typeof define === \"function\" && define.amd) {\n",
              "      requirejs.config({paths});\n",
              "      require([\"vega-embed\"], displayChart, err => showError(`Error loading script: ${err.message}`));\n",
              "    } else if (typeof vegaEmbed === \"function\") {\n",
              "      displayChart(vegaEmbed);\n",
              "    } else {\n",
              "      loadScript(\"vega\")\n",
              "        .then(() => loadScript(\"vega-lite\"))\n",
              "        .then(() => loadScript(\"vega-embed\"))\n",
              "        .catch(showError)\n",
              "        .then(() => displayChart(vegaEmbed));\n",
              "    }\n",
              "  })({\"config\": {\"view\": {\"continuousWidth\": 400, \"continuousHeight\": 300}}, \"data\": {\"name\": \"data-feda252b0ba9b35d154d1f54de5135c7\"}, \"mark\": \"bar\", \"encoding\": {\"color\": {\"type\": \"ordinal\", \"field\": \"\\u901a\\u5831\\u4f86\\u6e90\"}, \"tooltip\": [{\"type\": \"temporal\", \"field\": \"\\u65e5\\u671f\"}, {\"type\": \"nominal\", \"field\": \"\\u901a\\u5831\\u4f86\\u6e90\"}, {\"type\": \"quantitative\", \"field\": \"\\u901a\\u5831\\u6578\"}], \"x\": {\"type\": \"temporal\", \"axis\": {\"format\": \"%m/%d\", \"grid\": false}, \"field\": \"\\u65e5\\u671f\", \"title\": \"\\u901a\\u5831\\u65e5\"}, \"y\": {\"type\": \"quantitative\", \"field\": \"\\u901a\\u5831\\u6578\"}}, \"title\": \"COVID-19\\uff08\\u6b66\\u6f22\\u80ba\\u708e\\uff09\\u76e3\\u6e2c\\u8da8\\u52e2\\u5716 - \\u4f9d\\u901a\\u5831\\u4f86\\u6e90\", \"width\": 700, \"$schema\": \"https://vega.github.io/schema/vega-lite/v4.8.1.json\", \"datasets\": {\"data-feda252b0ba9b35d154d1f54de5135c7\": [{\"\\u65e5\\u671f\": \"2020-01-16\", \"\\u901a\\u5831\\u4f86\\u6e90\": \"\\u64f4\\u5927\\u76e3\\u6e2c\\u9001\\u9a57\", \"\\u901a\\u5831\\u6578\": 0}, {\"\\u65e5\\u671f\": \"2020-01-17\", \"\\u901a\\u5831\\u4f86\\u6e90\": \"\\u64f4\\u5927\\u76e3\\u6e2c\\u9001\\u9a57\", \"\\u901a\\u5831\\u6578\": 0}, {\"\\u65e5\\u671f\": \"2020-01-18\", \"\\u901a\\u5831\\u4f86\\u6e90\": \"\\u64f4\\u5927\\u76e3\\u6e2c\\u9001\\u9a57\", \"\\u901a\\u5831\\u6578\": 0}, {\"\\u65e5\\u671f\": \"2020-01-19\", \"\\u901a\\u5831\\u4f86\\u6e90\": \"\\u64f4\\u5927\\u76e3\\u6e2c\\u9001\\u9a57\", \"\\u901a\\u5831\\u6578\": 0}, {\"\\u65e5\\u671f\": \"2020-01-20\", \"\\u901a\\u5831\\u4f86\\u6e90\": \"\\u64f4\\u5927\\u76e3\\u6e2c\\u9001\\u9a57\", \"\\u901a\\u5831\\u6578\": 0}, {\"\\u65e5\\u671f\": \"2020-01-21\", \"\\u901a\\u5831\\u4f86\\u6e90\": \"\\u64f4\\u5927\\u76e3\\u6e2c\\u9001\\u9a57\", \"\\u901a\\u5831\\u6578\": 0}, {\"\\u65e5\\u671f\": \"2020-01-22\", \"\\u901a\\u5831\\u4f86\\u6e90\": \"\\u64f4\\u5927\\u76e3\\u6e2c\\u9001\\u9a57\", \"\\u901a\\u5831\\u6578\": 0}, {\"\\u65e5\\u671f\": \"2020-01-23\", \"\\u901a\\u5831\\u4f86\\u6e90\": \"\\u64f4\\u5927\\u76e3\\u6e2c\\u9001\\u9a57\", \"\\u901a\\u5831\\u6578\": 0}, {\"\\u65e5\\u671f\": \"2020-01-24\", \"\\u901a\\u5831\\u4f86\\u6e90\": \"\\u64f4\\u5927\\u76e3\\u6e2c\\u9001\\u9a57\", \"\\u901a\\u5831\\u6578\": 0}, {\"\\u65e5\\u671f\": \"2020-01-25\", \"\\u901a\\u5831\\u4f86\\u6e90\": \"\\u64f4\\u5927\\u76e3\\u6e2c\\u9001\\u9a57\", \"\\u901a\\u5831\\u6578\": 0}, {\"\\u65e5\\u671f\": \"2020-01-26\", \"\\u901a\\u5831\\u4f86\\u6e90\": \"\\u64f4\\u5927\\u76e3\\u6e2c\\u9001\\u9a57\", \"\\u901a\\u5831\\u6578\": 0}, {\"\\u65e5\\u671f\": \"2020-01-27\", \"\\u901a\\u5831\\u4f86\\u6e90\": \"\\u64f4\\u5927\\u76e3\\u6e2c\\u9001\\u9a57\", \"\\u901a\\u5831\\u6578\": 0}, {\"\\u65e5\\u671f\": \"2020-01-28\", \"\\u901a\\u5831\\u4f86\\u6e90\": \"\\u64f4\\u5927\\u76e3\\u6e2c\\u9001\\u9a57\", \"\\u901a\\u5831\\u6578\": 0}, {\"\\u65e5\\u671f\": \"2020-01-29\", \"\\u901a\\u5831\\u4f86\\u6e90\": \"\\u64f4\\u5927\\u76e3\\u6e2c\\u9001\\u9a57\", \"\\u901a\\u5831\\u6578\": 0}, {\"\\u65e5\\u671f\": \"2020-01-30\", \"\\u901a\\u5831\\u4f86\\u6e90\": \"\\u64f4\\u5927\\u76e3\\u6e2c\\u9001\\u9a57\", \"\\u901a\\u5831\\u6578\": 0}, {\"\\u65e5\\u671f\": \"2020-01-31\", \"\\u901a\\u5831\\u4f86\\u6e90\": \"\\u64f4\\u5927\\u76e3\\u6e2c\\u9001\\u9a57\", \"\\u901a\\u5831\\u6578\": 0}, {\"\\u65e5\\u671f\": \"2020-02-01\", \"\\u901a\\u5831\\u4f86\\u6e90\": \"\\u64f4\\u5927\\u76e3\\u6e2c\\u9001\\u9a57\", \"\\u901a\\u5831\\u6578\": 0}, {\"\\u65e5\\u671f\": \"2020-02-02\", \"\\u901a\\u5831\\u4f86\\u6e90\": \"\\u64f4\\u5927\\u76e3\\u6e2c\\u9001\\u9a57\", \"\\u901a\\u5831\\u6578\": 0}, {\"\\u65e5\\u671f\": \"2020-02-03\", \"\\u901a\\u5831\\u4f86\\u6e90\": \"\\u64f4\\u5927\\u76e3\\u6e2c\\u9001\\u9a57\", \"\\u901a\\u5831\\u6578\": 0}, {\"\\u65e5\\u671f\": \"2020-02-04\", \"\\u901a\\u5831\\u4f86\\u6e90\": \"\\u64f4\\u5927\\u76e3\\u6e2c\\u9001\\u9a57\", \"\\u901a\\u5831\\u6578\": 0}, {\"\\u65e5\\u671f\": \"2020-02-05\", \"\\u901a\\u5831\\u4f86\\u6e90\": \"\\u64f4\\u5927\\u76e3\\u6e2c\\u9001\\u9a57\", \"\\u901a\\u5831\\u6578\": 0}, {\"\\u65e5\\u671f\": \"2020-02-06\", \"\\u901a\\u5831\\u4f86\\u6e90\": \"\\u64f4\\u5927\\u76e3\\u6e2c\\u9001\\u9a57\", \"\\u901a\\u5831\\u6578\": 0}, {\"\\u65e5\\u671f\": \"2020-02-07\", \"\\u901a\\u5831\\u4f86\\u6e90\": \"\\u64f4\\u5927\\u76e3\\u6e2c\\u9001\\u9a57\", \"\\u901a\\u5831\\u6578\": 0}, {\"\\u65e5\\u671f\": \"2020-02-08\", \"\\u901a\\u5831\\u4f86\\u6e90\": \"\\u64f4\\u5927\\u76e3\\u6e2c\\u9001\\u9a57\", \"\\u901a\\u5831\\u6578\": 0}, {\"\\u65e5\\u671f\": \"2020-02-09\", \"\\u901a\\u5831\\u4f86\\u6e90\": \"\\u64f4\\u5927\\u76e3\\u6e2c\\u9001\\u9a57\", \"\\u901a\\u5831\\u6578\": 0}, {\"\\u65e5\\u671f\": \"2020-02-10\", \"\\u901a\\u5831\\u4f86\\u6e90\": \"\\u64f4\\u5927\\u76e3\\u6e2c\\u9001\\u9a57\", \"\\u901a\\u5831\\u6578\": 0}, {\"\\u65e5\\u671f\": \"2020-02-11\", \"\\u901a\\u5831\\u4f86\\u6e90\": \"\\u64f4\\u5927\\u76e3\\u6e2c\\u9001\\u9a57\", \"\\u901a\\u5831\\u6578\": 0}, {\"\\u65e5\\u671f\": \"2020-02-12\", \"\\u901a\\u5831\\u4f86\\u6e90\": \"\\u64f4\\u5927\\u76e3\\u6e2c\\u9001\\u9a57\", \"\\u901a\\u5831\\u6578\": 0}, {\"\\u65e5\\u671f\": \"2020-02-13\", \"\\u901a\\u5831\\u4f86\\u6e90\": \"\\u64f4\\u5927\\u76e3\\u6e2c\\u9001\\u9a57\", \"\\u901a\\u5831\\u6578\": 0}, {\"\\u65e5\\u671f\": \"2020-02-14\", \"\\u901a\\u5831\\u4f86\\u6e90\": \"\\u64f4\\u5927\\u76e3\\u6e2c\\u9001\\u9a57\", \"\\u901a\\u5831\\u6578\": 0}, {\"\\u65e5\\u671f\": \"2020-02-15\", \"\\u901a\\u5831\\u4f86\\u6e90\": \"\\u64f4\\u5927\\u76e3\\u6e2c\\u9001\\u9a57\", \"\\u901a\\u5831\\u6578\": 0}, {\"\\u65e5\\u671f\": \"2020-02-16\", \"\\u901a\\u5831\\u4f86\\u6e90\": \"\\u64f4\\u5927\\u76e3\\u6e2c\\u9001\\u9a57\", \"\\u901a\\u5831\\u6578\": 6}, {\"\\u65e5\\u671f\": \"2020-02-17\", \"\\u901a\\u5831\\u4f86\\u6e90\": \"\\u64f4\\u5927\\u76e3\\u6e2c\\u9001\\u9a57\", \"\\u901a\\u5831\\u6578\": 615}, {\"\\u65e5\\u671f\": \"2020-02-18\", \"\\u901a\\u5831\\u4f86\\u6e90\": \"\\u64f4\\u5927\\u76e3\\u6e2c\\u9001\\u9a57\", \"\\u901a\\u5831\\u6578\": 726}, {\"\\u65e5\\u671f\": \"2020-02-19\", \"\\u901a\\u5831\\u4f86\\u6e90\": \"\\u64f4\\u5927\\u76e3\\u6e2c\\u9001\\u9a57\", \"\\u901a\\u5831\\u6578\": 605}, {\"\\u65e5\\u671f\": \"2020-02-20\", \"\\u901a\\u5831\\u4f86\\u6e90\": \"\\u64f4\\u5927\\u76e3\\u6e2c\\u9001\\u9a57\", \"\\u901a\\u5831\\u6578\": 722}, {\"\\u65e5\\u671f\": \"2020-02-21\", \"\\u901a\\u5831\\u4f86\\u6e90\": \"\\u64f4\\u5927\\u76e3\\u6e2c\\u9001\\u9a57\", \"\\u901a\\u5831\\u6578\": 653}, {\"\\u65e5\\u671f\": \"2020-02-22\", \"\\u901a\\u5831\\u4f86\\u6e90\": \"\\u64f4\\u5927\\u76e3\\u6e2c\\u9001\\u9a57\", \"\\u901a\\u5831\\u6578\": 381}, {\"\\u65e5\\u671f\": \"2020-02-23\", \"\\u901a\\u5831\\u4f86\\u6e90\": \"\\u64f4\\u5927\\u76e3\\u6e2c\\u9001\\u9a57\", \"\\u901a\\u5831\\u6578\": 283}, {\"\\u65e5\\u671f\": \"2020-02-24\", \"\\u901a\\u5831\\u4f86\\u6e90\": \"\\u64f4\\u5927\\u76e3\\u6e2c\\u9001\\u9a57\", \"\\u901a\\u5831\\u6578\": 651}, {\"\\u65e5\\u671f\": \"2020-02-25\", \"\\u901a\\u5831\\u4f86\\u6e90\": \"\\u64f4\\u5927\\u76e3\\u6e2c\\u9001\\u9a57\", \"\\u901a\\u5831\\u6578\": 564}, {\"\\u65e5\\u671f\": \"2020-02-26\", \"\\u901a\\u5831\\u4f86\\u6e90\": \"\\u64f4\\u5927\\u76e3\\u6e2c\\u9001\\u9a57\", \"\\u901a\\u5831\\u6578\": 485}, {\"\\u65e5\\u671f\": \"2020-02-27\", \"\\u901a\\u5831\\u4f86\\u6e90\": \"\\u64f4\\u5927\\u76e3\\u6e2c\\u9001\\u9a57\", \"\\u901a\\u5831\\u6578\": 487}, {\"\\u65e5\\u671f\": \"2020-02-28\", \"\\u901a\\u5831\\u4f86\\u6e90\": \"\\u64f4\\u5927\\u76e3\\u6e2c\\u9001\\u9a57\", \"\\u901a\\u5831\\u6578\": 346}, {\"\\u65e5\\u671f\": \"2020-02-29\", \"\\u901a\\u5831\\u4f86\\u6e90\": \"\\u64f4\\u5927\\u76e3\\u6e2c\\u9001\\u9a57\", \"\\u901a\\u5831\\u6578\": 414}, {\"\\u65e5\\u671f\": \"2020-03-01\", \"\\u901a\\u5831\\u4f86\\u6e90\": \"\\u64f4\\u5927\\u76e3\\u6e2c\\u9001\\u9a57\", \"\\u901a\\u5831\\u6578\": 327}, {\"\\u65e5\\u671f\": \"2020-03-02\", \"\\u901a\\u5831\\u4f86\\u6e90\": \"\\u64f4\\u5927\\u76e3\\u6e2c\\u9001\\u9a57\", \"\\u901a\\u5831\\u6578\": 436}, {\"\\u65e5\\u671f\": \"2020-03-03\", \"\\u901a\\u5831\\u4f86\\u6e90\": \"\\u64f4\\u5927\\u76e3\\u6e2c\\u9001\\u9a57\", \"\\u901a\\u5831\\u6578\": 358}, {\"\\u65e5\\u671f\": \"2020-03-04\", \"\\u901a\\u5831\\u4f86\\u6e90\": \"\\u64f4\\u5927\\u76e3\\u6e2c\\u9001\\u9a57\", \"\\u901a\\u5831\\u6578\": 348}, {\"\\u65e5\\u671f\": \"2020-03-05\", \"\\u901a\\u5831\\u4f86\\u6e90\": \"\\u64f4\\u5927\\u76e3\\u6e2c\\u9001\\u9a57\", \"\\u901a\\u5831\\u6578\": 214}, {\"\\u65e5\\u671f\": \"2020-03-06\", \"\\u901a\\u5831\\u4f86\\u6e90\": \"\\u64f4\\u5927\\u76e3\\u6e2c\\u9001\\u9a57\", \"\\u901a\\u5831\\u6578\": 282}, {\"\\u65e5\\u671f\": \"2020-03-07\", \"\\u901a\\u5831\\u4f86\\u6e90\": \"\\u64f4\\u5927\\u76e3\\u6e2c\\u9001\\u9a57\", \"\\u901a\\u5831\\u6578\": 232}, {\"\\u65e5\\u671f\": \"2020-03-08\", \"\\u901a\\u5831\\u4f86\\u6e90\": \"\\u64f4\\u5927\\u76e3\\u6e2c\\u9001\\u9a57\", \"\\u901a\\u5831\\u6578\": 247}, {\"\\u65e5\\u671f\": \"2020-03-09\", \"\\u901a\\u5831\\u4f86\\u6e90\": \"\\u64f4\\u5927\\u76e3\\u6e2c\\u9001\\u9a57\", \"\\u901a\\u5831\\u6578\": 379}, {\"\\u65e5\\u671f\": \"2020-03-10\", \"\\u901a\\u5831\\u4f86\\u6e90\": \"\\u64f4\\u5927\\u76e3\\u6e2c\\u9001\\u9a57\", \"\\u901a\\u5831\\u6578\": 248}, {\"\\u65e5\\u671f\": \"2020-03-11\", \"\\u901a\\u5831\\u4f86\\u6e90\": \"\\u64f4\\u5927\\u76e3\\u6e2c\\u9001\\u9a57\", \"\\u901a\\u5831\\u6578\": 364}, {\"\\u65e5\\u671f\": \"2020-03-12\", \"\\u901a\\u5831\\u4f86\\u6e90\": \"\\u64f4\\u5927\\u76e3\\u6e2c\\u9001\\u9a57\", \"\\u901a\\u5831\\u6578\": 614}, {\"\\u65e5\\u671f\": \"2020-03-13\", \"\\u901a\\u5831\\u4f86\\u6e90\": \"\\u64f4\\u5927\\u76e3\\u6e2c\\u9001\\u9a57\", \"\\u901a\\u5831\\u6578\": 345}, {\"\\u65e5\\u671f\": \"2020-03-14\", \"\\u901a\\u5831\\u4f86\\u6e90\": \"\\u64f4\\u5927\\u76e3\\u6e2c\\u9001\\u9a57\", \"\\u901a\\u5831\\u6578\": 302}, {\"\\u65e5\\u671f\": \"2020-03-15\", \"\\u901a\\u5831\\u4f86\\u6e90\": \"\\u64f4\\u5927\\u76e3\\u6e2c\\u9001\\u9a57\", \"\\u901a\\u5831\\u6578\": 241}, {\"\\u65e5\\u671f\": \"2020-03-16\", \"\\u901a\\u5831\\u4f86\\u6e90\": \"\\u64f4\\u5927\\u76e3\\u6e2c\\u9001\\u9a57\", \"\\u901a\\u5831\\u6578\": 585}, {\"\\u65e5\\u671f\": \"2020-03-17\", \"\\u901a\\u5831\\u4f86\\u6e90\": \"\\u64f4\\u5927\\u76e3\\u6e2c\\u9001\\u9a57\", \"\\u901a\\u5831\\u6578\": 696}, {\"\\u65e5\\u671f\": \"2020-03-18\", \"\\u901a\\u5831\\u4f86\\u6e90\": \"\\u64f4\\u5927\\u76e3\\u6e2c\\u9001\\u9a57\", \"\\u901a\\u5831\\u6578\": 927}, {\"\\u65e5\\u671f\": \"2020-03-19\", \"\\u901a\\u5831\\u4f86\\u6e90\": \"\\u64f4\\u5927\\u76e3\\u6e2c\\u9001\\u9a57\", \"\\u901a\\u5831\\u6578\": 1010}, {\"\\u65e5\\u671f\": \"2020-03-20\", \"\\u901a\\u5831\\u4f86\\u6e90\": \"\\u64f4\\u5927\\u76e3\\u6e2c\\u9001\\u9a57\", \"\\u901a\\u5831\\u6578\": 924}, {\"\\u65e5\\u671f\": \"2020-03-21\", \"\\u901a\\u5831\\u4f86\\u6e90\": \"\\u64f4\\u5927\\u76e3\\u6e2c\\u9001\\u9a57\", \"\\u901a\\u5831\\u6578\": 672}, {\"\\u65e5\\u671f\": \"2020-03-22\", \"\\u901a\\u5831\\u4f86\\u6e90\": \"\\u64f4\\u5927\\u76e3\\u6e2c\\u9001\\u9a57\", \"\\u901a\\u5831\\u6578\": 541}, {\"\\u65e5\\u671f\": \"2020-03-23\", \"\\u901a\\u5831\\u4f86\\u6e90\": \"\\u64f4\\u5927\\u76e3\\u6e2c\\u9001\\u9a57\", \"\\u901a\\u5831\\u6578\": 692}, {\"\\u65e5\\u671f\": \"2020-03-24\", \"\\u901a\\u5831\\u4f86\\u6e90\": \"\\u64f4\\u5927\\u76e3\\u6e2c\\u9001\\u9a57\", \"\\u901a\\u5831\\u6578\": 540}, {\"\\u65e5\\u671f\": \"2020-03-25\", \"\\u901a\\u5831\\u4f86\\u6e90\": \"\\u64f4\\u5927\\u76e3\\u6e2c\\u9001\\u9a57\", \"\\u901a\\u5831\\u6578\": 575}, {\"\\u65e5\\u671f\": \"2020-03-26\", \"\\u901a\\u5831\\u4f86\\u6e90\": \"\\u64f4\\u5927\\u76e3\\u6e2c\\u9001\\u9a57\", \"\\u901a\\u5831\\u6578\": 598}, {\"\\u65e5\\u671f\": \"2020-03-27\", \"\\u901a\\u5831\\u4f86\\u6e90\": \"\\u64f4\\u5927\\u76e3\\u6e2c\\u9001\\u9a57\", \"\\u901a\\u5831\\u6578\": 507}, {\"\\u65e5\\u671f\": \"2020-03-28\", \"\\u901a\\u5831\\u4f86\\u6e90\": \"\\u64f4\\u5927\\u76e3\\u6e2c\\u9001\\u9a57\", \"\\u901a\\u5831\\u6578\": 307}, {\"\\u65e5\\u671f\": \"2020-03-29\", \"\\u901a\\u5831\\u4f86\\u6e90\": \"\\u64f4\\u5927\\u76e3\\u6e2c\\u9001\\u9a57\", \"\\u901a\\u5831\\u6578\": 590}, {\"\\u65e5\\u671f\": \"2020-03-30\", \"\\u901a\\u5831\\u4f86\\u6e90\": \"\\u64f4\\u5927\\u76e3\\u6e2c\\u9001\\u9a57\", \"\\u901a\\u5831\\u6578\": 656}, {\"\\u65e5\\u671f\": \"2020-03-31\", \"\\u901a\\u5831\\u4f86\\u6e90\": \"\\u64f4\\u5927\\u76e3\\u6e2c\\u9001\\u9a57\", \"\\u901a\\u5831\\u6578\": 553}, {\"\\u65e5\\u671f\": \"2020-04-01\", \"\\u901a\\u5831\\u4f86\\u6e90\": \"\\u64f4\\u5927\\u76e3\\u6e2c\\u9001\\u9a57\", \"\\u901a\\u5831\\u6578\": 610}, {\"\\u65e5\\u671f\": \"2020-04-02\", \"\\u901a\\u5831\\u4f86\\u6e90\": \"\\u64f4\\u5927\\u76e3\\u6e2c\\u9001\\u9a57\", \"\\u901a\\u5831\\u6578\": 553}, {\"\\u65e5\\u671f\": \"2020-04-03\", \"\\u901a\\u5831\\u4f86\\u6e90\": \"\\u64f4\\u5927\\u76e3\\u6e2c\\u9001\\u9a57\", \"\\u901a\\u5831\\u6578\": 584}, {\"\\u65e5\\u671f\": \"2020-04-04\", \"\\u901a\\u5831\\u4f86\\u6e90\": \"\\u64f4\\u5927\\u76e3\\u6e2c\\u9001\\u9a57\", \"\\u901a\\u5831\\u6578\": 569}, {\"\\u65e5\\u671f\": \"2020-04-05\", \"\\u901a\\u5831\\u4f86\\u6e90\": \"\\u64f4\\u5927\\u76e3\\u6e2c\\u9001\\u9a57\", \"\\u901a\\u5831\\u6578\": 638}, {\"\\u65e5\\u671f\": \"2020-04-06\", \"\\u901a\\u5831\\u4f86\\u6e90\": \"\\u64f4\\u5927\\u76e3\\u6e2c\\u9001\\u9a57\", \"\\u901a\\u5831\\u6578\": 1387}, {\"\\u65e5\\u671f\": \"2020-04-07\", \"\\u901a\\u5831\\u4f86\\u6e90\": \"\\u64f4\\u5927\\u76e3\\u6e2c\\u9001\\u9a57\", \"\\u901a\\u5831\\u6578\": 1350}, {\"\\u65e5\\u671f\": \"2020-04-08\", \"\\u901a\\u5831\\u4f86\\u6e90\": \"\\u64f4\\u5927\\u76e3\\u6e2c\\u9001\\u9a57\", \"\\u901a\\u5831\\u6578\": 1356}, {\"\\u65e5\\u671f\": \"2020-04-09\", \"\\u901a\\u5831\\u4f86\\u6e90\": \"\\u64f4\\u5927\\u76e3\\u6e2c\\u9001\\u9a57\", \"\\u901a\\u5831\\u6578\": 1316}, {\"\\u65e5\\u671f\": \"2020-04-10\", \"\\u901a\\u5831\\u4f86\\u6e90\": \"\\u64f4\\u5927\\u76e3\\u6e2c\\u9001\\u9a57\", \"\\u901a\\u5831\\u6578\": 1324}, {\"\\u65e5\\u671f\": \"2020-04-11\", \"\\u901a\\u5831\\u4f86\\u6e90\": \"\\u64f4\\u5927\\u76e3\\u6e2c\\u9001\\u9a57\", \"\\u901a\\u5831\\u6578\": 923}, {\"\\u65e5\\u671f\": \"2020-04-12\", \"\\u901a\\u5831\\u4f86\\u6e90\": \"\\u64f4\\u5927\\u76e3\\u6e2c\\u9001\\u9a57\", \"\\u901a\\u5831\\u6578\": 565}, {\"\\u65e5\\u671f\": \"2020-04-13\", \"\\u901a\\u5831\\u4f86\\u6e90\": \"\\u64f4\\u5927\\u76e3\\u6e2c\\u9001\\u9a57\", \"\\u901a\\u5831\\u6578\": 1115}, {\"\\u65e5\\u671f\": \"2020-04-14\", \"\\u901a\\u5831\\u4f86\\u6e90\": \"\\u64f4\\u5927\\u76e3\\u6e2c\\u9001\\u9a57\", \"\\u901a\\u5831\\u6578\": 1022}, {\"\\u65e5\\u671f\": \"2020-04-15\", \"\\u901a\\u5831\\u4f86\\u6e90\": \"\\u64f4\\u5927\\u76e3\\u6e2c\\u9001\\u9a57\", \"\\u901a\\u5831\\u6578\": 802}, {\"\\u65e5\\u671f\": \"2020-04-16\", \"\\u901a\\u5831\\u4f86\\u6e90\": \"\\u64f4\\u5927\\u76e3\\u6e2c\\u9001\\u9a57\", \"\\u901a\\u5831\\u6578\": 754}, {\"\\u65e5\\u671f\": \"2020-04-17\", \"\\u901a\\u5831\\u4f86\\u6e90\": \"\\u64f4\\u5927\\u76e3\\u6e2c\\u9001\\u9a57\", \"\\u901a\\u5831\\u6578\": 712}, {\"\\u65e5\\u671f\": \"2020-04-18\", \"\\u901a\\u5831\\u4f86\\u6e90\": \"\\u64f4\\u5927\\u76e3\\u6e2c\\u9001\\u9a57\", \"\\u901a\\u5831\\u6578\": 460}, {\"\\u65e5\\u671f\": \"2020-04-19\", \"\\u901a\\u5831\\u4f86\\u6e90\": \"\\u64f4\\u5927\\u76e3\\u6e2c\\u9001\\u9a57\", \"\\u901a\\u5831\\u6578\": 497}, {\"\\u65e5\\u671f\": \"2020-04-20\", \"\\u901a\\u5831\\u4f86\\u6e90\": \"\\u64f4\\u5927\\u76e3\\u6e2c\\u9001\\u9a57\", \"\\u901a\\u5831\\u6578\": 1638}, {\"\\u65e5\\u671f\": \"2020-04-21\", \"\\u901a\\u5831\\u4f86\\u6e90\": \"\\u64f4\\u5927\\u76e3\\u6e2c\\u9001\\u9a57\", \"\\u901a\\u5831\\u6578\": 1212}, {\"\\u65e5\\u671f\": \"2020-04-22\", \"\\u901a\\u5831\\u4f86\\u6e90\": \"\\u64f4\\u5927\\u76e3\\u6e2c\\u9001\\u9a57\", \"\\u901a\\u5831\\u6578\": 1038}, {\"\\u65e5\\u671f\": \"2020-04-23\", \"\\u901a\\u5831\\u4f86\\u6e90\": \"\\u64f4\\u5927\\u76e3\\u6e2c\\u9001\\u9a57\", \"\\u901a\\u5831\\u6578\": 890}, {\"\\u65e5\\u671f\": \"2020-04-24\", \"\\u901a\\u5831\\u4f86\\u6e90\": \"\\u64f4\\u5927\\u76e3\\u6e2c\\u9001\\u9a57\", \"\\u901a\\u5831\\u6578\": 730}, {\"\\u65e5\\u671f\": \"2020-04-25\", \"\\u901a\\u5831\\u4f86\\u6e90\": \"\\u64f4\\u5927\\u76e3\\u6e2c\\u9001\\u9a57\", \"\\u901a\\u5831\\u6578\": 542}, {\"\\u65e5\\u671f\": \"2020-04-26\", \"\\u901a\\u5831\\u4f86\\u6e90\": \"\\u64f4\\u5927\\u76e3\\u6e2c\\u9001\\u9a57\", \"\\u901a\\u5831\\u6578\": 424}, {\"\\u65e5\\u671f\": \"2020-04-27\", \"\\u901a\\u5831\\u4f86\\u6e90\": \"\\u64f4\\u5927\\u76e3\\u6e2c\\u9001\\u9a57\", \"\\u901a\\u5831\\u6578\": 666}, {\"\\u65e5\\u671f\": \"2020-04-28\", \"\\u901a\\u5831\\u4f86\\u6e90\": \"\\u64f4\\u5927\\u76e3\\u6e2c\\u9001\\u9a57\", \"\\u901a\\u5831\\u6578\": 596}, {\"\\u65e5\\u671f\": \"2020-04-29\", \"\\u901a\\u5831\\u4f86\\u6e90\": \"\\u64f4\\u5927\\u76e3\\u6e2c\\u9001\\u9a57\", \"\\u901a\\u5831\\u6578\": 413}, {\"\\u65e5\\u671f\": \"2020-04-30\", \"\\u901a\\u5831\\u4f86\\u6e90\": \"\\u64f4\\u5927\\u76e3\\u6e2c\\u9001\\u9a57\", \"\\u901a\\u5831\\u6578\": 0}, {\"\\u65e5\\u671f\": \"2020-01-16\", \"\\u901a\\u5831\\u4f86\\u6e90\": \"\\u5c45\\u5bb6\\u6aa2\\u9a57\\u9001\\u9a57\", \"\\u901a\\u5831\\u6578\": 0}, {\"\\u65e5\\u671f\": \"2020-01-17\", \"\\u901a\\u5831\\u4f86\\u6e90\": \"\\u5c45\\u5bb6\\u6aa2\\u9a57\\u9001\\u9a57\", \"\\u901a\\u5831\\u6578\": 0}, {\"\\u65e5\\u671f\": \"2020-01-18\", \"\\u901a\\u5831\\u4f86\\u6e90\": \"\\u5c45\\u5bb6\\u6aa2\\u9a57\\u9001\\u9a57\", \"\\u901a\\u5831\\u6578\": 0}, {\"\\u65e5\\u671f\": \"2020-01-19\", \"\\u901a\\u5831\\u4f86\\u6e90\": \"\\u5c45\\u5bb6\\u6aa2\\u9a57\\u9001\\u9a57\", \"\\u901a\\u5831\\u6578\": 0}, {\"\\u65e5\\u671f\": \"2020-01-20\", \"\\u901a\\u5831\\u4f86\\u6e90\": \"\\u5c45\\u5bb6\\u6aa2\\u9a57\\u9001\\u9a57\", \"\\u901a\\u5831\\u6578\": 0}, {\"\\u65e5\\u671f\": \"2020-01-21\", \"\\u901a\\u5831\\u4f86\\u6e90\": \"\\u5c45\\u5bb6\\u6aa2\\u9a57\\u9001\\u9a57\", \"\\u901a\\u5831\\u6578\": 0}, {\"\\u65e5\\u671f\": \"2020-01-22\", \"\\u901a\\u5831\\u4f86\\u6e90\": \"\\u5c45\\u5bb6\\u6aa2\\u9a57\\u9001\\u9a57\", \"\\u901a\\u5831\\u6578\": 0}, {\"\\u65e5\\u671f\": \"2020-01-23\", \"\\u901a\\u5831\\u4f86\\u6e90\": \"\\u5c45\\u5bb6\\u6aa2\\u9a57\\u9001\\u9a57\", \"\\u901a\\u5831\\u6578\": 0}, {\"\\u65e5\\u671f\": \"2020-01-24\", \"\\u901a\\u5831\\u4f86\\u6e90\": \"\\u5c45\\u5bb6\\u6aa2\\u9a57\\u9001\\u9a57\", \"\\u901a\\u5831\\u6578\": 0}, {\"\\u65e5\\u671f\": \"2020-01-25\", \"\\u901a\\u5831\\u4f86\\u6e90\": \"\\u5c45\\u5bb6\\u6aa2\\u9a57\\u9001\\u9a57\", \"\\u901a\\u5831\\u6578\": 0}, {\"\\u65e5\\u671f\": \"2020-01-26\", \"\\u901a\\u5831\\u4f86\\u6e90\": \"\\u5c45\\u5bb6\\u6aa2\\u9a57\\u9001\\u9a57\", \"\\u901a\\u5831\\u6578\": 0}, {\"\\u65e5\\u671f\": \"2020-01-27\", \"\\u901a\\u5831\\u4f86\\u6e90\": \"\\u5c45\\u5bb6\\u6aa2\\u9a57\\u9001\\u9a57\", \"\\u901a\\u5831\\u6578\": 0}, {\"\\u65e5\\u671f\": \"2020-01-28\", \"\\u901a\\u5831\\u4f86\\u6e90\": \"\\u5c45\\u5bb6\\u6aa2\\u9a57\\u9001\\u9a57\", \"\\u901a\\u5831\\u6578\": 0}, {\"\\u65e5\\u671f\": \"2020-01-29\", \"\\u901a\\u5831\\u4f86\\u6e90\": \"\\u5c45\\u5bb6\\u6aa2\\u9a57\\u9001\\u9a57\", \"\\u901a\\u5831\\u6578\": 0}, {\"\\u65e5\\u671f\": \"2020-01-30\", \"\\u901a\\u5831\\u4f86\\u6e90\": \"\\u5c45\\u5bb6\\u6aa2\\u9a57\\u9001\\u9a57\", \"\\u901a\\u5831\\u6578\": 0}, {\"\\u65e5\\u671f\": \"2020-01-31\", \"\\u901a\\u5831\\u4f86\\u6e90\": \"\\u5c45\\u5bb6\\u6aa2\\u9a57\\u9001\\u9a57\", \"\\u901a\\u5831\\u6578\": 0}, {\"\\u65e5\\u671f\": \"2020-02-01\", \"\\u901a\\u5831\\u4f86\\u6e90\": \"\\u5c45\\u5bb6\\u6aa2\\u9a57\\u9001\\u9a57\", \"\\u901a\\u5831\\u6578\": 0}, {\"\\u65e5\\u671f\": \"2020-02-02\", \"\\u901a\\u5831\\u4f86\\u6e90\": \"\\u5c45\\u5bb6\\u6aa2\\u9a57\\u9001\\u9a57\", \"\\u901a\\u5831\\u6578\": 7}, {\"\\u65e5\\u671f\": \"2020-02-03\", \"\\u901a\\u5831\\u4f86\\u6e90\": \"\\u5c45\\u5bb6\\u6aa2\\u9a57\\u9001\\u9a57\", \"\\u901a\\u5831\\u6578\": 37}, {\"\\u65e5\\u671f\": \"2020-02-04\", \"\\u901a\\u5831\\u4f86\\u6e90\": \"\\u5c45\\u5bb6\\u6aa2\\u9a57\\u9001\\u9a57\", \"\\u901a\\u5831\\u6578\": 27}, {\"\\u65e5\\u671f\": \"2020-02-05\", \"\\u901a\\u5831\\u4f86\\u6e90\": \"\\u5c45\\u5bb6\\u6aa2\\u9a57\\u9001\\u9a57\", \"\\u901a\\u5831\\u6578\": 103}, {\"\\u65e5\\u671f\": \"2020-02-06\", \"\\u901a\\u5831\\u4f86\\u6e90\": \"\\u5c45\\u5bb6\\u6aa2\\u9a57\\u9001\\u9a57\", \"\\u901a\\u5831\\u6578\": 26}, {\"\\u65e5\\u671f\": \"2020-02-07\", \"\\u901a\\u5831\\u4f86\\u6e90\": \"\\u5c45\\u5bb6\\u6aa2\\u9a57\\u9001\\u9a57\", \"\\u901a\\u5831\\u6578\": 136}, {\"\\u65e5\\u671f\": \"2020-02-08\", \"\\u901a\\u5831\\u4f86\\u6e90\": \"\\u5c45\\u5bb6\\u6aa2\\u9a57\\u9001\\u9a57\", \"\\u901a\\u5831\\u6578\": 154}, {\"\\u65e5\\u671f\": \"2020-02-09\", \"\\u901a\\u5831\\u4f86\\u6e90\": \"\\u5c45\\u5bb6\\u6aa2\\u9a57\\u9001\\u9a57\", \"\\u901a\\u5831\\u6578\": 76}, {\"\\u65e5\\u671f\": \"2020-02-10\", \"\\u901a\\u5831\\u4f86\\u6e90\": \"\\u5c45\\u5bb6\\u6aa2\\u9a57\\u9001\\u9a57\", \"\\u901a\\u5831\\u6578\": 111}, {\"\\u65e5\\u671f\": \"2020-02-11\", \"\\u901a\\u5831\\u4f86\\u6e90\": \"\\u5c45\\u5bb6\\u6aa2\\u9a57\\u9001\\u9a57\", \"\\u901a\\u5831\\u6578\": 115}, {\"\\u65e5\\u671f\": \"2020-02-12\", \"\\u901a\\u5831\\u4f86\\u6e90\": \"\\u5c45\\u5bb6\\u6aa2\\u9a57\\u9001\\u9a57\", \"\\u901a\\u5831\\u6578\": 84}, {\"\\u65e5\\u671f\": \"2020-02-13\", \"\\u901a\\u5831\\u4f86\\u6e90\": \"\\u5c45\\u5bb6\\u6aa2\\u9a57\\u9001\\u9a57\", \"\\u901a\\u5831\\u6578\": 78}, {\"\\u65e5\\u671f\": \"2020-02-14\", \"\\u901a\\u5831\\u4f86\\u6e90\": \"\\u5c45\\u5bb6\\u6aa2\\u9a57\\u9001\\u9a57\", \"\\u901a\\u5831\\u6578\": 45}, {\"\\u65e5\\u671f\": \"2020-02-15\", \"\\u901a\\u5831\\u4f86\\u6e90\": \"\\u5c45\\u5bb6\\u6aa2\\u9a57\\u9001\\u9a57\", \"\\u901a\\u5831\\u6578\": 59}, {\"\\u65e5\\u671f\": \"2020-02-16\", \"\\u901a\\u5831\\u4f86\\u6e90\": \"\\u5c45\\u5bb6\\u6aa2\\u9a57\\u9001\\u9a57\", \"\\u901a\\u5831\\u6578\": 76}, {\"\\u65e5\\u671f\": \"2020-02-17\", \"\\u901a\\u5831\\u4f86\\u6e90\": \"\\u5c45\\u5bb6\\u6aa2\\u9a57\\u9001\\u9a57\", \"\\u901a\\u5831\\u6578\": 166}, {\"\\u65e5\\u671f\": \"2020-02-18\", \"\\u901a\\u5831\\u4f86\\u6e90\": \"\\u5c45\\u5bb6\\u6aa2\\u9a57\\u9001\\u9a57\", \"\\u901a\\u5831\\u6578\": 64}, {\"\\u65e5\\u671f\": \"2020-02-19\", \"\\u901a\\u5831\\u4f86\\u6e90\": \"\\u5c45\\u5bb6\\u6aa2\\u9a57\\u9001\\u9a57\", \"\\u901a\\u5831\\u6578\": 60}, {\"\\u65e5\\u671f\": \"2020-02-20\", \"\\u901a\\u5831\\u4f86\\u6e90\": \"\\u5c45\\u5bb6\\u6aa2\\u9a57\\u9001\\u9a57\", \"\\u901a\\u5831\\u6578\": 39}, {\"\\u65e5\\u671f\": \"2020-02-21\", \"\\u901a\\u5831\\u4f86\\u6e90\": \"\\u5c45\\u5bb6\\u6aa2\\u9a57\\u9001\\u9a57\", \"\\u901a\\u5831\\u6578\": 38}, {\"\\u65e5\\u671f\": \"2020-02-22\", \"\\u901a\\u5831\\u4f86\\u6e90\": \"\\u5c45\\u5bb6\\u6aa2\\u9a57\\u9001\\u9a57\", \"\\u901a\\u5831\\u6578\": 30}, {\"\\u65e5\\u671f\": \"2020-02-23\", \"\\u901a\\u5831\\u4f86\\u6e90\": \"\\u5c45\\u5bb6\\u6aa2\\u9a57\\u9001\\u9a57\", \"\\u901a\\u5831\\u6578\": 32}, {\"\\u65e5\\u671f\": \"2020-02-24\", \"\\u901a\\u5831\\u4f86\\u6e90\": \"\\u5c45\\u5bb6\\u6aa2\\u9a57\\u9001\\u9a57\", \"\\u901a\\u5831\\u6578\": 34}, {\"\\u65e5\\u671f\": \"2020-02-25\", \"\\u901a\\u5831\\u4f86\\u6e90\": \"\\u5c45\\u5bb6\\u6aa2\\u9a57\\u9001\\u9a57\", \"\\u901a\\u5831\\u6578\": 33}, {\"\\u65e5\\u671f\": \"2020-02-26\", \"\\u901a\\u5831\\u4f86\\u6e90\": \"\\u5c45\\u5bb6\\u6aa2\\u9a57\\u9001\\u9a57\", \"\\u901a\\u5831\\u6578\": 21}, {\"\\u65e5\\u671f\": \"2020-02-27\", \"\\u901a\\u5831\\u4f86\\u6e90\": \"\\u5c45\\u5bb6\\u6aa2\\u9a57\\u9001\\u9a57\", \"\\u901a\\u5831\\u6578\": 25}, {\"\\u65e5\\u671f\": \"2020-02-28\", \"\\u901a\\u5831\\u4f86\\u6e90\": \"\\u5c45\\u5bb6\\u6aa2\\u9a57\\u9001\\u9a57\", \"\\u901a\\u5831\\u6578\": 14}, {\"\\u65e5\\u671f\": \"2020-02-29\", \"\\u901a\\u5831\\u4f86\\u6e90\": \"\\u5c45\\u5bb6\\u6aa2\\u9a57\\u9001\\u9a57\", \"\\u901a\\u5831\\u6578\": 10}, {\"\\u65e5\\u671f\": \"2020-03-01\", \"\\u901a\\u5831\\u4f86\\u6e90\": \"\\u5c45\\u5bb6\\u6aa2\\u9a57\\u9001\\u9a57\", \"\\u901a\\u5831\\u6578\": 5}, {\"\\u65e5\\u671f\": \"2020-03-02\", \"\\u901a\\u5831\\u4f86\\u6e90\": \"\\u5c45\\u5bb6\\u6aa2\\u9a57\\u9001\\u9a57\", \"\\u901a\\u5831\\u6578\": 2}, {\"\\u65e5\\u671f\": \"2020-03-03\", \"\\u901a\\u5831\\u4f86\\u6e90\": \"\\u5c45\\u5bb6\\u6aa2\\u9a57\\u9001\\u9a57\", \"\\u901a\\u5831\\u6578\": 0}, {\"\\u65e5\\u671f\": \"2020-03-04\", \"\\u901a\\u5831\\u4f86\\u6e90\": \"\\u5c45\\u5bb6\\u6aa2\\u9a57\\u9001\\u9a57\", \"\\u901a\\u5831\\u6578\": 0}, {\"\\u65e5\\u671f\": \"2020-03-05\", \"\\u901a\\u5831\\u4f86\\u6e90\": \"\\u5c45\\u5bb6\\u6aa2\\u9a57\\u9001\\u9a57\", \"\\u901a\\u5831\\u6578\": 0}, {\"\\u65e5\\u671f\": \"2020-03-06\", \"\\u901a\\u5831\\u4f86\\u6e90\": \"\\u5c45\\u5bb6\\u6aa2\\u9a57\\u9001\\u9a57\", \"\\u901a\\u5831\\u6578\": 0}, {\"\\u65e5\\u671f\": \"2020-03-07\", \"\\u901a\\u5831\\u4f86\\u6e90\": \"\\u5c45\\u5bb6\\u6aa2\\u9a57\\u9001\\u9a57\", \"\\u901a\\u5831\\u6578\": 0}, {\"\\u65e5\\u671f\": \"2020-03-08\", \"\\u901a\\u5831\\u4f86\\u6e90\": \"\\u5c45\\u5bb6\\u6aa2\\u9a57\\u9001\\u9a57\", \"\\u901a\\u5831\\u6578\": 0}, {\"\\u65e5\\u671f\": \"2020-03-09\", \"\\u901a\\u5831\\u4f86\\u6e90\": \"\\u5c45\\u5bb6\\u6aa2\\u9a57\\u9001\\u9a57\", \"\\u901a\\u5831\\u6578\": 0}, {\"\\u65e5\\u671f\": \"2020-03-10\", \"\\u901a\\u5831\\u4f86\\u6e90\": \"\\u5c45\\u5bb6\\u6aa2\\u9a57\\u9001\\u9a57\", \"\\u901a\\u5831\\u6578\": 0}, {\"\\u65e5\\u671f\": \"2020-03-11\", \"\\u901a\\u5831\\u4f86\\u6e90\": \"\\u5c45\\u5bb6\\u6aa2\\u9a57\\u9001\\u9a57\", \"\\u901a\\u5831\\u6578\": 0}, {\"\\u65e5\\u671f\": \"2020-03-12\", \"\\u901a\\u5831\\u4f86\\u6e90\": \"\\u5c45\\u5bb6\\u6aa2\\u9a57\\u9001\\u9a57\", \"\\u901a\\u5831\\u6578\": 0}, {\"\\u65e5\\u671f\": \"2020-03-13\", \"\\u901a\\u5831\\u4f86\\u6e90\": \"\\u5c45\\u5bb6\\u6aa2\\u9a57\\u9001\\u9a57\", \"\\u901a\\u5831\\u6578\": 0}, {\"\\u65e5\\u671f\": \"2020-03-14\", \"\\u901a\\u5831\\u4f86\\u6e90\": \"\\u5c45\\u5bb6\\u6aa2\\u9a57\\u9001\\u9a57\", \"\\u901a\\u5831\\u6578\": 0}, {\"\\u65e5\\u671f\": \"2020-03-15\", \"\\u901a\\u5831\\u4f86\\u6e90\": \"\\u5c45\\u5bb6\\u6aa2\\u9a57\\u9001\\u9a57\", \"\\u901a\\u5831\\u6578\": 0}, {\"\\u65e5\\u671f\": \"2020-03-16\", \"\\u901a\\u5831\\u4f86\\u6e90\": \"\\u5c45\\u5bb6\\u6aa2\\u9a57\\u9001\\u9a57\", \"\\u901a\\u5831\\u6578\": 0}, {\"\\u65e5\\u671f\": \"2020-03-17\", \"\\u901a\\u5831\\u4f86\\u6e90\": \"\\u5c45\\u5bb6\\u6aa2\\u9a57\\u9001\\u9a57\", \"\\u901a\\u5831\\u6578\": 0}, {\"\\u65e5\\u671f\": \"2020-03-18\", \"\\u901a\\u5831\\u4f86\\u6e90\": \"\\u5c45\\u5bb6\\u6aa2\\u9a57\\u9001\\u9a57\", \"\\u901a\\u5831\\u6578\": 0}, {\"\\u65e5\\u671f\": \"2020-03-19\", \"\\u901a\\u5831\\u4f86\\u6e90\": \"\\u5c45\\u5bb6\\u6aa2\\u9a57\\u9001\\u9a57\", \"\\u901a\\u5831\\u6578\": 0}, {\"\\u65e5\\u671f\": \"2020-03-20\", \"\\u901a\\u5831\\u4f86\\u6e90\": \"\\u5c45\\u5bb6\\u6aa2\\u9a57\\u9001\\u9a57\", \"\\u901a\\u5831\\u6578\": 0}, {\"\\u65e5\\u671f\": \"2020-03-21\", \"\\u901a\\u5831\\u4f86\\u6e90\": \"\\u5c45\\u5bb6\\u6aa2\\u9a57\\u9001\\u9a57\", \"\\u901a\\u5831\\u6578\": 0}, {\"\\u65e5\\u671f\": \"2020-03-22\", \"\\u901a\\u5831\\u4f86\\u6e90\": \"\\u5c45\\u5bb6\\u6aa2\\u9a57\\u9001\\u9a57\", \"\\u901a\\u5831\\u6578\": 0}, {\"\\u65e5\\u671f\": \"2020-03-23\", \"\\u901a\\u5831\\u4f86\\u6e90\": \"\\u5c45\\u5bb6\\u6aa2\\u9a57\\u9001\\u9a57\", \"\\u901a\\u5831\\u6578\": 0}, {\"\\u65e5\\u671f\": \"2020-03-24\", \"\\u901a\\u5831\\u4f86\\u6e90\": \"\\u5c45\\u5bb6\\u6aa2\\u9a57\\u9001\\u9a57\", \"\\u901a\\u5831\\u6578\": 0}, {\"\\u65e5\\u671f\": \"2020-03-25\", \"\\u901a\\u5831\\u4f86\\u6e90\": \"\\u5c45\\u5bb6\\u6aa2\\u9a57\\u9001\\u9a57\", \"\\u901a\\u5831\\u6578\": 0}, {\"\\u65e5\\u671f\": \"2020-03-26\", \"\\u901a\\u5831\\u4f86\\u6e90\": \"\\u5c45\\u5bb6\\u6aa2\\u9a57\\u9001\\u9a57\", \"\\u901a\\u5831\\u6578\": 0}, {\"\\u65e5\\u671f\": \"2020-03-27\", \"\\u901a\\u5831\\u4f86\\u6e90\": \"\\u5c45\\u5bb6\\u6aa2\\u9a57\\u9001\\u9a57\", \"\\u901a\\u5831\\u6578\": 0}, {\"\\u65e5\\u671f\": \"2020-03-28\", \"\\u901a\\u5831\\u4f86\\u6e90\": \"\\u5c45\\u5bb6\\u6aa2\\u9a57\\u9001\\u9a57\", \"\\u901a\\u5831\\u6578\": 0}, {\"\\u65e5\\u671f\": \"2020-03-29\", \"\\u901a\\u5831\\u4f86\\u6e90\": \"\\u5c45\\u5bb6\\u6aa2\\u9a57\\u9001\\u9a57\", \"\\u901a\\u5831\\u6578\": 0}, {\"\\u65e5\\u671f\": \"2020-03-30\", \"\\u901a\\u5831\\u4f86\\u6e90\": \"\\u5c45\\u5bb6\\u6aa2\\u9a57\\u9001\\u9a57\", \"\\u901a\\u5831\\u6578\": 0}, {\"\\u65e5\\u671f\": \"2020-03-31\", \"\\u901a\\u5831\\u4f86\\u6e90\": \"\\u5c45\\u5bb6\\u6aa2\\u9a57\\u9001\\u9a57\", \"\\u901a\\u5831\\u6578\": 0}, {\"\\u65e5\\u671f\": \"2020-04-01\", \"\\u901a\\u5831\\u4f86\\u6e90\": \"\\u5c45\\u5bb6\\u6aa2\\u9a57\\u9001\\u9a57\", \"\\u901a\\u5831\\u6578\": 0}, {\"\\u65e5\\u671f\": \"2020-04-02\", \"\\u901a\\u5831\\u4f86\\u6e90\": \"\\u5c45\\u5bb6\\u6aa2\\u9a57\\u9001\\u9a57\", \"\\u901a\\u5831\\u6578\": 0}, {\"\\u65e5\\u671f\": \"2020-04-03\", \"\\u901a\\u5831\\u4f86\\u6e90\": \"\\u5c45\\u5bb6\\u6aa2\\u9a57\\u9001\\u9a57\", \"\\u901a\\u5831\\u6578\": 0}, {\"\\u65e5\\u671f\": \"2020-04-04\", \"\\u901a\\u5831\\u4f86\\u6e90\": \"\\u5c45\\u5bb6\\u6aa2\\u9a57\\u9001\\u9a57\", \"\\u901a\\u5831\\u6578\": 0}, {\"\\u65e5\\u671f\": \"2020-04-05\", \"\\u901a\\u5831\\u4f86\\u6e90\": \"\\u5c45\\u5bb6\\u6aa2\\u9a57\\u9001\\u9a57\", \"\\u901a\\u5831\\u6578\": 0}, {\"\\u65e5\\u671f\": \"2020-04-06\", \"\\u901a\\u5831\\u4f86\\u6e90\": \"\\u5c45\\u5bb6\\u6aa2\\u9a57\\u9001\\u9a57\", \"\\u901a\\u5831\\u6578\": 0}, {\"\\u65e5\\u671f\": \"2020-04-07\", \"\\u901a\\u5831\\u4f86\\u6e90\": \"\\u5c45\\u5bb6\\u6aa2\\u9a57\\u9001\\u9a57\", \"\\u901a\\u5831\\u6578\": 0}, {\"\\u65e5\\u671f\": \"2020-04-08\", \"\\u901a\\u5831\\u4f86\\u6e90\": \"\\u5c45\\u5bb6\\u6aa2\\u9a57\\u9001\\u9a57\", \"\\u901a\\u5831\\u6578\": 0}, {\"\\u65e5\\u671f\": \"2020-04-09\", \"\\u901a\\u5831\\u4f86\\u6e90\": \"\\u5c45\\u5bb6\\u6aa2\\u9a57\\u9001\\u9a57\", \"\\u901a\\u5831\\u6578\": 0}, {\"\\u65e5\\u671f\": \"2020-04-10\", \"\\u901a\\u5831\\u4f86\\u6e90\": \"\\u5c45\\u5bb6\\u6aa2\\u9a57\\u9001\\u9a57\", \"\\u901a\\u5831\\u6578\": 0}, {\"\\u65e5\\u671f\": \"2020-04-11\", \"\\u901a\\u5831\\u4f86\\u6e90\": \"\\u5c45\\u5bb6\\u6aa2\\u9a57\\u9001\\u9a57\", \"\\u901a\\u5831\\u6578\": 0}, {\"\\u65e5\\u671f\": \"2020-04-12\", \"\\u901a\\u5831\\u4f86\\u6e90\": \"\\u5c45\\u5bb6\\u6aa2\\u9a57\\u9001\\u9a57\", \"\\u901a\\u5831\\u6578\": 0}, {\"\\u65e5\\u671f\": \"2020-04-13\", \"\\u901a\\u5831\\u4f86\\u6e90\": \"\\u5c45\\u5bb6\\u6aa2\\u9a57\\u9001\\u9a57\", \"\\u901a\\u5831\\u6578\": 0}, {\"\\u65e5\\u671f\": \"2020-04-14\", \"\\u901a\\u5831\\u4f86\\u6e90\": \"\\u5c45\\u5bb6\\u6aa2\\u9a57\\u9001\\u9a57\", \"\\u901a\\u5831\\u6578\": 0}, {\"\\u65e5\\u671f\": \"2020-04-15\", \"\\u901a\\u5831\\u4f86\\u6e90\": \"\\u5c45\\u5bb6\\u6aa2\\u9a57\\u9001\\u9a57\", \"\\u901a\\u5831\\u6578\": 0}, {\"\\u65e5\\u671f\": \"2020-04-16\", \"\\u901a\\u5831\\u4f86\\u6e90\": \"\\u5c45\\u5bb6\\u6aa2\\u9a57\\u9001\\u9a57\", \"\\u901a\\u5831\\u6578\": 0}, {\"\\u65e5\\u671f\": \"2020-04-17\", \"\\u901a\\u5831\\u4f86\\u6e90\": \"\\u5c45\\u5bb6\\u6aa2\\u9a57\\u9001\\u9a57\", \"\\u901a\\u5831\\u6578\": 0}, {\"\\u65e5\\u671f\": \"2020-04-18\", \"\\u901a\\u5831\\u4f86\\u6e90\": \"\\u5c45\\u5bb6\\u6aa2\\u9a57\\u9001\\u9a57\", \"\\u901a\\u5831\\u6578\": 0}, {\"\\u65e5\\u671f\": \"2020-04-19\", \"\\u901a\\u5831\\u4f86\\u6e90\": \"\\u5c45\\u5bb6\\u6aa2\\u9a57\\u9001\\u9a57\", \"\\u901a\\u5831\\u6578\": 0}, {\"\\u65e5\\u671f\": \"2020-04-20\", \"\\u901a\\u5831\\u4f86\\u6e90\": \"\\u5c45\\u5bb6\\u6aa2\\u9a57\\u9001\\u9a57\", \"\\u901a\\u5831\\u6578\": 0}, {\"\\u65e5\\u671f\": \"2020-04-21\", \"\\u901a\\u5831\\u4f86\\u6e90\": \"\\u5c45\\u5bb6\\u6aa2\\u9a57\\u9001\\u9a57\", \"\\u901a\\u5831\\u6578\": 0}, {\"\\u65e5\\u671f\": \"2020-04-22\", \"\\u901a\\u5831\\u4f86\\u6e90\": \"\\u5c45\\u5bb6\\u6aa2\\u9a57\\u9001\\u9a57\", \"\\u901a\\u5831\\u6578\": 0}, {\"\\u65e5\\u671f\": \"2020-04-23\", \"\\u901a\\u5831\\u4f86\\u6e90\": \"\\u5c45\\u5bb6\\u6aa2\\u9a57\\u9001\\u9a57\", \"\\u901a\\u5831\\u6578\": 0}, {\"\\u65e5\\u671f\": \"2020-04-24\", \"\\u901a\\u5831\\u4f86\\u6e90\": \"\\u5c45\\u5bb6\\u6aa2\\u9a57\\u9001\\u9a57\", \"\\u901a\\u5831\\u6578\": 0}, {\"\\u65e5\\u671f\": \"2020-04-25\", \"\\u901a\\u5831\\u4f86\\u6e90\": \"\\u5c45\\u5bb6\\u6aa2\\u9a57\\u9001\\u9a57\", \"\\u901a\\u5831\\u6578\": 0}, {\"\\u65e5\\u671f\": \"2020-04-26\", \"\\u901a\\u5831\\u4f86\\u6e90\": \"\\u5c45\\u5bb6\\u6aa2\\u9a57\\u9001\\u9a57\", \"\\u901a\\u5831\\u6578\": 0}, {\"\\u65e5\\u671f\": \"2020-04-27\", \"\\u901a\\u5831\\u4f86\\u6e90\": \"\\u5c45\\u5bb6\\u6aa2\\u9a57\\u9001\\u9a57\", \"\\u901a\\u5831\\u6578\": 0}, {\"\\u65e5\\u671f\": \"2020-04-28\", \"\\u901a\\u5831\\u4f86\\u6e90\": \"\\u5c45\\u5bb6\\u6aa2\\u9a57\\u9001\\u9a57\", \"\\u901a\\u5831\\u6578\": 0}, {\"\\u65e5\\u671f\": \"2020-04-29\", \"\\u901a\\u5831\\u4f86\\u6e90\": \"\\u5c45\\u5bb6\\u6aa2\\u9a57\\u9001\\u9a57\", \"\\u901a\\u5831\\u6578\": 0}, {\"\\u65e5\\u671f\": \"2020-04-30\", \"\\u901a\\u5831\\u4f86\\u6e90\": \"\\u5c45\\u5bb6\\u6aa2\\u9a57\\u9001\\u9a57\", \"\\u901a\\u5831\\u6578\": 0}, {\"\\u65e5\\u671f\": \"2020-01-16\", \"\\u901a\\u5831\\u4f86\\u6e90\": \"\\u6cd5\\u5b9a\\u50b3\\u67d3\\u75c5\\u901a\\u5831\", \"\\u901a\\u5831\\u6578\": 4}, {\"\\u65e5\\u671f\": \"2020-01-17\", \"\\u901a\\u5831\\u4f86\\u6e90\": \"\\u6cd5\\u5b9a\\u50b3\\u67d3\\u75c5\\u901a\\u5831\", \"\\u901a\\u5831\\u6578\": 0}, {\"\\u65e5\\u671f\": \"2020-01-18\", \"\\u901a\\u5831\\u4f86\\u6e90\": \"\\u6cd5\\u5b9a\\u50b3\\u67d3\\u75c5\\u901a\\u5831\", \"\\u901a\\u5831\\u6578\": 1}, {\"\\u65e5\\u671f\": \"2020-01-19\", \"\\u901a\\u5831\\u4f86\\u6e90\": \"\\u6cd5\\u5b9a\\u50b3\\u67d3\\u75c5\\u901a\\u5831\", \"\\u901a\\u5831\\u6578\": 1}, {\"\\u65e5\\u671f\": \"2020-01-20\", \"\\u901a\\u5831\\u4f86\\u6e90\": \"\\u6cd5\\u5b9a\\u50b3\\u67d3\\u75c5\\u901a\\u5831\", \"\\u901a\\u5831\\u6578\": 2}, {\"\\u65e5\\u671f\": \"2020-01-21\", \"\\u901a\\u5831\\u4f86\\u6e90\": \"\\u6cd5\\u5b9a\\u50b3\\u67d3\\u75c5\\u901a\\u5831\", \"\\u901a\\u5831\\u6578\": 12}, {\"\\u65e5\\u671f\": \"2020-01-22\", \"\\u901a\\u5831\\u4f86\\u6e90\": \"\\u6cd5\\u5b9a\\u50b3\\u67d3\\u75c5\\u901a\\u5831\", \"\\u901a\\u5831\\u6578\": 44}, {\"\\u65e5\\u671f\": \"2020-01-23\", \"\\u901a\\u5831\\u4f86\\u6e90\": \"\\u6cd5\\u5b9a\\u50b3\\u67d3\\u75c5\\u901a\\u5831\", \"\\u901a\\u5831\\u6578\": 70}, {\"\\u65e5\\u671f\": \"2020-01-24\", \"\\u901a\\u5831\\u4f86\\u6e90\": \"\\u6cd5\\u5b9a\\u50b3\\u67d3\\u75c5\\u901a\\u5831\", \"\\u901a\\u5831\\u6578\": 57}, {\"\\u65e5\\u671f\": \"2020-01-25\", \"\\u901a\\u5831\\u4f86\\u6e90\": \"\\u6cd5\\u5b9a\\u50b3\\u67d3\\u75c5\\u901a\\u5831\", \"\\u901a\\u5831\\u6578\": 91}, {\"\\u65e5\\u671f\": \"2020-01-26\", \"\\u901a\\u5831\\u4f86\\u6e90\": \"\\u6cd5\\u5b9a\\u50b3\\u67d3\\u75c5\\u901a\\u5831\", \"\\u901a\\u5831\\u6578\": 117}, {\"\\u65e5\\u671f\": \"2020-01-27\", \"\\u901a\\u5831\\u4f86\\u6e90\": \"\\u6cd5\\u5b9a\\u50b3\\u67d3\\u75c5\\u901a\\u5831\", \"\\u901a\\u5831\\u6578\": 123}, {\"\\u65e5\\u671f\": \"2020-01-28\", \"\\u901a\\u5831\\u4f86\\u6e90\": \"\\u6cd5\\u5b9a\\u50b3\\u67d3\\u75c5\\u901a\\u5831\", \"\\u901a\\u5831\\u6578\": 95}, {\"\\u65e5\\u671f\": \"2020-01-29\", \"\\u901a\\u5831\\u4f86\\u6e90\": \"\\u6cd5\\u5b9a\\u50b3\\u67d3\\u75c5\\u901a\\u5831\", \"\\u901a\\u5831\\u6578\": 106}, {\"\\u65e5\\u671f\": \"2020-01-30\", \"\\u901a\\u5831\\u4f86\\u6e90\": \"\\u6cd5\\u5b9a\\u50b3\\u67d3\\u75c5\\u901a\\u5831\", \"\\u901a\\u5831\\u6578\": 100}, {\"\\u65e5\\u671f\": \"2020-01-31\", \"\\u901a\\u5831\\u4f86\\u6e90\": \"\\u6cd5\\u5b9a\\u50b3\\u67d3\\u75c5\\u901a\\u5831\", \"\\u901a\\u5831\\u6578\": 93}, {\"\\u65e5\\u671f\": \"2020-02-01\", \"\\u901a\\u5831\\u4f86\\u6e90\": \"\\u6cd5\\u5b9a\\u50b3\\u67d3\\u75c5\\u901a\\u5831\", \"\\u901a\\u5831\\u6578\": 87}, {\"\\u65e5\\u671f\": \"2020-02-02\", \"\\u901a\\u5831\\u4f86\\u6e90\": \"\\u6cd5\\u5b9a\\u50b3\\u67d3\\u75c5\\u901a\\u5831\", \"\\u901a\\u5831\\u6578\": 57}, {\"\\u65e5\\u671f\": \"2020-02-03\", \"\\u901a\\u5831\\u4f86\\u6e90\": \"\\u6cd5\\u5b9a\\u50b3\\u67d3\\u75c5\\u901a\\u5831\", \"\\u901a\\u5831\\u6578\": 94}, {\"\\u65e5\\u671f\": \"2020-02-04\", \"\\u901a\\u5831\\u4f86\\u6e90\": \"\\u6cd5\\u5b9a\\u50b3\\u67d3\\u75c5\\u901a\\u5831\", \"\\u901a\\u5831\\u6578\": 76}, {\"\\u65e5\\u671f\": \"2020-02-05\", \"\\u901a\\u5831\\u4f86\\u6e90\": \"\\u6cd5\\u5b9a\\u50b3\\u67d3\\u75c5\\u901a\\u5831\", \"\\u901a\\u5831\\u6578\": 54}, {\"\\u65e5\\u671f\": \"2020-02-06\", \"\\u901a\\u5831\\u4f86\\u6e90\": \"\\u6cd5\\u5b9a\\u50b3\\u67d3\\u75c5\\u901a\\u5831\", \"\\u901a\\u5831\\u6578\": 51}, {\"\\u65e5\\u671f\": \"2020-02-07\", \"\\u901a\\u5831\\u4f86\\u6e90\": \"\\u6cd5\\u5b9a\\u50b3\\u67d3\\u75c5\\u901a\\u5831\", \"\\u901a\\u5831\\u6578\": 63}, {\"\\u65e5\\u671f\": \"2020-02-08\", \"\\u901a\\u5831\\u4f86\\u6e90\": \"\\u6cd5\\u5b9a\\u50b3\\u67d3\\u75c5\\u901a\\u5831\", \"\\u901a\\u5831\\u6578\": 71}, {\"\\u65e5\\u671f\": \"2020-02-09\", \"\\u901a\\u5831\\u4f86\\u6e90\": \"\\u6cd5\\u5b9a\\u50b3\\u67d3\\u75c5\\u901a\\u5831\", \"\\u901a\\u5831\\u6578\": 52}, {\"\\u65e5\\u671f\": \"2020-02-10\", \"\\u901a\\u5831\\u4f86\\u6e90\": \"\\u6cd5\\u5b9a\\u50b3\\u67d3\\u75c5\\u901a\\u5831\", \"\\u901a\\u5831\\u6578\": 94}, {\"\\u65e5\\u671f\": \"2020-02-11\", \"\\u901a\\u5831\\u4f86\\u6e90\": \"\\u6cd5\\u5b9a\\u50b3\\u67d3\\u75c5\\u901a\\u5831\", \"\\u901a\\u5831\\u6578\": 53}, {\"\\u65e5\\u671f\": \"2020-02-12\", \"\\u901a\\u5831\\u4f86\\u6e90\": \"\\u6cd5\\u5b9a\\u50b3\\u67d3\\u75c5\\u901a\\u5831\", \"\\u901a\\u5831\\u6578\": 44}, {\"\\u65e5\\u671f\": \"2020-02-13\", \"\\u901a\\u5831\\u4f86\\u6e90\": \"\\u6cd5\\u5b9a\\u50b3\\u67d3\\u75c5\\u901a\\u5831\", \"\\u901a\\u5831\\u6578\": 37}, {\"\\u65e5\\u671f\": \"2020-02-14\", \"\\u901a\\u5831\\u4f86\\u6e90\": \"\\u6cd5\\u5b9a\\u50b3\\u67d3\\u75c5\\u901a\\u5831\", \"\\u901a\\u5831\\u6578\": 27}, {\"\\u65e5\\u671f\": \"2020-02-15\", \"\\u901a\\u5831\\u4f86\\u6e90\": \"\\u6cd5\\u5b9a\\u50b3\\u67d3\\u75c5\\u901a\\u5831\", \"\\u901a\\u5831\\u6578\": 30}, {\"\\u65e5\\u671f\": \"2020-02-16\", \"\\u901a\\u5831\\u4f86\\u6e90\": \"\\u6cd5\\u5b9a\\u50b3\\u67d3\\u75c5\\u901a\\u5831\", \"\\u901a\\u5831\\u6578\": 30}, {\"\\u65e5\\u671f\": \"2020-02-17\", \"\\u901a\\u5831\\u4f86\\u6e90\": \"\\u6cd5\\u5b9a\\u50b3\\u67d3\\u75c5\\u901a\\u5831\", \"\\u901a\\u5831\\u6578\": 32}, {\"\\u65e5\\u671f\": \"2020-02-18\", \"\\u901a\\u5831\\u4f86\\u6e90\": \"\\u6cd5\\u5b9a\\u50b3\\u67d3\\u75c5\\u901a\\u5831\", \"\\u901a\\u5831\\u6578\": 42}, {\"\\u65e5\\u671f\": \"2020-02-19\", \"\\u901a\\u5831\\u4f86\\u6e90\": \"\\u6cd5\\u5b9a\\u50b3\\u67d3\\u75c5\\u901a\\u5831\", \"\\u901a\\u5831\\u6578\": 31}, {\"\\u65e5\\u671f\": \"2020-02-20\", \"\\u901a\\u5831\\u4f86\\u6e90\": \"\\u6cd5\\u5b9a\\u50b3\\u67d3\\u75c5\\u901a\\u5831\", \"\\u901a\\u5831\\u6578\": 35}, {\"\\u65e5\\u671f\": \"2020-02-21\", \"\\u901a\\u5831\\u4f86\\u6e90\": \"\\u6cd5\\u5b9a\\u50b3\\u67d3\\u75c5\\u901a\\u5831\", \"\\u901a\\u5831\\u6578\": 23}, {\"\\u65e5\\u671f\": \"2020-02-22\", \"\\u901a\\u5831\\u4f86\\u6e90\": \"\\u6cd5\\u5b9a\\u50b3\\u67d3\\u75c5\\u901a\\u5831\", \"\\u901a\\u5831\\u6578\": 33}, {\"\\u65e5\\u671f\": \"2020-02-23\", \"\\u901a\\u5831\\u4f86\\u6e90\": \"\\u6cd5\\u5b9a\\u50b3\\u67d3\\u75c5\\u901a\\u5831\", \"\\u901a\\u5831\\u6578\": 13}, {\"\\u65e5\\u671f\": \"2020-02-24\", \"\\u901a\\u5831\\u4f86\\u6e90\": \"\\u6cd5\\u5b9a\\u50b3\\u67d3\\u75c5\\u901a\\u5831\", \"\\u901a\\u5831\\u6578\": 13}, {\"\\u65e5\\u671f\": \"2020-02-25\", \"\\u901a\\u5831\\u4f86\\u6e90\": \"\\u6cd5\\u5b9a\\u50b3\\u67d3\\u75c5\\u901a\\u5831\", \"\\u901a\\u5831\\u6578\": 12}, {\"\\u65e5\\u671f\": \"2020-02-26\", \"\\u901a\\u5831\\u4f86\\u6e90\": \"\\u6cd5\\u5b9a\\u50b3\\u67d3\\u75c5\\u901a\\u5831\", \"\\u901a\\u5831\\u6578\": 15}, {\"\\u65e5\\u671f\": \"2020-02-27\", \"\\u901a\\u5831\\u4f86\\u6e90\": \"\\u6cd5\\u5b9a\\u50b3\\u67d3\\u75c5\\u901a\\u5831\", \"\\u901a\\u5831\\u6578\": 8}, {\"\\u65e5\\u671f\": \"2020-02-28\", \"\\u901a\\u5831\\u4f86\\u6e90\": \"\\u6cd5\\u5b9a\\u50b3\\u67d3\\u75c5\\u901a\\u5831\", \"\\u901a\\u5831\\u6578\": 11}, {\"\\u65e5\\u671f\": \"2020-02-29\", \"\\u901a\\u5831\\u4f86\\u6e90\": \"\\u6cd5\\u5b9a\\u50b3\\u67d3\\u75c5\\u901a\\u5831\", \"\\u901a\\u5831\\u6578\": 87}, {\"\\u65e5\\u671f\": \"2020-03-01\", \"\\u901a\\u5831\\u4f86\\u6e90\": \"\\u6cd5\\u5b9a\\u50b3\\u67d3\\u75c5\\u901a\\u5831\", \"\\u901a\\u5831\\u6578\": 98}, {\"\\u65e5\\u671f\": \"2020-03-02\", \"\\u901a\\u5831\\u4f86\\u6e90\": \"\\u6cd5\\u5b9a\\u50b3\\u67d3\\u75c5\\u901a\\u5831\", \"\\u901a\\u5831\\u6578\": 162}, {\"\\u65e5\\u671f\": \"2020-03-03\", \"\\u901a\\u5831\\u4f86\\u6e90\": \"\\u6cd5\\u5b9a\\u50b3\\u67d3\\u75c5\\u901a\\u5831\", \"\\u901a\\u5831\\u6578\": 148}, {\"\\u65e5\\u671f\": \"2020-03-04\", \"\\u901a\\u5831\\u4f86\\u6e90\": \"\\u6cd5\\u5b9a\\u50b3\\u67d3\\u75c5\\u901a\\u5831\", \"\\u901a\\u5831\\u6578\": 137}, {\"\\u65e5\\u671f\": \"2020-03-05\", \"\\u901a\\u5831\\u4f86\\u6e90\": \"\\u6cd5\\u5b9a\\u50b3\\u67d3\\u75c5\\u901a\\u5831\", \"\\u901a\\u5831\\u6578\": 83}, {\"\\u65e5\\u671f\": \"2020-03-06\", \"\\u901a\\u5831\\u4f86\\u6e90\": \"\\u6cd5\\u5b9a\\u50b3\\u67d3\\u75c5\\u901a\\u5831\", \"\\u901a\\u5831\\u6578\": 99}, {\"\\u65e5\\u671f\": \"2020-03-07\", \"\\u901a\\u5831\\u4f86\\u6e90\": \"\\u6cd5\\u5b9a\\u50b3\\u67d3\\u75c5\\u901a\\u5831\", \"\\u901a\\u5831\\u6578\": 75}, {\"\\u65e5\\u671f\": \"2020-03-08\", \"\\u901a\\u5831\\u4f86\\u6e90\": \"\\u6cd5\\u5b9a\\u50b3\\u67d3\\u75c5\\u901a\\u5831\", \"\\u901a\\u5831\\u6578\": 51}, {\"\\u65e5\\u671f\": \"2020-03-09\", \"\\u901a\\u5831\\u4f86\\u6e90\": \"\\u6cd5\\u5b9a\\u50b3\\u67d3\\u75c5\\u901a\\u5831\", \"\\u901a\\u5831\\u6578\": 98}, {\"\\u65e5\\u671f\": \"2020-03-10\", \"\\u901a\\u5831\\u4f86\\u6e90\": \"\\u6cd5\\u5b9a\\u50b3\\u67d3\\u75c5\\u901a\\u5831\", \"\\u901a\\u5831\\u6578\": 84}, {\"\\u65e5\\u671f\": \"2020-03-11\", \"\\u901a\\u5831\\u4f86\\u6e90\": \"\\u6cd5\\u5b9a\\u50b3\\u67d3\\u75c5\\u901a\\u5831\", \"\\u901a\\u5831\\u6578\": 81}, {\"\\u65e5\\u671f\": \"2020-03-12\", \"\\u901a\\u5831\\u4f86\\u6e90\": \"\\u6cd5\\u5b9a\\u50b3\\u67d3\\u75c5\\u901a\\u5831\", \"\\u901a\\u5831\\u6578\": 63}, {\"\\u65e5\\u671f\": \"2020-03-13\", \"\\u901a\\u5831\\u4f86\\u6e90\": \"\\u6cd5\\u5b9a\\u50b3\\u67d3\\u75c5\\u901a\\u5831\", \"\\u901a\\u5831\\u6578\": 94}, {\"\\u65e5\\u671f\": \"2020-03-14\", \"\\u901a\\u5831\\u4f86\\u6e90\": \"\\u6cd5\\u5b9a\\u50b3\\u67d3\\u75c5\\u901a\\u5831\", \"\\u901a\\u5831\\u6578\": 78}, {\"\\u65e5\\u671f\": \"2020-03-15\", \"\\u901a\\u5831\\u4f86\\u6e90\": \"\\u6cd5\\u5b9a\\u50b3\\u67d3\\u75c5\\u901a\\u5831\", \"\\u901a\\u5831\\u6578\": 65}, {\"\\u65e5\\u671f\": \"2020-03-16\", \"\\u901a\\u5831\\u4f86\\u6e90\": \"\\u6cd5\\u5b9a\\u50b3\\u67d3\\u75c5\\u901a\\u5831\", \"\\u901a\\u5831\\u6578\": 144}, {\"\\u65e5\\u671f\": \"2020-03-17\", \"\\u901a\\u5831\\u4f86\\u6e90\": \"\\u6cd5\\u5b9a\\u50b3\\u67d3\\u75c5\\u901a\\u5831\", \"\\u901a\\u5831\\u6578\": 179}, {\"\\u65e5\\u671f\": \"2020-03-18\", \"\\u901a\\u5831\\u4f86\\u6e90\": \"\\u6cd5\\u5b9a\\u50b3\\u67d3\\u75c5\\u901a\\u5831\", \"\\u901a\\u5831\\u6578\": 267}, {\"\\u65e5\\u671f\": \"2020-03-19\", \"\\u901a\\u5831\\u4f86\\u6e90\": \"\\u6cd5\\u5b9a\\u50b3\\u67d3\\u75c5\\u901a\\u5831\", \"\\u901a\\u5831\\u6578\": 350}, {\"\\u65e5\\u671f\": \"2020-03-20\", \"\\u901a\\u5831\\u4f86\\u6e90\": \"\\u6cd5\\u5b9a\\u50b3\\u67d3\\u75c5\\u901a\\u5831\", \"\\u901a\\u5831\\u6578\": 447}, {\"\\u65e5\\u671f\": \"2020-03-21\", \"\\u901a\\u5831\\u4f86\\u6e90\": \"\\u6cd5\\u5b9a\\u50b3\\u67d3\\u75c5\\u901a\\u5831\", \"\\u901a\\u5831\\u6578\": 371}, {\"\\u65e5\\u671f\": \"2020-03-22\", \"\\u901a\\u5831\\u4f86\\u6e90\": \"\\u6cd5\\u5b9a\\u50b3\\u67d3\\u75c5\\u901a\\u5831\", \"\\u901a\\u5831\\u6578\": 266}, {\"\\u65e5\\u671f\": \"2020-03-23\", \"\\u901a\\u5831\\u4f86\\u6e90\": \"\\u6cd5\\u5b9a\\u50b3\\u67d3\\u75c5\\u901a\\u5831\", \"\\u901a\\u5831\\u6578\": 446}, {\"\\u65e5\\u671f\": \"2020-03-24\", \"\\u901a\\u5831\\u4f86\\u6e90\": \"\\u6cd5\\u5b9a\\u50b3\\u67d3\\u75c5\\u901a\\u5831\", \"\\u901a\\u5831\\u6578\": 382}, {\"\\u65e5\\u671f\": \"2020-03-25\", \"\\u901a\\u5831\\u4f86\\u6e90\": \"\\u6cd5\\u5b9a\\u50b3\\u67d3\\u75c5\\u901a\\u5831\", \"\\u901a\\u5831\\u6578\": 363}, {\"\\u65e5\\u671f\": \"2020-03-26\", \"\\u901a\\u5831\\u4f86\\u6e90\": \"\\u6cd5\\u5b9a\\u50b3\\u67d3\\u75c5\\u901a\\u5831\", \"\\u901a\\u5831\\u6578\": 330}, {\"\\u65e5\\u671f\": \"2020-03-27\", \"\\u901a\\u5831\\u4f86\\u6e90\": \"\\u6cd5\\u5b9a\\u50b3\\u67d3\\u75c5\\u901a\\u5831\", \"\\u901a\\u5831\\u6578\": 358}, {\"\\u65e5\\u671f\": \"2020-03-28\", \"\\u901a\\u5831\\u4f86\\u6e90\": \"\\u6cd5\\u5b9a\\u50b3\\u67d3\\u75c5\\u901a\\u5831\", \"\\u901a\\u5831\\u6578\": 220}, {\"\\u65e5\\u671f\": \"2020-03-29\", \"\\u901a\\u5831\\u4f86\\u6e90\": \"\\u6cd5\\u5b9a\\u50b3\\u67d3\\u75c5\\u901a\\u5831\", \"\\u901a\\u5831\\u6578\": 245}, {\"\\u65e5\\u671f\": \"2020-03-30\", \"\\u901a\\u5831\\u4f86\\u6e90\": \"\\u6cd5\\u5b9a\\u50b3\\u67d3\\u75c5\\u901a\\u5831\", \"\\u901a\\u5831\\u6578\": 367}, {\"\\u65e5\\u671f\": \"2020-03-31\", \"\\u901a\\u5831\\u4f86\\u6e90\": \"\\u6cd5\\u5b9a\\u50b3\\u67d3\\u75c5\\u901a\\u5831\", \"\\u901a\\u5831\\u6578\": 371}, {\"\\u65e5\\u671f\": \"2020-04-01\", \"\\u901a\\u5831\\u4f86\\u6e90\": \"\\u6cd5\\u5b9a\\u50b3\\u67d3\\u75c5\\u901a\\u5831\", \"\\u901a\\u5831\\u6578\": 400}, {\"\\u65e5\\u671f\": \"2020-04-02\", \"\\u901a\\u5831\\u4f86\\u6e90\": \"\\u6cd5\\u5b9a\\u50b3\\u67d3\\u75c5\\u901a\\u5831\", \"\\u901a\\u5831\\u6578\": 269}, {\"\\u65e5\\u671f\": \"2020-04-03\", \"\\u901a\\u5831\\u4f86\\u6e90\": \"\\u6cd5\\u5b9a\\u50b3\\u67d3\\u75c5\\u901a\\u5831\", \"\\u901a\\u5831\\u6578\": 296}, {\"\\u65e5\\u671f\": \"2020-04-04\", \"\\u901a\\u5831\\u4f86\\u6e90\": \"\\u6cd5\\u5b9a\\u50b3\\u67d3\\u75c5\\u901a\\u5831\", \"\\u901a\\u5831\\u6578\": 295}, {\"\\u65e5\\u671f\": \"2020-04-05\", \"\\u901a\\u5831\\u4f86\\u6e90\": \"\\u6cd5\\u5b9a\\u50b3\\u67d3\\u75c5\\u901a\\u5831\", \"\\u901a\\u5831\\u6578\": 274}, {\"\\u65e5\\u671f\": \"2020-04-06\", \"\\u901a\\u5831\\u4f86\\u6e90\": \"\\u6cd5\\u5b9a\\u50b3\\u67d3\\u75c5\\u901a\\u5831\", \"\\u901a\\u5831\\u6578\": 427}, {\"\\u65e5\\u671f\": \"2020-04-07\", \"\\u901a\\u5831\\u4f86\\u6e90\": \"\\u6cd5\\u5b9a\\u50b3\\u67d3\\u75c5\\u901a\\u5831\", \"\\u901a\\u5831\\u6578\": 335}, {\"\\u65e5\\u671f\": \"2020-04-08\", \"\\u901a\\u5831\\u4f86\\u6e90\": \"\\u6cd5\\u5b9a\\u50b3\\u67d3\\u75c5\\u901a\\u5831\", \"\\u901a\\u5831\\u6578\": 272}, {\"\\u65e5\\u671f\": \"2020-04-09\", \"\\u901a\\u5831\\u4f86\\u6e90\": \"\\u6cd5\\u5b9a\\u50b3\\u67d3\\u75c5\\u901a\\u5831\", \"\\u901a\\u5831\\u6578\": 260}, {\"\\u65e5\\u671f\": \"2020-04-10\", \"\\u901a\\u5831\\u4f86\\u6e90\": \"\\u6cd5\\u5b9a\\u50b3\\u67d3\\u75c5\\u901a\\u5831\", \"\\u901a\\u5831\\u6578\": 250}, {\"\\u65e5\\u671f\": \"2020-04-11\", \"\\u901a\\u5831\\u4f86\\u6e90\": \"\\u6cd5\\u5b9a\\u50b3\\u67d3\\u75c5\\u901a\\u5831\", \"\\u901a\\u5831\\u6578\": 168}, {\"\\u65e5\\u671f\": \"2020-04-12\", \"\\u901a\\u5831\\u4f86\\u6e90\": \"\\u6cd5\\u5b9a\\u50b3\\u67d3\\u75c5\\u901a\\u5831\", \"\\u901a\\u5831\\u6578\": 99}, {\"\\u65e5\\u671f\": \"2020-04-13\", \"\\u901a\\u5831\\u4f86\\u6e90\": \"\\u6cd5\\u5b9a\\u50b3\\u67d3\\u75c5\\u901a\\u5831\", \"\\u901a\\u5831\\u6578\": 225}, {\"\\u65e5\\u671f\": \"2020-04-14\", \"\\u901a\\u5831\\u4f86\\u6e90\": \"\\u6cd5\\u5b9a\\u50b3\\u67d3\\u75c5\\u901a\\u5831\", \"\\u901a\\u5831\\u6578\": 182}, {\"\\u65e5\\u671f\": \"2020-04-15\", \"\\u901a\\u5831\\u4f86\\u6e90\": \"\\u6cd5\\u5b9a\\u50b3\\u67d3\\u75c5\\u901a\\u5831\", \"\\u901a\\u5831\\u6578\": 150}, {\"\\u65e5\\u671f\": \"2020-04-16\", \"\\u901a\\u5831\\u4f86\\u6e90\": \"\\u6cd5\\u5b9a\\u50b3\\u67d3\\u75c5\\u901a\\u5831\", \"\\u901a\\u5831\\u6578\": 149}, {\"\\u65e5\\u671f\": \"2020-04-17\", \"\\u901a\\u5831\\u4f86\\u6e90\": \"\\u6cd5\\u5b9a\\u50b3\\u67d3\\u75c5\\u901a\\u5831\", \"\\u901a\\u5831\\u6578\": 126}, {\"\\u65e5\\u671f\": \"2020-04-18\", \"\\u901a\\u5831\\u4f86\\u6e90\": \"\\u6cd5\\u5b9a\\u50b3\\u67d3\\u75c5\\u901a\\u5831\", \"\\u901a\\u5831\\u6578\": 97}, {\"\\u65e5\\u671f\": \"2020-04-19\", \"\\u901a\\u5831\\u4f86\\u6e90\": \"\\u6cd5\\u5b9a\\u50b3\\u67d3\\u75c5\\u901a\\u5831\", \"\\u901a\\u5831\\u6578\": 127}, {\"\\u65e5\\u671f\": \"2020-04-20\", \"\\u901a\\u5831\\u4f86\\u6e90\": \"\\u6cd5\\u5b9a\\u50b3\\u67d3\\u75c5\\u901a\\u5831\", \"\\u901a\\u5831\\u6578\": 197}, {\"\\u65e5\\u671f\": \"2020-04-21\", \"\\u901a\\u5831\\u4f86\\u6e90\": \"\\u6cd5\\u5b9a\\u50b3\\u67d3\\u75c5\\u901a\\u5831\", \"\\u901a\\u5831\\u6578\": 159}, {\"\\u65e5\\u671f\": \"2020-04-22\", \"\\u901a\\u5831\\u4f86\\u6e90\": \"\\u6cd5\\u5b9a\\u50b3\\u67d3\\u75c5\\u901a\\u5831\", \"\\u901a\\u5831\\u6578\": 117}, {\"\\u65e5\\u671f\": \"2020-04-23\", \"\\u901a\\u5831\\u4f86\\u6e90\": \"\\u6cd5\\u5b9a\\u50b3\\u67d3\\u75c5\\u901a\\u5831\", \"\\u901a\\u5831\\u6578\": 125}, {\"\\u65e5\\u671f\": \"2020-04-24\", \"\\u901a\\u5831\\u4f86\\u6e90\": \"\\u6cd5\\u5b9a\\u50b3\\u67d3\\u75c5\\u901a\\u5831\", \"\\u901a\\u5831\\u6578\": 97}, {\"\\u65e5\\u671f\": \"2020-04-25\", \"\\u901a\\u5831\\u4f86\\u6e90\": \"\\u6cd5\\u5b9a\\u50b3\\u67d3\\u75c5\\u901a\\u5831\", \"\\u901a\\u5831\\u6578\": 77}, {\"\\u65e5\\u671f\": \"2020-04-26\", \"\\u901a\\u5831\\u4f86\\u6e90\": \"\\u6cd5\\u5b9a\\u50b3\\u67d3\\u75c5\\u901a\\u5831\", \"\\u901a\\u5831\\u6578\": 71}, {\"\\u65e5\\u671f\": \"2020-04-27\", \"\\u901a\\u5831\\u4f86\\u6e90\": \"\\u6cd5\\u5b9a\\u50b3\\u67d3\\u75c5\\u901a\\u5831\", \"\\u901a\\u5831\\u6578\": 76}, {\"\\u65e5\\u671f\": \"2020-04-28\", \"\\u901a\\u5831\\u4f86\\u6e90\": \"\\u6cd5\\u5b9a\\u50b3\\u67d3\\u75c5\\u901a\\u5831\", \"\\u901a\\u5831\\u6578\": 98}, {\"\\u65e5\\u671f\": \"2020-04-29\", \"\\u901a\\u5831\\u4f86\\u6e90\": \"\\u6cd5\\u5b9a\\u50b3\\u67d3\\u75c5\\u901a\\u5831\", \"\\u901a\\u5831\\u6578\": 73}, {\"\\u65e5\\u671f\": \"2020-04-30\", \"\\u901a\\u5831\\u4f86\\u6e90\": \"\\u6cd5\\u5b9a\\u50b3\\u67d3\\u75c5\\u901a\\u5831\", \"\\u901a\\u5831\\u6578\": 0}]}}, {\"actions\": false, \"mode\": \"vega-lite\"});\n",
              "</script>"
            ],
            "text/plain": [
              "alt.Chart(...)"
            ]
          },
          "execution_count": 9,
          "metadata": {},
          "output_type": "execute_result"
        }
      ],
      "source": [
        "chart_title = \"COVID-19（武漢肺炎）監測趨勢圖 - 依通報來源\"\n",
        "alt.Chart(data, title=chart_title).mark_bar()\\\n",
        ".encode(\n",
        "    x=alt.X('日期:T', title=\"通報日\", axis=alt.Axis(\n",
        "        grid=False,  # 去除縱軸的格線\n",
        "        format=\"%m/%d\",  # 自定義日期格式\n",
        "    )),\n",
        "    y=\"通報數:Q\",\n",
        "    color='通報來源:O',  # 將通報來源視為有序類別\n",
        "    tooltip=['日期:T', '通報來源', '通報數']  # 加上提示框\n",
        ").properties(\n",
        "    width=700\n",
        ")"
      ]
    },
    {
      "cell_type": "markdown",
      "metadata": {
        "papermill": {
          "duration": 0.046698,
          "end_time": "2020-04-30T06:07:56.873769",
          "exception": false,
          "start_time": "2020-04-30T06:07:56.827071",
          "status": "completed"
        },
        "tags": [],
        "id": "M1X9Vpo_rZm-"
      },
      "source": [
        "至此，我們完整地重現了疾管署首頁所呈現的 COVID-19 監測趨勢圖。透過添加 `tooltip` 參數，你現在還可以將滑鼠移動至圖上查看各個通報來源的實際數值；這次我們則將通報來源視為有序變數（ordinal variable），讓 Altair 自動套用相同色系的漸層效果，強調檢測能量分別在 2 月以及 3 月中旬有強化的趨勢。\n",
        "\n",
        "進度 50 %。接著讓我們重現疾管署公布的境內外確診人數趨勢："
      ]
    },
    {
      "cell_type": "markdown",
      "metadata": {
        "papermill": {
          "duration": 0.03581,
          "end_time": "2020-04-30T06:07:56.945574",
          "exception": false,
          "start_time": "2020-04-30T06:07:56.909764",
          "status": "completed"
        },
        "tags": [],
        "id": "AdOIjL7-rZm-"
      },
      "source": [
        "> img: intro/taiwan-cnc-numbers.jpg|desc:現在關注左圖：依據境內外做區別的每日確診人數|dark"
      ]
    },
    {
      "cell_type": "markdown",
      "metadata": {
        "papermill": {
          "duration": 0.03355,
          "end_time": "2020-04-30T06:07:57.012772",
          "exception": false,
          "start_time": "2020-04-30T06:07:56.979222",
          "status": "completed"
        },
        "tags": [],
        "id": "RyIfN73wrZm-"
      },
      "source": [
        "左圖依照發病日期展示了台灣每天境內外的確診人數趨勢。要重現這張趨勢圖，我們得先想辦法拿到相對應的境內外確診數據。這次我們將存取公開試算表中的[臺灣武漢肺炎病例](https://docs.google.com/spreadsheets/d/1Kp5IC5IEI2ffaOSZY1daYoi2u50bjUHJW-IgfHoEq8o/edit#gid=0)工作表："
      ]
    },
    {
      "cell_type": "code",
      "execution_count": null,
      "metadata": {
        "execution": {
          "iopub.execute_input": "2020-04-30T06:07:57.097655Z",
          "iopub.status.busy": "2020-04-30T06:07:57.097003Z",
          "iopub.status.idle": "2020-04-30T06:07:57.874249Z",
          "shell.execute_reply": "2020-04-30T06:07:57.874770Z"
        },
        "papermill": {
          "duration": 0.822489,
          "end_time": "2020-04-30T06:07:57.874909",
          "exception": false,
          "start_time": "2020-04-30T06:07:57.052420",
          "status": "completed"
        },
        "tags": [],
        "id": "-vYGTKX4rZm-",
        "outputId": "61822f0e-edb1-45a8-b50e-3f6a4871d08c"
      },
      "outputs": [
        {
          "data": {
            "text/html": [
              "<div>\n",
              "<style scoped>\n",
              "    .dataframe tbody tr th:only-of-type {\n",
              "        vertical-align: middle;\n",
              "    }\n",
              "\n",
              "    .dataframe tbody tr th {\n",
              "        vertical-align: top;\n",
              "    }\n",
              "\n",
              "    .dataframe thead th {\n",
              "        text-align: right;\n",
              "    }\n",
              "</style>\n",
              "<table border=\"1\" class=\"dataframe\">\n",
              "  <thead>\n",
              "    <tr style=\"text-align: right;\">\n",
              "      <th></th>\n",
              "      <th>出現症狀日期</th>\n",
              "      <th>案例</th>\n",
              "      <th>來源</th>\n",
              "      <th>性別</th>\n",
              "      <th>年齡</th>\n",
              "    </tr>\n",
              "  </thead>\n",
              "  <tbody>\n",
              "    <tr>\n",
              "      <th>423</th>\n",
              "      <td>2020-4-5</td>\n",
              "      <td>#424</td>\n",
              "      <td>敦睦\\n遠訓</td>\n",
              "      <td>女</td>\n",
              "      <td>3X</td>\n",
              "    </tr>\n",
              "    <tr>\n",
              "      <th>424</th>\n",
              "      <td>2020-3-23</td>\n",
              "      <td>#425</td>\n",
              "      <td>敦睦\\n遠訓</td>\n",
              "      <td>男</td>\n",
              "      <td>2X</td>\n",
              "    </tr>\n",
              "    <tr>\n",
              "      <th>425</th>\n",
              "      <td>2020-3-23</td>\n",
              "      <td>#426</td>\n",
              "      <td>敦睦\\n遠訓</td>\n",
              "      <td>男</td>\n",
              "      <td>2X</td>\n",
              "    </tr>\n",
              "    <tr>\n",
              "      <th>426</th>\n",
              "      <td>2020-4-19</td>\n",
              "      <td>#427</td>\n",
              "      <td>敦睦\\n遠訓</td>\n",
              "      <td>男</td>\n",
              "      <td>2X</td>\n",
              "    </tr>\n",
              "    <tr>\n",
              "      <th>427</th>\n",
              "      <td>2020-4-22</td>\n",
              "      <td>#428</td>\n",
              "      <td>敦睦\\n遠訓</td>\n",
              "      <td>男</td>\n",
              "      <td>3X</td>\n",
              "    </tr>\n",
              "  </tbody>\n",
              "</table>\n",
              "</div>"
            ],
            "text/plain": [
              "        出現症狀日期    案例      來源 性別  年齡\n",
              "423   2020-4-5  #424  敦睦\\n遠訓  女  3X\n",
              "424  2020-3-23  #425  敦睦\\n遠訓  男  2X\n",
              "425  2020-3-23  #426  敦睦\\n遠訓  男  2X\n",
              "426  2020-4-19  #427  敦睦\\n遠訓  男  2X\n",
              "427  2020-4-22  #428  敦睦\\n遠訓  男  3X"
            ]
          },
          "execution_count": 10,
          "metadata": {},
          "output_type": "execute_result"
        }
      ],
      "source": [
        "cases = (\n",
        "    pd.read_csv(GOOGLE_SHEET_URL.format(\n",
        "        \"1Kp5IC5IEI2ffaOSZY1daYoi2u50bjUHJW-IgfHoEq8o\",\n",
        "        0  # `臺灣武漢肺炎病例` 工作表的 gid\n",
        "    ))\n",
        "    .loc[:, ['出現症狀日期', '案例', '來源', '性別', '年齡']]\n",
        ")\n",
        "\n",
        "# 這邊忽略沒有記載出現症狀日期的案例\n",
        "cases = cases.loc[~cases['出現症狀日期'].isna()]\n",
        "cases = cases.loc[cases['出現症狀日期'].apply(lambda x: not 'x' in x)]\n",
        "\n",
        "# 處理時間欄位的字串讓 Altair 等等可以正確解析日期\n",
        "cases['出現症狀日期'] = cases['出現症狀日期']\\\n",
        "    .apply(lambda x: '-'.join(['2020', *x.split(\"/\")]))\n",
        "\n",
        "cases.tail()"
      ]
    },
    {
      "cell_type": "markdown",
      "metadata": {
        "papermill": {
          "duration": 0.036188,
          "end_time": "2020-04-30T06:07:57.957746",
          "exception": false,
          "start_time": "2020-04-30T06:07:57.921558",
          "status": "completed"
        },
        "tags": [],
        "id": "WCMLILLArZm-"
      },
      "source": [
        "很明顯地，`cases` 裡的每一列都代表著一個特定的台灣確診案例。而因為我們想要了解的是每一天每個通報來源的案例總數，還得使用 pandas 的 `groupby` 函式將 `cases` 依據出現症狀日期 & 來源分組並分別加總案例數："
      ]
    },
    {
      "cell_type": "code",
      "execution_count": null,
      "metadata": {
        "execution": {
          "iopub.execute_input": "2020-04-30T06:07:58.040966Z",
          "iopub.status.busy": "2020-04-30T06:07:58.038762Z",
          "iopub.status.idle": "2020-04-30T06:07:58.051401Z",
          "shell.execute_reply": "2020-04-30T06:07:58.050781Z"
        },
        "papermill": {
          "duration": 0.056386,
          "end_time": "2020-04-30T06:07:58.051532",
          "exception": false,
          "start_time": "2020-04-30T06:07:57.995146",
          "status": "completed"
        },
        "tags": [],
        "id": "_nNRLhO3rZm-",
        "outputId": "7308eec2-54c7-4f0a-df68-14f67f789602"
      },
      "outputs": [
        {
          "data": {
            "text/html": [
              "<div>\n",
              "<style scoped>\n",
              "    .dataframe tbody tr th:only-of-type {\n",
              "        vertical-align: middle;\n",
              "    }\n",
              "\n",
              "    .dataframe tbody tr th {\n",
              "        vertical-align: top;\n",
              "    }\n",
              "\n",
              "    .dataframe thead th {\n",
              "        text-align: right;\n",
              "    }\n",
              "</style>\n",
              "<table border=\"1\" class=\"dataframe\">\n",
              "  <thead>\n",
              "    <tr style=\"text-align: right;\">\n",
              "      <th></th>\n",
              "      <th>出現症狀日期</th>\n",
              "      <th>來源</th>\n",
              "      <th>案例</th>\n",
              "    </tr>\n",
              "  </thead>\n",
              "  <tbody>\n",
              "    <tr>\n",
              "      <th>85</th>\n",
              "      <td>2020-4-4</td>\n",
              "      <td>境外</td>\n",
              "      <td>6</td>\n",
              "    </tr>\n",
              "    <tr>\n",
              "      <th>86</th>\n",
              "      <td>2020-4-4</td>\n",
              "      <td>本土</td>\n",
              "      <td>1</td>\n",
              "    </tr>\n",
              "    <tr>\n",
              "      <th>87</th>\n",
              "      <td>2020-4-5</td>\n",
              "      <td>境外</td>\n",
              "      <td>1</td>\n",
              "    </tr>\n",
              "    <tr>\n",
              "      <th>88</th>\n",
              "      <td>2020-4-5</td>\n",
              "      <td>敦睦\\n遠訓</td>\n",
              "      <td>1</td>\n",
              "    </tr>\n",
              "    <tr>\n",
              "      <th>89</th>\n",
              "      <td>2020-4-6</td>\n",
              "      <td>境外</td>\n",
              "      <td>1</td>\n",
              "    </tr>\n",
              "  </tbody>\n",
              "</table>\n",
              "</div>"
            ],
            "text/plain": [
              "      出現症狀日期      來源  案例\n",
              "85  2020-4-4      境外   6\n",
              "86  2020-4-4      本土   1\n",
              "87  2020-4-5      境外   1\n",
              "88  2020-4-5  敦睦\\n遠訓   1\n",
              "89  2020-4-6      境外   1"
            ]
          },
          "execution_count": 11,
          "metadata": {},
          "output_type": "execute_result"
        }
      ],
      "source": [
        "data = (\n",
        "    cases\n",
        "    .groupby(['出現症狀日期', '來源'])['案例']\n",
        "    .count()\n",
        "    .reset_index()\n",
        ")\n",
        "data.tail()"
      ]
    },
    {
      "cell_type": "markdown",
      "metadata": {
        "papermill": {
          "duration": 0.038661,
          "end_time": "2020-04-30T06:07:58.127303",
          "exception": false,
          "start_time": "2020-04-30T06:07:58.088642",
          "status": "completed"
        },
        "tags": [],
        "id": "ybVUvV3WrZm-"
      },
      "source": [
        "就跟前面通報來源的例子相同，現在 `data` 已經是我們想要的 tidy 格式，因此可以馬上使用 Altair 描繪趨勢圖："
      ]
    },
    {
      "cell_type": "code",
      "execution_count": null,
      "metadata": {
        "execution": {
          "iopub.execute_input": "2020-04-30T06:07:58.226756Z",
          "iopub.status.busy": "2020-04-30T06:07:58.216404Z",
          "iopub.status.idle": "2020-04-30T06:07:58.249059Z",
          "shell.execute_reply": "2020-04-30T06:07:58.248506Z"
        },
        "papermill": {
          "duration": 0.084244,
          "end_time": "2020-04-30T06:07:58.249184",
          "exception": false,
          "start_time": "2020-04-30T06:07:58.164940",
          "status": "completed"
        },
        "tags": [],
        "id": "A1tAn-sXrZm-",
        "outputId": "06c5c6c1-83d1-488c-fa08-69d04f85a77d"
      },
      "outputs": [
        {
          "data": {
            "text/html": [
              "\n",
              "<div id=\"altair-viz-0249bbff0e6949a28a3f18ded16c0865\"></div>\n",
              "<script type=\"text/javascript\">\n",
              "  (function(spec, embedOpt){\n",
              "    let outputDiv = document.currentScript.previousElementSibling;\n",
              "    if (outputDiv.id !== \"altair-viz-0249bbff0e6949a28a3f18ded16c0865\") {\n",
              "      outputDiv = document.getElementById(\"altair-viz-0249bbff0e6949a28a3f18ded16c0865\");\n",
              "    }\n",
              "    const paths = {\n",
              "      \"vega\": \"https://cdn.jsdelivr.net/npm//vega@5?noext\",\n",
              "      \"vega-lib\": \"https://cdn.jsdelivr.net/npm//vega-lib?noext\",\n",
              "      \"vega-lite\": \"https://cdn.jsdelivr.net/npm//vega-lite@4.8.1?noext\",\n",
              "      \"vega-embed\": \"https://cdn.jsdelivr.net/npm//vega-embed@6?noext\",\n",
              "    };\n",
              "\n",
              "    function loadScript(lib) {\n",
              "      return new Promise(function(resolve, reject) {\n",
              "        var s = document.createElement('script');\n",
              "        s.src = paths[lib];\n",
              "        s.async = true;\n",
              "        s.onload = () => resolve(paths[lib]);\n",
              "        s.onerror = () => reject(`Error loading script: ${paths[lib]}`);\n",
              "        document.getElementsByTagName(\"head\")[0].appendChild(s);\n",
              "      });\n",
              "    }\n",
              "\n",
              "    function showError(err) {\n",
              "      outputDiv.innerHTML = `<div class=\"error\" style=\"color:red;\">${err}</div>`;\n",
              "      throw err;\n",
              "    }\n",
              "\n",
              "    function displayChart(vegaEmbed) {\n",
              "      vegaEmbed(outputDiv, spec, embedOpt)\n",
              "        .catch(err => showError(`Javascript Error: ${err.message}<br>This usually means there's a typo in your chart specification. See the javascript console for the full traceback.`));\n",
              "    }\n",
              "\n",
              "    if(typeof define === \"function\" && define.amd) {\n",
              "      requirejs.config({paths});\n",
              "      require([\"vega-embed\"], displayChart, err => showError(`Error loading script: ${err.message}`));\n",
              "    } else if (typeof vegaEmbed === \"function\") {\n",
              "      displayChart(vegaEmbed);\n",
              "    } else {\n",
              "      loadScript(\"vega\")\n",
              "        .then(() => loadScript(\"vega-lite\"))\n",
              "        .then(() => loadScript(\"vega-embed\"))\n",
              "        .catch(showError)\n",
              "        .then(() => displayChart(vegaEmbed));\n",
              "    }\n",
              "  })({\"config\": {\"view\": {\"continuousWidth\": 400, \"continuousHeight\": 300}}, \"data\": {\"name\": \"data-bb86be674683b7eb44cbcf3cb65c558c\"}, \"mark\": \"bar\", \"encoding\": {\"color\": {\"type\": \"nominal\", \"field\": \"\\u4f86\\u6e90\"}, \"tooltip\": [{\"type\": \"temporal\", \"field\": \"\\u51fa\\u73fe\\u75c7\\u72c0\\u65e5\\u671f\"}, {\"type\": \"nominal\", \"field\": \"\\u4f86\\u6e90\"}, {\"type\": \"quantitative\", \"field\": \"\\u6848\\u4f8b\"}], \"x\": {\"type\": \"temporal\", \"axis\": {\"format\": \"%m/%d\", \"grid\": false}, \"field\": \"\\u51fa\\u73fe\\u75c7\\u72c0\\u65e5\\u671f\", \"title\": \"\\u767c\\u75c5\\u65e5\"}, \"y\": {\"type\": \"quantitative\", \"field\": \"\\u6848\\u4f8b\"}}, \"title\": \"\\u56b4\\u91cd\\u7279\\u6b8a\\u6027\\u50b3\\u67d3\\u6027\\u80ba\\u708e\\u78ba\\u8a3a\\u500b\\u6848\\u8da8\\u52e2\\u5716 - \\u4f9d\\u767c\\u75c5\\u65e5\", \"width\": 700, \"$schema\": \"https://vega.github.io/schema/vega-lite/v4.8.1.json\", \"datasets\": {\"data-bb86be674683b7eb44cbcf3cb65c558c\": [{\"\\u51fa\\u73fe\\u75c7\\u72c0\\u65e5\\u671f\": \"2020-1-11\", \"\\u4f86\\u6e90\": \"\\u5883\\u5916\", \"\\u6848\\u4f8b\": 1}, {\"\\u51fa\\u73fe\\u75c7\\u72c0\\u65e5\\u671f\": \"2020-1-20\", \"\\u4f86\\u6e90\": \"\\u5883\\u5916\", \"\\u6848\\u4f8b\": 1}, {\"\\u51fa\\u73fe\\u75c7\\u72c0\\u65e5\\u671f\": \"2020-1-21\", \"\\u4f86\\u6e90\": \"\\u5883\\u5916\", \"\\u6848\\u4f8b\": 1}, {\"\\u51fa\\u73fe\\u75c7\\u72c0\\u65e5\\u671f\": \"2020-1-22\", \"\\u4f86\\u6e90\": \"\\u5883\\u5916\", \"\\u6848\\u4f8b\": 1}, {\"\\u51fa\\u73fe\\u75c7\\u72c0\\u65e5\\u671f\": \"2020-1-22\", \"\\u4f86\\u6e90\": \"\\u672c\\u571f\", \"\\u6848\\u4f8b\": 1}, {\"\\u51fa\\u73fe\\u75c7\\u72c0\\u65e5\\u671f\": \"2020-1-23\", \"\\u4f86\\u6e90\": \"\\u5883\\u5916\", \"\\u6848\\u4f8b\": 1}, {\"\\u51fa\\u73fe\\u75c7\\u72c0\\u65e5\\u671f\": \"2020-1-25\", \"\\u4f86\\u6e90\": \"\\u5883\\u5916\", \"\\u6848\\u4f8b\": 3}, {\"\\u51fa\\u73fe\\u75c7\\u72c0\\u65e5\\u671f\": \"2020-1-26\", \"\\u4f86\\u6e90\": \"\\u5883\\u5916\", \"\\u6848\\u4f8b\": 1}, {\"\\u51fa\\u73fe\\u75c7\\u72c0\\u65e5\\u671f\": \"2020-1-26\", \"\\u4f86\\u6e90\": \"\\u672c\\u571f\", \"\\u6848\\u4f8b\": 1}, {\"\\u51fa\\u73fe\\u75c7\\u72c0\\u65e5\\u671f\": \"2020-1-27\", \"\\u4f86\\u6e90\": \"\\u5883\\u5916\", \"\\u6848\\u4f8b\": 1}, {\"\\u51fa\\u73fe\\u75c7\\u72c0\\u65e5\\u671f\": \"2020-1-27\", \"\\u4f86\\u6e90\": \"\\u672c\\u571f\", \"\\u6848\\u4f8b\": 2}, {\"\\u51fa\\u73fe\\u75c7\\u72c0\\u65e5\\u671f\": \"2020-1-28\", \"\\u4f86\\u6e90\": \"\\u5883\\u5916\", \"\\u6848\\u4f8b\": 1}, {\"\\u51fa\\u73fe\\u75c7\\u72c0\\u65e5\\u671f\": \"2020-1-28\", \"\\u4f86\\u6e90\": \"\\u672c\\u571f\", \"\\u6848\\u4f8b\": 2}, {\"\\u51fa\\u73fe\\u75c7\\u72c0\\u65e5\\u671f\": \"2020-1-29\", \"\\u4f86\\u6e90\": \"\\u672c\\u571f\", \"\\u6848\\u4f8b\": 1}, {\"\\u51fa\\u73fe\\u75c7\\u72c0\\u65e5\\u671f\": \"2020-1-31\", \"\\u4f86\\u6e90\": \"\\u672c\\u571f\", \"\\u6848\\u4f8b\": 1}, {\"\\u51fa\\u73fe\\u75c7\\u72c0\\u65e5\\u671f\": \"2020-2-1\", \"\\u4f86\\u6e90\": \"\\u5883\\u5916\", \"\\u6848\\u4f8b\": 2}, {\"\\u51fa\\u73fe\\u75c7\\u72c0\\u65e5\\u671f\": \"2020-2-16\", \"\\u4f86\\u6e90\": \"\\u672c\\u571f\", \"\\u6848\\u4f8b\": 1}, {\"\\u51fa\\u73fe\\u75c7\\u72c0\\u65e5\\u671f\": \"2020-2-18-25\", \"\\u4f86\\u6e90\": \"\\u672c\\u571f\", \"\\u6848\\u4f8b\": 4}, {\"\\u51fa\\u73fe\\u75c7\\u72c0\\u65e5\\u671f\": \"2020-2-20\", \"\\u4f86\\u6e90\": \"\\u5883\\u5916\", \"\\u6848\\u4f8b\": 1}, {\"\\u51fa\\u73fe\\u75c7\\u72c0\\u65e5\\u671f\": \"2020-2-22\", \"\\u4f86\\u6e90\": \"\\u5883\\u5916\", \"\\u6848\\u4f8b\": 1}, {\"\\u51fa\\u73fe\\u75c7\\u72c0\\u65e5\\u671f\": \"2020-2-23\", \"\\u4f86\\u6e90\": \"\\u672c\\u571f\", \"\\u6848\\u4f8b\": 1}, {\"\\u51fa\\u73fe\\u75c7\\u72c0\\u65e5\\u671f\": \"2020-2-25\", \"\\u4f86\\u6e90\": \"\\u5883\\u5916\", \"\\u6848\\u4f8b\": 1}, {\"\\u51fa\\u73fe\\u75c7\\u72c0\\u65e5\\u671f\": \"2020-2-26\", \"\\u4f86\\u6e90\": \"\\u5883\\u5916\", \"\\u6848\\u4f8b\": 1}, {\"\\u51fa\\u73fe\\u75c7\\u72c0\\u65e5\\u671f\": \"2020-2-27\", \"\\u4f86\\u6e90\": \"\\u672c\\u571f\", \"\\u6848\\u4f8b\": 1}, {\"\\u51fa\\u73fe\\u75c7\\u72c0\\u65e5\\u671f\": \"2020-2-28\", \"\\u4f86\\u6e90\": \"\\u672c\\u571f\", \"\\u6848\\u4f8b\": 1}, {\"\\u51fa\\u73fe\\u75c7\\u72c0\\u65e5\\u671f\": \"2020-2-29\", \"\\u4f86\\u6e90\": \"\\u5883\\u5916\", \"\\u6848\\u4f8b\": 1}, {\"\\u51fa\\u73fe\\u75c7\\u72c0\\u65e5\\u671f\": \"2020-2-3\", \"\\u4f86\\u6e90\": \"\\u5883\\u5916\", \"\\u6848\\u4f8b\": 1}, {\"\\u51fa\\u73fe\\u75c7\\u72c0\\u65e5\\u671f\": \"2020-2-6\", \"\\u4f86\\u6e90\": \"\\u672c\\u571f\", \"\\u6848\\u4f8b\": 2}, {\"\\u51fa\\u73fe\\u75c7\\u72c0\\u65e5\\u671f\": \"2020-3-1\", \"\\u4f86\\u6e90\": \"\\u5883\\u5916\", \"\\u6848\\u4f8b\": 2}, {\"\\u51fa\\u73fe\\u75c7\\u72c0\\u65e5\\u671f\": \"2020-3-10\", \"\\u4f86\\u6e90\": \"\\u5883\\u5916\", \"\\u6848\\u4f8b\": 6}, {\"\\u51fa\\u73fe\\u75c7\\u72c0\\u65e5\\u671f\": \"2020-3-11\", \"\\u4f86\\u6e90\": \"\\u5883\\u5916\", \"\\u6848\\u4f8b\": 9}, {\"\\u51fa\\u73fe\\u75c7\\u72c0\\u65e5\\u671f\": \"2020-3-12\", \"\\u4f86\\u6e90\": \"\\u5883\\u5916\", \"\\u6848\\u4f8b\": 15}, {\"\\u51fa\\u73fe\\u75c7\\u72c0\\u65e5\\u671f\": \"2020-3-12\", \"\\u4f86\\u6e90\": \"\\u672c\\u571f\", \"\\u6848\\u4f8b\": 2}, {\"\\u51fa\\u73fe\\u75c7\\u72c0\\u65e5\\u671f\": \"2020-3-13\", \"\\u4f86\\u6e90\": \"\\u5883\\u5916\", \"\\u6848\\u4f8b\": 11}, {\"\\u51fa\\u73fe\\u75c7\\u72c0\\u65e5\\u671f\": \"2020-3-14\", \"\\u4f86\\u6e90\": \"\\u5883\\u5916\", \"\\u6848\\u4f8b\": 19}, {\"\\u51fa\\u73fe\\u75c7\\u72c0\\u65e5\\u671f\": \"2020-3-15\", \"\\u4f86\\u6e90\": \"\\u5883\\u5916\", \"\\u6848\\u4f8b\": 15}, {\"\\u51fa\\u73fe\\u75c7\\u72c0\\u65e5\\u671f\": \"2020-3-15\", \"\\u4f86\\u6e90\": \"\\u672c\\u571f\", \"\\u6848\\u4f8b\": 1}, {\"\\u51fa\\u73fe\\u75c7\\u72c0\\u65e5\\u671f\": \"2020-3-16\", \"\\u4f86\\u6e90\": \"\\u5883\\u5916\", \"\\u6848\\u4f8b\": 22}, {\"\\u51fa\\u73fe\\u75c7\\u72c0\\u65e5\\u671f\": \"2020-3-17\", \"\\u4f86\\u6e90\": \"\\u5883\\u5916\", \"\\u6848\\u4f8b\": 16}, {\"\\u51fa\\u73fe\\u75c7\\u72c0\\u65e5\\u671f\": \"2020-3-17\", \"\\u4f86\\u6e90\": \"\\u672c\\u571f\", \"\\u6848\\u4f8b\": 7}, {\"\\u51fa\\u73fe\\u75c7\\u72c0\\u65e5\\u671f\": \"2020-3-18\", \"\\u4f86\\u6e90\": \"\\u5883\\u5916\", \"\\u6848\\u4f8b\": 23}, {\"\\u51fa\\u73fe\\u75c7\\u72c0\\u65e5\\u671f\": \"2020-3-19\", \"\\u4f86\\u6e90\": \"\\u5883\\u5916\", \"\\u6848\\u4f8b\": 18}, {\"\\u51fa\\u73fe\\u75c7\\u72c0\\u65e5\\u671f\": \"2020-3-2\", \"\\u4f86\\u6e90\": \"\\u5883\\u5916\", \"\\u6848\\u4f8b\": 1}, {\"\\u51fa\\u73fe\\u75c7\\u72c0\\u65e5\\u671f\": \"2020-3-20\", \"\\u4f86\\u6e90\": \"\\u5883\\u5916\", \"\\u6848\\u4f8b\": 22}, {\"\\u51fa\\u73fe\\u75c7\\u72c0\\u65e5\\u671f\": \"2020-3-20\", \"\\u4f86\\u6e90\": \"\\u672c\\u571f\", \"\\u6848\\u4f8b\": 2}, {\"\\u51fa\\u73fe\\u75c7\\u72c0\\u65e5\\u671f\": \"2020-3-21\", \"\\u4f86\\u6e90\": \"\\u5883\\u5916\", \"\\u6848\\u4f8b\": 9}, {\"\\u51fa\\u73fe\\u75c7\\u72c0\\u65e5\\u671f\": \"2020-3-22\", \"\\u4f86\\u6e90\": \"\\u5883\\u5916\", \"\\u6848\\u4f8b\": 15}, {\"\\u51fa\\u73fe\\u75c7\\u72c0\\u65e5\\u671f\": \"2020-3-22\", \"\\u4f86\\u6e90\": \"\\u672c\\u571f\", \"\\u6848\\u4f8b\": 1}, {\"\\u51fa\\u73fe\\u75c7\\u72c0\\u65e5\\u671f\": \"2020-3-23\", \"\\u4f86\\u6e90\": \"\\u5883\\u5916\", \"\\u6848\\u4f8b\": 18}, {\"\\u51fa\\u73fe\\u75c7\\u72c0\\u65e5\\u671f\": \"2020-3-23\", \"\\u4f86\\u6e90\": \"\\u6566\\u7766\\n\\u9060\\u8a13\", \"\\u6848\\u4f8b\": 2}, {\"\\u51fa\\u73fe\\u75c7\\u72c0\\u65e5\\u671f\": \"2020-3-23\", \"\\u4f86\\u6e90\": \"\\u672c\\u571f\", \"\\u6848\\u4f8b\": 3}, {\"\\u51fa\\u73fe\\u75c7\\u72c0\\u65e5\\u671f\": \"2020-3-24\", \"\\u4f86\\u6e90\": \"\\u5883\\u5916\", \"\\u6848\\u4f8b\": 6}, {\"\\u51fa\\u73fe\\u75c7\\u72c0\\u65e5\\u671f\": \"2020-3-24\", \"\\u4f86\\u6e90\": \"\\u672c\\u571f\", \"\\u6848\\u4f8b\": 1}, {\"\\u51fa\\u73fe\\u75c7\\u72c0\\u65e5\\u671f\": \"2020-3-25\", \"\\u4f86\\u6e90\": \"\\u5883\\u5916\", \"\\u6848\\u4f8b\": 11}, {\"\\u51fa\\u73fe\\u75c7\\u72c0\\u65e5\\u671f\": \"2020-3-25\", \"\\u4f86\\u6e90\": \"\\u672c\\u571f\", \"\\u6848\\u4f8b\": 2}, {\"\\u51fa\\u73fe\\u75c7\\u72c0\\u65e5\\u671f\": \"2020-3-26\", \"\\u4f86\\u6e90\": \"\\u5883\\u5916\", \"\\u6848\\u4f8b\": 3}, {\"\\u51fa\\u73fe\\u75c7\\u72c0\\u65e5\\u671f\": \"2020-3-26\", \"\\u4f86\\u6e90\": \"\\u672c\\u571f\", \"\\u6848\\u4f8b\": 2}, {\"\\u51fa\\u73fe\\u75c7\\u72c0\\u65e5\\u671f\": \"2020-3-27\", \"\\u4f86\\u6e90\": \"\\u5883\\u5916\", \"\\u6848\\u4f8b\": 6}, {\"\\u51fa\\u73fe\\u75c7\\u72c0\\u65e5\\u671f\": \"2020-3-28\", \"\\u4f86\\u6e90\": \"\\u5883\\u5916\", \"\\u6848\\u4f8b\": 6}, {\"\\u51fa\\u73fe\\u75c7\\u72c0\\u65e5\\u671f\": \"2020-3-29\", \"\\u4f86\\u6e90\": \"\\u5883\\u5916\", \"\\u6848\\u4f8b\": 1}, {\"\\u51fa\\u73fe\\u75c7\\u72c0\\u65e5\\u671f\": \"2020-3-3\", \"\\u4f86\\u6e90\": \"\\u672c\\u571f\", \"\\u6848\\u4f8b\": 1}, {\"\\u51fa\\u73fe\\u75c7\\u72c0\\u65e5\\u671f\": \"2020-3-30\", \"\\u4f86\\u6e90\": \"\\u5883\\u5916\", \"\\u6848\\u4f8b\": 6}, {\"\\u51fa\\u73fe\\u75c7\\u72c0\\u65e5\\u671f\": \"2020-3-30\", \"\\u4f86\\u6e90\": \"\\u6566\\u7766\\n\\u9060\\u8a13\", \"\\u6848\\u4f8b\": 1}, {\"\\u51fa\\u73fe\\u75c7\\u72c0\\u65e5\\u671f\": \"2020-3-30\", \"\\u4f86\\u6e90\": \"\\u672c\\u571f\", \"\\u6848\\u4f8b\": 1}, {\"\\u51fa\\u73fe\\u75c7\\u72c0\\u65e5\\u671f\": \"2020-3-31\", \"\\u4f86\\u6e90\": \"\\u5883\\u5916\", \"\\u6848\\u4f8b\": 3}, {\"\\u51fa\\u73fe\\u75c7\\u72c0\\u65e5\\u671f\": \"2020-3-5\", \"\\u4f86\\u6e90\": \"\\u5883\\u5916\", \"\\u6848\\u4f8b\": 1}, {\"\\u51fa\\u73fe\\u75c7\\u72c0\\u65e5\\u671f\": \"2020-3-6\", \"\\u4f86\\u6e90\": \"\\u5883\\u5916\", \"\\u6848\\u4f8b\": 4}, {\"\\u51fa\\u73fe\\u75c7\\u72c0\\u65e5\\u671f\": \"2020-3-6\", \"\\u4f86\\u6e90\": \"\\u672c\\u571f\", \"\\u6848\\u4f8b\": 1}, {\"\\u51fa\\u73fe\\u75c7\\u72c0\\u65e5\\u671f\": \"2020-3-7\", \"\\u4f86\\u6e90\": \"\\u5883\\u5916\", \"\\u6848\\u4f8b\": 6}, {\"\\u51fa\\u73fe\\u75c7\\u72c0\\u65e5\\u671f\": \"2020-3-8\", \"\\u4f86\\u6e90\": \"\\u5883\\u5916\", \"\\u6848\\u4f8b\": 8}, {\"\\u51fa\\u73fe\\u75c7\\u72c0\\u65e5\\u671f\": \"2020-3-9\", \"\\u4f86\\u6e90\": \"\\u5883\\u5916\", \"\\u6848\\u4f8b\": 3}, {\"\\u51fa\\u73fe\\u75c7\\u72c0\\u65e5\\u671f\": \"2020-4-1\", \"\\u4f86\\u6e90\": \"\\u5883\\u5916\", \"\\u6848\\u4f8b\": 2}, {\"\\u51fa\\u73fe\\u75c7\\u72c0\\u65e5\\u671f\": \"2020-4-1\", \"\\u4f86\\u6e90\": \"\\u6566\\u7766\\n\\u9060\\u8a13\", \"\\u6848\\u4f8b\": 1}, {\"\\u51fa\\u73fe\\u75c7\\u72c0\\u65e5\\u671f\": \"2020-4-10\", \"\\u4f86\\u6e90\": \"\\u5883\\u5916\", \"\\u6848\\u4f8b\": 1}, {\"\\u51fa\\u73fe\\u75c7\\u72c0\\u65e5\\u671f\": \"2020-4-12\", \"\\u4f86\\u6e90\": \"\\u6566\\u7766\\n\\u9060\\u8a13\", \"\\u6848\\u4f8b\": 1}, {\"\\u51fa\\u73fe\\u75c7\\u72c0\\u65e5\\u671f\": \"2020-4-13\", \"\\u4f86\\u6e90\": \"\\u5883\\u5916\", \"\\u6848\\u4f8b\": 1}, {\"\\u51fa\\u73fe\\u75c7\\u72c0\\u65e5\\u671f\": \"2020-4-13\", \"\\u4f86\\u6e90\": \"\\u6566\\u7766\\n\\u9060\\u8a13\", \"\\u6848\\u4f8b\": 2}, {\"\\u51fa\\u73fe\\u75c7\\u72c0\\u65e5\\u671f\": \"2020-4-14\", \"\\u4f86\\u6e90\": \"\\u6566\\u7766\\n\\u9060\\u8a13\", \"\\u6848\\u4f8b\": 5}, {\"\\u51fa\\u73fe\\u75c7\\u72c0\\u65e5\\u671f\": \"2020-4-15\", \"\\u4f86\\u6e90\": \"\\u6566\\u7766\\n\\u9060\\u8a13\", \"\\u6848\\u4f8b\": 2}, {\"\\u51fa\\u73fe\\u75c7\\u72c0\\u65e5\\u671f\": \"2020-4-17\", \"\\u4f86\\u6e90\": \"\\u6566\\u7766\\n\\u9060\\u8a13\", \"\\u6848\\u4f8b\": 1}, {\"\\u51fa\\u73fe\\u75c7\\u72c0\\u65e5\\u671f\": \"2020-4-18\", \"\\u4f86\\u6e90\": \"\\u6566\\u7766\\n\\u9060\\u8a13\", \"\\u6848\\u4f8b\": 4}, {\"\\u51fa\\u73fe\\u75c7\\u72c0\\u65e5\\u671f\": \"2020-4-19\", \"\\u4f86\\u6e90\": \"\\u6566\\u7766\\n\\u9060\\u8a13\", \"\\u6848\\u4f8b\": 2}, {\"\\u51fa\\u73fe\\u75c7\\u72c0\\u65e5\\u671f\": \"2020-4-2\", \"\\u4f86\\u6e90\": \"\\u5883\\u5916\", \"\\u6848\\u4f8b\": 3}, {\"\\u51fa\\u73fe\\u75c7\\u72c0\\u65e5\\u671f\": \"2020-4-22\", \"\\u4f86\\u6e90\": \"\\u6566\\u7766\\n\\u9060\\u8a13\", \"\\u6848\\u4f8b\": 1}, {\"\\u51fa\\u73fe\\u75c7\\u72c0\\u65e5\\u671f\": \"2020-4-3\", \"\\u4f86\\u6e90\": \"\\u5883\\u5916\", \"\\u6848\\u4f8b\": 2}, {\"\\u51fa\\u73fe\\u75c7\\u72c0\\u65e5\\u671f\": \"2020-4-4\", \"\\u4f86\\u6e90\": \"\\u5883\\u5916\", \"\\u6848\\u4f8b\": 6}, {\"\\u51fa\\u73fe\\u75c7\\u72c0\\u65e5\\u671f\": \"2020-4-4\", \"\\u4f86\\u6e90\": \"\\u672c\\u571f\", \"\\u6848\\u4f8b\": 1}, {\"\\u51fa\\u73fe\\u75c7\\u72c0\\u65e5\\u671f\": \"2020-4-5\", \"\\u4f86\\u6e90\": \"\\u5883\\u5916\", \"\\u6848\\u4f8b\": 1}, {\"\\u51fa\\u73fe\\u75c7\\u72c0\\u65e5\\u671f\": \"2020-4-5\", \"\\u4f86\\u6e90\": \"\\u6566\\u7766\\n\\u9060\\u8a13\", \"\\u6848\\u4f8b\": 1}, {\"\\u51fa\\u73fe\\u75c7\\u72c0\\u65e5\\u671f\": \"2020-4-6\", \"\\u4f86\\u6e90\": \"\\u5883\\u5916\", \"\\u6848\\u4f8b\": 1}]}}, {\"actions\": false, \"mode\": \"vega-lite\"});\n",
              "</script>"
            ],
            "text/plain": [
              "alt.Chart(...)"
            ]
          },
          "execution_count": 12,
          "metadata": {},
          "output_type": "execute_result"
        }
      ],
      "source": [
        "title = \"嚴重特殊性傳染性肺炎確診個案趨勢圖 - 依發病日\"\n",
        "alt.Chart(data, title=title).mark_bar()\\\n",
        ".encode(\n",
        "    x=alt.X('出現症狀日期:T', title=\"發病日\", axis=alt.Axis(\n",
        "        grid=False,\n",
        "        format=\"%m/%d\")),\n",
        "    y='案例:Q',\n",
        "    color='來源:N',\n",
        "    tooltip=['出現症狀日期:T', '來源', '案例']\n",
        ").properties(\n",
        "    width=700\n",
        ")"
      ]
    },
    {
      "cell_type": "markdown",
      "metadata": {
        "papermill": {
          "duration": 0.043513,
          "end_time": "2020-04-30T06:07:58.336668",
          "exception": false,
          "start_time": "2020-04-30T06:07:58.293155",
          "status": "completed"
        },
        "tags": [],
        "id": "2wiPnDU9rZm_"
      },
      "source": [
        "畫出圖後境內外的確診人數趨勢一目了然。儘管今年 3 月起境外確診案例突增，本土感染的案例比例仍舊很低，表示台灣還沒有大規模社區傳播的現象存在。\n",
        "\n",
        "另外從發病日來看，今年 3 月中旬的爆發已漸平緩。值得一提的是疾管署並未將[ 4 月中旬海軍敦睦艦隊官兵的感染事件](https://www.facebook.com/tsaiingwen/posts/10156651856531065)列在境內或境外，而是另開分類。因此疾管署首頁上的境內外趨勢圖是沒有顯示敦睦類別的。（國內檢驗項目的確診數則有反應上去）"
      ]
    },
    {
      "cell_type": "markdown",
      "metadata": {
        "papermill": {
          "duration": 0.043765,
          "end_time": "2020-04-30T06:07:58.426202",
          "exception": false,
          "start_time": "2020-04-30T06:07:58.382437",
          "status": "completed"
        },
        "tags": [],
        "id": "EUjWxkkPrZm_"
      },
      "source": [
        "好啦！至此我們已經將疾管署網站上跟台灣相關的 COVID-19 疫情圖表完整地重現出來了。現在讓我們做點總結。"
      ]
    },
    {
      "cell_type": "markdown",
      "metadata": {
        "papermill": {
          "duration": 0.042402,
          "end_time": "2020-04-30T06:07:58.509747",
          "exception": false,
          "start_time": "2020-04-30T06:07:58.467345",
          "status": "completed"
        },
        "tags": [],
        "id": "imJQujFCrZm_"
      },
      "source": [
        "## 最大化公開數據的價值：現在輪到你了"
      ]
    },
    {
      "cell_type": "markdown",
      "metadata": {
        "papermill": {
          "duration": 0.046146,
          "end_time": "2020-04-30T06:07:58.599637",
          "exception": false,
          "start_time": "2020-04-30T06:07:58.553491",
          "status": "completed"
        },
        "tags": [],
        "id": "IQ4hyKxvrZm_"
      },
      "source": [
        "> quote: 要讓公開數據發揮最大價值，我們得讓每位公民都能輕鬆存取並理解這些數據。"
      ]
    },
    {
      "cell_type": "markdown",
      "metadata": {
        "papermill": {
          "duration": 0.038318,
          "end_time": "2020-04-30T06:07:58.676080",
          "exception": false,
          "start_time": "2020-04-30T06:07:58.637762",
          "status": "completed"
        },
        "tags": [],
        "id": "9yovFPEZrZm_"
      },
      "source": [
        "在這篇文章裡我向你簡單地展示了如何透過 Python （主要使用 [pandas](https://pandas.pydata.org/) 以及 [Altair](https://altair-viz.github.io/index.html)） 來有效率地存取、處理並視覺化台灣 COVID-19 疫情的公開數據。作者自己雖非流行病學專業也不是公共衛生相關出身，但看到社會上有那麼多各行各業的抗役英雄，便希望也能用自己的方式為這次的抗疫做出點微薄貢獻。希望這篇文章能鼓勵更多人深入了解並分析 COVID-19 疫情，進而為社會帶來新的洞見。"
      ]
    },
    {
      "cell_type": "markdown",
      "metadata": {
        "papermill": {
          "duration": 0.037994,
          "end_time": "2020-04-30T06:07:58.751509",
          "exception": false,
          "start_time": "2020-04-30T06:07:58.713515",
          "status": "completed"
        },
        "tags": [],
        "id": "l4tZCpYsrZm_"
      },
      "source": [
        "> img: intro/left-nav-demo.jpg|desc:使用桌筆電閱讀的讀者可以善用左側導覽功能|dark"
      ]
    },
    {
      "cell_type": "markdown",
      "metadata": {
        "papermill": {
          "duration": 0.045219,
          "end_time": "2020-04-30T06:07:58.835658",
          "exception": false,
          "start_time": "2020-04-30T06:07:58.790439",
          "status": "completed"
        },
        "tags": [],
        "id": "1IsvHT89rZm_"
      },
      "source": [
        "我想你現在已經具備能夠探索台灣 COVID-19 疫情數據的基本能力了。我也相信透過讓更多人參與並了解疫情能對我們的社會帶來一些正面的影響。你現在有幾件事情可以做：\n",
        "\n",
        "- 查看廣大鄉民整理的[台灣疫情 Google 試算表](https://docs.google.com/spreadsheets/d/1Kp5IC5IEI2ffaOSZY1daYoi2u50bjUHJW-IgfHoEq8o/edit#gid=0)以深入了解疫情\n",
        "- 回到文章開頭或利用左側導覽點擊 Colab 連結，抓取感興趣的數據分析\n",
        "- 分享本文以讓更多人能夠參與研究台灣新冠疫情並最大化公開數據價值"
      ]
    },
    {
      "cell_type": "markdown",
      "metadata": {
        "papermill": {
          "duration": 0.044753,
          "end_time": "2020-04-30T06:07:58.924613",
          "exception": false,
          "start_time": "2020-04-30T06:07:58.879860",
          "status": "completed"
        },
        "tags": [],
        "id": "A8NWKxVVrZm_"
      },
      "source": [
        "另外如果你擔心自己對新型冠狀病毒或是傳染病的科普知識不足，我強力推薦先花 1 小時[在 hahow 好學校平台上與陳建仁副總統學習防疫的基本知識](https://hahow.in/courses/5e8d70a52aa77e6f34d6fded/main)："
      ]
    },
    {
      "cell_type": "markdown",
      "metadata": {
        "papermill": {
          "duration": 0.040078,
          "end_time": "2020-04-30T06:07:59.003517",
          "exception": false,
          "start_time": "2020-04-30T06:07:58.963439",
          "status": "completed"
        },
        "tags": [],
        "id": "DlxYJgJIrZnD"
      },
      "source": [
        "> img: intro/hahow-open-course-vice-president.jpg|desc:全民防疫通識課：陳建仁副總統來開講|source:hahow 好學校|url:https://hahow.in/courses/5e8d70a52aa77e6f34d6fded/main"
      ]
    },
    {
      "cell_type": "markdown",
      "metadata": {
        "papermill": {
          "duration": 0.037543,
          "end_time": "2020-04-30T06:07:59.079511",
          "exception": false,
          "start_time": "2020-04-30T06:07:59.041968",
          "status": "completed"
        },
        "tags": [],
        "id": "3lzSwyw5rZnE"
      },
      "source": [
        "好啦，本章節就到此告一段落！\n",
        "\n",
        "我們在下一章會利用此章學到的數據處理技巧進一步對台灣 COVID-19 疫情做些新的視覺化與簡單分析。在那之前別忘了隨時做好自主健康管理，有任何回饋、新的視覺化圖表的建議也請讓我知道！我們下次見：）"
      ]
    },
    {
      "cell_type": "code",
      "execution_count": null,
      "metadata": {
        "papermill": {
          "duration": 0.040168,
          "end_time": "2020-04-30T06:07:59.159711",
          "exception": false,
          "start_time": "2020-04-30T06:07:59.119543",
          "status": "completed"
        },
        "tags": [],
        "id": "NilmwZ0XrZnE"
      },
      "outputs": [],
      "source": [
        ""
      ]
    }
  ],
  "metadata": {
    "kernelspec": {
      "display_name": "Python 3",
      "language": "python",
      "name": "python3"
    },
    "language_info": {
      "codemirror_mode": {
        "name": "ipython",
        "version": 3
      },
      "file_extension": ".py",
      "mimetype": "text/x-python",
      "name": "python",
      "nbconvert_exporter": "python",
      "pygments_lexer": "ipython3",
      "version": "3.6.10"
    },
    "papermill": {
      "duration": 11.986937,
      "end_time": "2020-04-30T06:07:59.305088",
      "environment_variables": {},
      "exception": null,
      "input_path": "2020-04-13-use-pandas-and-altair-to-access-public-data-and-basic-plotting.ipynb",
      "output_path": "2020-04-13-use-pandas-and-altair-to-access-public-data-and-basic-plotting.ipynb",
      "parameters": {},
      "start_time": "2020-04-30T06:07:47.318151",
      "version": "2.1.1"
    },
    "toc-autonumbering": true,
    "colab": {
      "name": "「2020-04-13-use-pandas-and-altair-to-access-public-data-and-basic-plotting.ipynb」的副本",
      "provenance": [],
      "collapsed_sections": [
        "t1Md_YX7rZm8",
        "imJQujFCrZm_"
      ]
    }
  },
  "nbformat": 4,
  "nbformat_minor": 0
}